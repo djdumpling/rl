{
 "cells": [
  {
   "cell_type": "code",
   "execution_count": null,
   "id": "268c820f",
   "metadata": {},
   "outputs": [
    {
     "name": "stdout",
     "output_type": "stream",
     "text": [
      "Loaded 2335220 samples from WebInstructSub\n"
     ]
    }
   ],
   "source": [
    "import numpy as np\n",
    "import random\n",
    "import torch\n",
    "from accelerate import Accelerator\n",
    "from utils import *\n",
    "import grpo_utils\n",
    "\n",
    "from grpo_utils import load_model, load_tokenizer, get_dataloader\n",
    "\n",
    "model_name = \"HuggingFaceTB/SmolLM-135M-Instruct\"\n",
    "batch_size = 2\n",
    "# number of sequences generated\n",
    "n_rollouts = 3\n",
    "buffer_size = 6\n",
    "# thinking space\n",
    "max_new_tokens = 100\n",
    "\n",
    "llm = load_model(model_name)\n",
    "for param in llm.parameters():\n",
    "    param.requires_grad = True\n",
    "tokenizer = load_tokenizer(model_name)\n",
    "dataloader = get_dataloader(\"webinstruct\", tokenizer)\n",
    "optimizer = torch.optim.AdamW(llm.parameters(), lr = 1e-5)\n",
    "\n",
    "accelerator = Accelerator()\n",
    "llm, tokenizer, dataloader, optimizer = accelerator.prepare(llm, tokenizer, dataloader, optimizer)"
   ]
  },
  {
   "cell_type": "code",
   "execution_count": 2,
   "id": "a72b1154",
   "metadata": {},
   "outputs": [
    {
     "data": {
      "text/plain": [
       "dict_keys(['inputs', 'validator'])"
      ]
     },
     "execution_count": 2,
     "metadata": {},
     "output_type": "execute_result"
    }
   ],
   "source": [
    "batch = next(iter(dataloader))\n",
    "batch.keys()"
   ]
  },
  {
   "cell_type": "code",
   "execution_count": 3,
   "id": "108fba73",
   "metadata": {},
   "outputs": [
    {
     "data": {
      "text/plain": [
       "[{'question': 'I need to prove: If $p\\\\equiv 5 \\\\bmod 16$ then there exists $x\\\\in \\\\mathbb{Z}_2$ such that $px^4=1$. How can I approach this proof?',\n",
       "  'expected_answer': 'According to the corollary of Theorem 4 in Serre\\'s \"Cours d\\'arithmétique\", there exists a solution in $\\\\mathbb{Z}_2$ if $p$ is congruent to $1$ modulo a higher power of $2$. Since $p\\\\equiv 5 \\\\bmod 16$, it is congruent to $1$ modulo $8$. Therefore, there exists a solution $x\\\\in \\\\mathbb{Z}_2$ such that $px^4=1$.',\n",
       "  'source': 'mathstackexchange',\n",
       "  'orig_question': \"I need to prove: If $p\\\\equiv 1 \\\\bmod 16$ then there exists $x\\\\in \\\\mathbb{Z}_2$ ($2$-adic ring) so that $$px^4=1.$$ I'm not sure how to start this. I thought maybe to use some results on quadratic form $py^2=1$ and then to prove that solution $y$ has root in $\\\\mathbb{Z}_2$?\",\n",
       "  'orig_answer': 'Unless you made a misprint, this does not seem possible. If p is simply odd, then it is invertible in $Z_2$, and the problem amounts to extract a 4-th root of 1/p in $Z_2$ . But already in $Q_2$ this is not possible in general. Write p = 1 + 2q, so that 1/p = 1 - 2q + 4 $q^2$ - ... (2-adically convergent series). But the structure of  $Q_2$* modulo squares is known (see e.g. Serre, \"Cours d\\'arithmétique\" chapter 1), where theorem 4 says that a 2-adic unit u is a square iff u is congruent to $1$ modulo 8. But if you take p to be congruent to $1$ modulo a higher power of 2 , then there could be a solution (see the corollary to thm. 4).\\n    ',\n",
       "  'index': 1465439,\n",
       "  'validate_function': <bound method WebInstructDataset._validate_answer of <grpo_utils.WebInstructDataset object at 0x30bfbc0b0>>},\n",
       " {'question': \"Consider the vector space $$V=\\\\left\\\\{f(x)\\\\in\\\\mathbb{R}[x];\\\\ \\\\deg f<5,\\\\ f''(0)=0,\\\\ f(1)=0,\\\\ f(-1)=0\\\\right\\\\}.$$ Without using matrices, how can we express the polynomials in $V$ and determine the dimension of $V$?\",\n",
       "  'expected_answer': \"Let $f(x) = a_0 + a_1x + a_2x^2 + a_3x^3 + a_4x^4$. Using the given conditions, we can derive relations among the coefficients $a_i$:\\n\\n1. From $f(1) = 0$, we have $a_0 + a_1 + a_2 + a_3 + a_4 = 0$.\\n2. Similarly, from $f(-1) = 0$, we get $a_0 - a_1 + a_2 - a_3 + a_4 = 0$.\\n\\nThese two equations imply that $f(x)$ has $(x-1)$ and $(x+1)$ as factors, hence $f(x)$ can be factored as $f(x) = (x^2 - 1)(ax^2 + bx + c)$, where $a, b, c \\\\in \\\\mathbb{R}$.\\n\\nNow, let's find the second derivative of $f(x)$:\\n$$f''(x) = 2a(x^2 - 1) + 2bx + 2acx + 2bc$$\\n\\nSince $f''(0) = 0$, we have $2a \\\\cdot (-1) + 2bc = 0$, which simplifies to $-2a + 2bc = 0$. This implies that the coefficient of $x^2$ in $f(x)$, which is $2ac$, must be zero.\\n\\nTherefore, $a = 0$ or $c = 0$. If $a = 0$, then $f(x) = (x^2 - 1)(cx)$, which gives us two parameters ($c$ and the overall constant). If $c = 0$, then $f(x) = (x^2 - 1)(bx)$, again leaving us with two parameters ($b$ and the overall constant).\\n\\nIn either case, since we have two independent conditions (the roots at $1$ and $-1$) and two degrees of freedom in the polynomial, the dimension of $V$ is $2$.\",\n",
       "  'source': 'mathstackexchange',\n",
       "  'orig_question': \"$$V=\\\\bigl\\\\{f(x)\\\\in\\\\mathbb{R}[x];\\\\ \\\\deg f<5,\\\\ f''(0)=f(1)=f(-1)=0\\\\bigr\\\\}.$$ NOTE: The degree is strictly less than 5 not equal. Also my prof and T.A. said I should do $f(1)=f(-1)$ then solve it then do $f''(0)=0$ somewhere along the lines but I don't understand how to go about doing it that way. PLEASE!! Can someone solve it doing it that way and not using matrices because for these questions you don't need to use matrices to solve it.\",\n",
       "  'orig_answer': \"Hint: \\n\\nWrite $$\\nf(x)=a_0+a_1x+\\\\cdots+a_4x^4.\\n$$\\nFind the relations among the $a_i$'s using $$f''(0)=f(1)=f(-1)=0.$$ For instance, what can you tell by $f(1)=0$? \\n\\nOnce you have the relations (precisely, linear equations) for these $a_i$'s, you would get a subspace of $\\\\mathbb{R}^5$, the dimension of which is what you are looking for. \\n     Because $f(1)=0,$ you know $x-1$ is a factor of $f(x).$ Because $f(-1)=0,$ you know $x+1$ is a factor of $f(x).$ Therefore $(x-1)(x+1)=x^2-1$ is a factor of $f(x).$\\n\\nKnowing that $f(x)$ is a polynomial of degree at most $4,$ and has a factor of $x^2-1,$ we must have $f(x)=(x^2-1)(ax^2+bx+c)$ for some constants $a,$ $b,$ and $c.$ \\n\\nNow consider the second derivative of $f(x)$; it is a polynomial of degree two or less, something of the form $g(x)=px^2+qx+r,$ and the value of $r$ is a multiple of the coefficient of $x^2$ in $f(x).$ But we know $g(0)=0,$ so $r=0.$ Therefore the coefficient of $x^2$ in $f(x)$ is zero.\\n\\nWork out the coefficient of $x^2$ in $f(x)$ in terms of $a,$ $b,$ and $c.$ (Hint: $b$ isn't involved.) Express the fact that this coefficient is zero. The result will be an equation that lets you eliminate either $a$ or $c.$\\n\\nTo recapitulate: $f(1)=f(-1)=0$ lets you factor $f(x),$ leaving only three unknown parameters, and $f''(0)=0$ gives you a relationship among those unknowns, allowing you to reduce them to two.\\n\\nI think writing $f(x)$ in its factored form makes it especially simple to rewrite it as a linear combination of two polynomials.\\n    \",\n",
       "  'index': 1304695,\n",
       "  'validate_function': <bound method WebInstructDataset._validate_answer of <grpo_utils.WebInstructDataset object at 0x30bfbc0b0>>}]"
      ]
     },
     "execution_count": 3,
     "metadata": {},
     "output_type": "execute_result"
    }
   ],
   "source": [
    "batch[\"validator\"]"
   ]
  },
  {
   "cell_type": "code",
   "execution_count": 4,
   "id": "79f3ed5a",
   "metadata": {},
   "outputs": [
    {
     "data": {
      "text/plain": [
       "dict_keys(['input_ids', 'attention_mask'])"
      ]
     },
     "execution_count": 4,
     "metadata": {},
     "output_type": "execute_result"
    }
   ],
   "source": [
    "batch[\"inputs\"].keys()"
   ]
  },
  {
   "cell_type": "code",
   "execution_count": 10,
   "id": "86fcc8fa",
   "metadata": {},
   "outputs": [
    {
     "data": {
      "text/plain": [
       "tensor([[   57,   737,   288,  ...,     2,     2,     2],\n",
       "        [16865,   260,  8431,  ...,     2,     2,     2]], device='mps:0')"
      ]
     },
     "execution_count": 10,
     "metadata": {},
     "output_type": "execute_result"
    }
   ],
   "source": [
    "batch[\"inputs\"][\"input_ids\"]"
   ]
  },
  {
   "cell_type": "code",
   "execution_count": null,
   "id": "ac3174b1",
   "metadata": {},
   "outputs": [
    {
     "data": {
      "text/plain": [
       "torch.Size([2, 512])"
      ]
     },
     "execution_count": 5,
     "metadata": {},
     "output_type": "execute_result"
    }
   ],
   "source": [
    "batch[\"inputs\"][\"input_ids\"].shape"
   ]
  },
  {
   "cell_type": "code",
   "execution_count": 6,
   "id": "d135b8ee",
   "metadata": {},
   "outputs": [
    {
     "name": "stdout",
     "output_type": "stream",
     "text": [
      "I need to prove: If $p\\equiv 5 \\bmod 16$ then there exists $x\\in \\mathbb{Z}_2$ such that $px^4=1$. How can I approach this proof?<|im_end|><|im_end|><|im_end|><|im_end|><|im_end|><|im_end|><|im_end|><|im_end|><|im_end|><|im_end|><|im_end|><|im_end|><|im_end|><|im_end|><|im_end|><|im_end|><|im_end|><|im_end|><|im_end|><|im_end|><|im_end|><|im_end|><|im_end|><|im_end|><|im_end|><|im_end|><|im_end|><|im_end|><|im_end|><|im_end|><|im_end|><|im_end|><|im_end|><|im_end|><|im_end|><|im_end|><|im_end|><|im_end|><|im_end|><|im_end|><|im_end|><|im_end|><|im_end|><|im_end|><|im_end|><|im_end|><|im_end|><|im_end|><|im_end|><|im_end|><|im_end|><|im_end|><|im_end|><|im_end|><|im_end|><|im_end|><|im_end|><|im_end|><|im_end|><|im_end|><|im_end|><|im_end|><|im_end|><|im_end|><|im_end|><|im_end|><|im_end|><|im_end|><|im_end|><|im_end|><|im_end|><|im_end|><|im_end|><|im_end|><|im_end|><|im_end|><|im_end|><|im_end|><|im_end|><|im_end|><|im_end|><|im_end|><|im_end|><|im_end|><|im_end|><|im_end|><|im_end|><|im_end|><|im_end|><|im_end|><|im_end|><|im_end|><|im_end|><|im_end|><|im_end|><|im_end|><|im_end|><|im_end|><|im_end|><|im_end|><|im_end|><|im_end|><|im_end|><|im_end|><|im_end|><|im_end|><|im_end|><|im_end|><|im_end|><|im_end|><|im_end|><|im_end|><|im_end|><|im_end|><|im_end|><|im_end|><|im_end|><|im_end|><|im_end|><|im_end|><|im_end|><|im_end|><|im_end|><|im_end|><|im_end|><|im_end|><|im_end|><|im_end|><|im_end|><|im_end|><|im_end|><|im_end|><|im_end|><|im_end|><|im_end|><|im_end|><|im_end|><|im_end|><|im_end|><|im_end|><|im_end|><|im_end|><|im_end|><|im_end|><|im_end|><|im_end|><|im_end|><|im_end|><|im_end|><|im_end|><|im_end|><|im_end|><|im_end|><|im_end|><|im_end|><|im_end|><|im_end|><|im_end|><|im_end|><|im_end|><|im_end|><|im_end|><|im_end|><|im_end|><|im_end|><|im_end|><|im_end|><|im_end|><|im_end|><|im_end|><|im_end|><|im_end|><|im_end|><|im_end|><|im_end|><|im_end|><|im_end|><|im_end|><|im_end|><|im_end|><|im_end|><|im_end|><|im_end|><|im_end|><|im_end|><|im_end|><|im_end|><|im_end|><|im_end|><|im_end|><|im_end|><|im_end|><|im_end|><|im_end|><|im_end|><|im_end|><|im_end|><|im_end|><|im_end|><|im_end|><|im_end|><|im_end|><|im_end|><|im_end|><|im_end|><|im_end|><|im_end|><|im_end|><|im_end|><|im_end|><|im_end|><|im_end|><|im_end|><|im_end|><|im_end|><|im_end|><|im_end|><|im_end|><|im_end|><|im_end|><|im_end|><|im_end|><|im_end|><|im_end|><|im_end|><|im_end|><|im_end|><|im_end|><|im_end|><|im_end|><|im_end|><|im_end|><|im_end|><|im_end|><|im_end|><|im_end|><|im_end|><|im_end|><|im_end|><|im_end|><|im_end|><|im_end|><|im_end|><|im_end|><|im_end|><|im_end|><|im_end|><|im_end|><|im_end|><|im_end|><|im_end|><|im_end|><|im_end|><|im_end|><|im_end|><|im_end|><|im_end|><|im_end|><|im_end|><|im_end|><|im_end|><|im_end|><|im_end|><|im_end|><|im_end|><|im_end|><|im_end|><|im_end|><|im_end|><|im_end|><|im_end|><|im_end|><|im_end|><|im_end|><|im_end|><|im_end|><|im_end|><|im_end|><|im_end|><|im_end|><|im_end|><|im_end|><|im_end|><|im_end|><|im_end|><|im_end|><|im_end|><|im_end|><|im_end|><|im_end|><|im_end|><|im_end|><|im_end|><|im_end|><|im_end|><|im_end|><|im_end|><|im_end|><|im_end|><|im_end|><|im_end|><|im_end|><|im_end|><|im_end|><|im_end|><|im_end|><|im_end|><|im_end|><|im_end|><|im_end|><|im_end|><|im_end|><|im_end|><|im_end|><|im_end|><|im_end|><|im_end|><|im_end|><|im_end|><|im_end|><|im_end|><|im_end|><|im_end|><|im_end|><|im_end|><|im_end|><|im_end|><|im_end|><|im_end|><|im_end|><|im_end|><|im_end|><|im_end|><|im_end|><|im_end|><|im_end|><|im_end|><|im_end|><|im_end|><|im_end|><|im_end|><|im_end|><|im_end|><|im_end|><|im_end|><|im_end|><|im_end|><|im_end|><|im_end|><|im_end|><|im_end|><|im_end|><|im_end|><|im_end|><|im_end|><|im_end|><|im_end|><|im_end|><|im_end|><|im_end|><|im_end|><|im_end|><|im_end|><|im_end|><|im_end|><|im_end|><|im_end|><|im_end|><|im_end|><|im_end|><|im_end|><|im_end|><|im_end|><|im_end|><|im_end|><|im_end|><|im_end|><|im_end|><|im_end|><|im_end|><|im_end|><|im_end|><|im_end|><|im_end|><|im_end|><|im_end|><|im_end|><|im_end|><|im_end|><|im_end|><|im_end|><|im_end|><|im_end|><|im_end|><|im_end|><|im_end|><|im_end|><|im_end|><|im_end|><|im_end|><|im_end|><|im_end|><|im_end|><|im_end|><|im_end|><|im_end|><|im_end|><|im_end|><|im_end|><|im_end|><|im_end|><|im_end|><|im_end|><|im_end|><|im_end|><|im_end|><|im_end|><|im_end|><|im_end|><|im_end|><|im_end|><|im_end|><|im_end|><|im_end|><|im_end|><|im_end|><|im_end|><|im_end|><|im_end|><|im_end|><|im_end|><|im_end|><|im_end|><|im_end|><|im_end|><|im_end|><|im_end|><|im_end|><|im_end|><|im_end|><|im_end|><|im_end|><|im_end|><|im_end|><|im_end|><|im_end|><|im_end|><|im_end|><|im_end|><|im_end|><|im_end|><|im_end|><|im_end|><|im_end|><|im_end|><|im_end|><|im_end|><|im_end|><|im_end|><|im_end|><|im_end|>\n"
     ]
    }
   ],
   "source": [
    "print(tokenizer.decode(batch[\"inputs\"][\"input_ids\"][0]))"
   ]
  },
  {
   "cell_type": "code",
   "execution_count": 11,
   "id": "b5b4c8b9",
   "metadata": {},
   "outputs": [
    {
     "data": {
      "text/plain": [
       "[{'question': 'I need to prove: If $p\\\\equiv 5 \\\\bmod 16$ then there exists $x\\\\in \\\\mathbb{Z}_2$ such that $px^4=1$. How can I approach this proof?',\n",
       "  'expected_answer': 'According to the corollary of Theorem 4 in Serre\\'s \"Cours d\\'arithmétique\", there exists a solution in $\\\\mathbb{Z}_2$ if $p$ is congruent to $1$ modulo a higher power of $2$. Since $p\\\\equiv 5 \\\\bmod 16$, it is congruent to $1$ modulo $8$. Therefore, there exists a solution $x\\\\in \\\\mathbb{Z}_2$ such that $px^4=1$.',\n",
       "  'source': 'mathstackexchange',\n",
       "  'orig_question': \"I need to prove: If $p\\\\equiv 1 \\\\bmod 16$ then there exists $x\\\\in \\\\mathbb{Z}_2$ ($2$-adic ring) so that $$px^4=1.$$ I'm not sure how to start this. I thought maybe to use some results on quadratic form $py^2=1$ and then to prove that solution $y$ has root in $\\\\mathbb{Z}_2$?\",\n",
       "  'orig_answer': 'Unless you made a misprint, this does not seem possible. If p is simply odd, then it is invertible in $Z_2$, and the problem amounts to extract a 4-th root of 1/p in $Z_2$ . But already in $Q_2$ this is not possible in general. Write p = 1 + 2q, so that 1/p = 1 - 2q + 4 $q^2$ - ... (2-adically convergent series). But the structure of  $Q_2$* modulo squares is known (see e.g. Serre, \"Cours d\\'arithmétique\" chapter 1), where theorem 4 says that a 2-adic unit u is a square iff u is congruent to $1$ modulo 8. But if you take p to be congruent to $1$ modulo a higher power of 2 , then there could be a solution (see the corollary to thm. 4).\\n    ',\n",
       "  'index': 1465439,\n",
       "  'validate_function': <bound method WebInstructDataset._validate_answer of <grpo_utils.WebInstructDataset object at 0x30bfbc0b0>>},\n",
       " {'question': \"Consider the vector space $$V=\\\\left\\\\{f(x)\\\\in\\\\mathbb{R}[x];\\\\ \\\\deg f<5,\\\\ f''(0)=0,\\\\ f(1)=0,\\\\ f(-1)=0\\\\right\\\\}.$$ Without using matrices, how can we express the polynomials in $V$ and determine the dimension of $V$?\",\n",
       "  'expected_answer': \"Let $f(x) = a_0 + a_1x + a_2x^2 + a_3x^3 + a_4x^4$. Using the given conditions, we can derive relations among the coefficients $a_i$:\\n\\n1. From $f(1) = 0$, we have $a_0 + a_1 + a_2 + a_3 + a_4 = 0$.\\n2. Similarly, from $f(-1) = 0$, we get $a_0 - a_1 + a_2 - a_3 + a_4 = 0$.\\n\\nThese two equations imply that $f(x)$ has $(x-1)$ and $(x+1)$ as factors, hence $f(x)$ can be factored as $f(x) = (x^2 - 1)(ax^2 + bx + c)$, where $a, b, c \\\\in \\\\mathbb{R}$.\\n\\nNow, let's find the second derivative of $f(x)$:\\n$$f''(x) = 2a(x^2 - 1) + 2bx + 2acx + 2bc$$\\n\\nSince $f''(0) = 0$, we have $2a \\\\cdot (-1) + 2bc = 0$, which simplifies to $-2a + 2bc = 0$. This implies that the coefficient of $x^2$ in $f(x)$, which is $2ac$, must be zero.\\n\\nTherefore, $a = 0$ or $c = 0$. If $a = 0$, then $f(x) = (x^2 - 1)(cx)$, which gives us two parameters ($c$ and the overall constant). If $c = 0$, then $f(x) = (x^2 - 1)(bx)$, again leaving us with two parameters ($b$ and the overall constant).\\n\\nIn either case, since we have two independent conditions (the roots at $1$ and $-1$) and two degrees of freedom in the polynomial, the dimension of $V$ is $2$.\",\n",
       "  'source': 'mathstackexchange',\n",
       "  'orig_question': \"$$V=\\\\bigl\\\\{f(x)\\\\in\\\\mathbb{R}[x];\\\\ \\\\deg f<5,\\\\ f''(0)=f(1)=f(-1)=0\\\\bigr\\\\}.$$ NOTE: The degree is strictly less than 5 not equal. Also my prof and T.A. said I should do $f(1)=f(-1)$ then solve it then do $f''(0)=0$ somewhere along the lines but I don't understand how to go about doing it that way. PLEASE!! Can someone solve it doing it that way and not using matrices because for these questions you don't need to use matrices to solve it.\",\n",
       "  'orig_answer': \"Hint: \\n\\nWrite $$\\nf(x)=a_0+a_1x+\\\\cdots+a_4x^4.\\n$$\\nFind the relations among the $a_i$'s using $$f''(0)=f(1)=f(-1)=0.$$ For instance, what can you tell by $f(1)=0$? \\n\\nOnce you have the relations (precisely, linear equations) for these $a_i$'s, you would get a subspace of $\\\\mathbb{R}^5$, the dimension of which is what you are looking for. \\n     Because $f(1)=0,$ you know $x-1$ is a factor of $f(x).$ Because $f(-1)=0,$ you know $x+1$ is a factor of $f(x).$ Therefore $(x-1)(x+1)=x^2-1$ is a factor of $f(x).$\\n\\nKnowing that $f(x)$ is a polynomial of degree at most $4,$ and has a factor of $x^2-1,$ we must have $f(x)=(x^2-1)(ax^2+bx+c)$ for some constants $a,$ $b,$ and $c.$ \\n\\nNow consider the second derivative of $f(x)$; it is a polynomial of degree two or less, something of the form $g(x)=px^2+qx+r,$ and the value of $r$ is a multiple of the coefficient of $x^2$ in $f(x).$ But we know $g(0)=0,$ so $r=0.$ Therefore the coefficient of $x^2$ in $f(x)$ is zero.\\n\\nWork out the coefficient of $x^2$ in $f(x)$ in terms of $a,$ $b,$ and $c.$ (Hint: $b$ isn't involved.) Express the fact that this coefficient is zero. The result will be an equation that lets you eliminate either $a$ or $c.$\\n\\nTo recapitulate: $f(1)=f(-1)=0$ lets you factor $f(x),$ leaving only three unknown parameters, and $f''(0)=0$ gives you a relationship among those unknowns, allowing you to reduce them to two.\\n\\nI think writing $f(x)$ in its factored form makes it especially simple to rewrite it as a linear combination of two polynomials.\\n    \",\n",
       "  'index': 1304695,\n",
       "  'validate_function': <bound method WebInstructDataset._validate_answer of <grpo_utils.WebInstructDataset object at 0x30bfbc0b0>>}]"
      ]
     },
     "execution_count": 11,
     "metadata": {},
     "output_type": "execute_result"
    }
   ],
   "source": [
    "batch[\"validator\"]"
   ]
  },
  {
   "cell_type": "code",
   "execution_count": 12,
   "id": "48efd3a9",
   "metadata": {},
   "outputs": [],
   "source": [
    "input_ids = batch[\"inputs\"][\"input_ids\"]\n",
    "attention_mask = batch[\"inputs\"][\"attention_mask\"]\n",
    "validator = batch[\"validator\"]\n",
    "input_size = input_ids.shape[1]"
   ]
  },
  {
   "cell_type": "code",
   "execution_count": null,
   "id": "29f4f95d",
   "metadata": {},
   "outputs": [],
   "source": [
    "with torch.no_grad():\n",
    "    full_responses = llm.generate(\n",
    "        input_ids = input_ids,\n",
    "        attention_mask = attention_mask,\n",
    "        max_new_tokens = max_new_tokens,\n",
    "        do_sample = True,\n",
    "        top_p = 0.95,\n",
    "        num_return_sequences = n_rollouts,\n",
    "        temperature = 1,\n",
    "        eos_token_id = tokenizer.eos_token_id)\n",
    "\n",
    "    assistant_reponses = full_responses[:, input_size:]\n",
    "\n",
    "    log_probs = grpo_utils.calculate_logits(llm, full_responses, attention_mask)"
   ]
  }
 ],
 "metadata": {
  "kernelspec": {
   "display_name": "base",
   "language": "python",
   "name": "python3"
  },
  "language_info": {
   "codemirror_mode": {
    "name": "ipython",
    "version": 3
   },
   "file_extension": ".py",
   "mimetype": "text/x-python",
   "name": "python",
   "nbconvert_exporter": "python",
   "pygments_lexer": "ipython3",
   "version": "3.12.7"
  }
 },
 "nbformat": 4,
 "nbformat_minor": 5
}

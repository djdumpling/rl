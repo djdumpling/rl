{
 "cells": [
  {
   "cell_type": "code",
   "execution_count": 1,
   "id": "204a3697",
   "metadata": {},
   "outputs": [
    {
     "name": "stdout",
     "output_type": "stream",
     "text": [
      "Device: mps\n"
     ]
    }
   ],
   "source": [
    "import os\n",
    "\n",
    "import einops\n",
    "import numpy as np\n",
    "import torch as t\n",
    "import torch.nn as nn\n",
    "import torchrl\n",
    "import wandb\n",
    "import functools\n",
    "import plotly.express as px \n",
    "from functools import partial\n",
    "from fancy_einsum import einsum\n",
    "\n",
    "from eindex import eindex\n",
    "from jaxtyping import Float, Int\n",
    "from torch import Tensor\n",
    "from torchtyping import TensorType as TT\n",
    "\n",
    "import circuitsvis as cv\n",
    "import transformers\n",
    "import transformer_lens\n",
    "import transformer_lens.utils as utils\n",
    "from transformer_lens import HookedTransformer, HookedTransformerConfig, FactoredMatrix, ActivationCache\n",
    "from transformer_lens.hook_points import (HookedRootModule, HookPoint)  # Hooking utilities\n",
    "from transformers import AutoModelForSequenceClassification, AutoTokenizer, AutoConfig, AutoModel, AutoModelForCausalLM\n",
    "from torchrl.envs.llm import ChatEnv\n",
    "from torchrl.modules.llm import TransformersWrapper\n",
    "from tqdm import tqdm\n",
    "\n",
    "os.environ[\"WANDB_DISABLED\"] = \"true\"\n",
    "os.environ[\"TOKENIZERS_PARALLELISM\"] = \"false\"\n",
    "\n",
    "device = t.device(\"cuda\" if t.cuda.is_available() else \"mps\" if t.backends.mps.is_available() else \"cpu\")\n",
    "print(f\"Device: {device}\")"
   ]
  },
  {
   "cell_type": "code",
   "execution_count": 2,
   "id": "a09d27e1",
   "metadata": {},
   "outputs": [
    {
     "name": "stderr",
     "output_type": "stream",
     "text": [
      "\u001b[34m\u001b[1mwandb\u001b[0m: Currently logged in as: \u001b[33mdjdumpling\u001b[0m (\u001b[33mdjdumpling-yale\u001b[0m) to \u001b[32mhttps://api.wandb.ai\u001b[0m. Use \u001b[1m`wandb login --relogin`\u001b[0m to force relogin\n"
     ]
    },
    {
     "data": {
      "text/html": [
       "Tracking run with wandb version 0.21.0"
      ],
      "text/plain": [
       "<IPython.core.display.HTML object>"
      ]
     },
     "metadata": {},
     "output_type": "display_data"
    },
    {
     "data": {
      "text/html": [
       "Run data is saved locally in <code>/Users/alexwa/Documents/GitHub/rl/rlhf_transformer/wandb/run-20250731_171834-882t7xq7</code>"
      ],
      "text/plain": [
       "<IPython.core.display.HTML object>"
      ]
     },
     "metadata": {},
     "output_type": "display_data"
    },
    {
     "data": {
      "text/html": [
       "Syncing run <strong><a href='https://wandb.ai/djdumpling-yale/rl-rlhf_transformer/runs/882t7xq7' target=\"_blank\">treasured-hill-16</a></strong> to <a href='https://wandb.ai/djdumpling-yale/rl-rlhf_transformer' target=\"_blank\">Weights & Biases</a> (<a href='https://wandb.me/developer-guide' target=\"_blank\">docs</a>)<br>"
      ],
      "text/plain": [
       "<IPython.core.display.HTML object>"
      ]
     },
     "metadata": {},
     "output_type": "display_data"
    },
    {
     "data": {
      "text/html": [
       " View project at <a href='https://wandb.ai/djdumpling-yale/rl-rlhf_transformer' target=\"_blank\">https://wandb.ai/djdumpling-yale/rl-rlhf_transformer</a>"
      ],
      "text/plain": [
       "<IPython.core.display.HTML object>"
      ]
     },
     "metadata": {},
     "output_type": "display_data"
    },
    {
     "data": {
      "text/html": [
       " View run at <a href='https://wandb.ai/djdumpling-yale/rl-rlhf_transformer/runs/882t7xq7' target=\"_blank\">https://wandb.ai/djdumpling-yale/rl-rlhf_transformer/runs/882t7xq7</a>"
      ],
      "text/plain": [
       "<IPython.core.display.HTML object>"
      ]
     },
     "metadata": {},
     "output_type": "display_data"
    },
    {
     "name": "stderr",
     "output_type": "stream",
     "text": [
      "\u001b[34m\u001b[1mwandb\u001b[0m: Downloading large artifact model-gpt2_20250730-004324:v0, 643.08MB. 1 files... \n",
      "\u001b[34m\u001b[1mwandb\u001b[0m:   1 of 1 files downloaded.  \n",
      "Done. 0:0:3.4 (189.6MB/s)\n"
     ]
    },
    {
     "name": "stdout",
     "output_type": "stream",
     "text": [
      "Loaded pretrained model gpt2 into HookedTransformer\n",
      "Loaded pretrained model gpt2 into HookedTransformer\n",
      "Loaded pretrained model gpt2 into HookedTransformer\n"
     ]
    }
   ],
   "source": [
    "# load artifact from wandb\n",
    "run = wandb.init()\n",
    "artifact = run.use_artifact('djdumpling-yale/rlhf_transformers/model-gpt2_20250730-004324:v0', type='model')\n",
    "model_dir = artifact.download()\n",
    "\n",
    "# set location locally \n",
    "model_path = os.path.join(model_dir, \"final_model.pt\")\n",
    "state_dict = t.load(model_path, map_location=device)\n",
    "\n",
    "# get weights from RLHFed model\n",
    "base_state_dict = {}\n",
    "for k, v in state_dict.items():\n",
    "    if k.startswith('base_model.'):\n",
    "        new_key = k.replace('base_model.', '')\n",
    "        base_state_dict[new_key] = v\n",
    "\n",
    "# load into gpt architecture\n",
    "gpt2_model = HookedTransformer.from_pretrained(\"gpt2\", device=device)\n",
    "gpt2_model.eval()\n",
    "\n",
    "source_model = AutoModelForCausalLM.from_pretrained(\"lvwerra/gpt2-imdb\")\n",
    "base_model = HookedTransformer.from_pretrained(\"gpt2\", device=device, hf_model = source_model)\n",
    "base_model.eval()\n",
    "\n",
    "rlhf_model = HookedTransformer.from_pretrained(\"gpt2\", device=device)\n",
    "rlhf_model.load_state_dict(base_state_dict)\n",
    "rlhf_model.eval()\n",
    "\n",
    "# if TRL comes in later?\n",
    "model = TransformersWrapper(model=rlhf_model, tokenizer=rlhf_model.tokenizer,input_mode=\"text\")"
   ]
  },
  {
   "cell_type": "markdown",
   "id": "91122dc9",
   "metadata": {},
   "source": [
    "Interestingly, it seems like the `base_model` already has a preference towards positive movie reviews."
   ]
  },
  {
   "cell_type": "code",
   "execution_count": 3,
   "id": "7a3cb996",
   "metadata": {},
   "outputs": [
    {
     "data": {
      "application/vnd.jupyter.widget-view+json": {
       "model_id": "d0299db06b2549fe93cd886bdf872374",
       "version_major": 2,
       "version_minor": 0
      },
      "text/plain": [
       "  0%|          | 0/50 [00:00<?, ?it/s]"
      ]
     },
     "metadata": {},
     "output_type": "display_data"
    },
    {
     "name": "stdout",
     "output_type": "stream",
     "text": [
      "This movie was really great! The characters and the music were absolutely spectacular and the cinematography was extremely accurate. It was a dream come true for me, in my 30s to be watching this movie and I am really excited for the future of the phenomenon. It's\n"
     ]
    },
    {
     "data": {
      "application/vnd.jupyter.widget-view+json": {
       "model_id": "c8a25b82dcf74fdaa8c0088fd076eb7b",
       "version_major": 2,
       "version_minor": 0
      },
      "text/plain": [
       "  0%|          | 0/50 [00:00<?, ?it/s]"
      ]
     },
     "metadata": {},
     "output_type": "display_data"
    },
    {
     "name": "stdout",
     "output_type": "stream",
     "text": [
      "This movie was really boring. I must admit I really didn't want it. I was so bored I wanted to vomit and go to bed. I was in the middle of that, but decided to come back. I was so bored I could not sleep. I don\n"
     ]
    }
   ],
   "source": [
    "prompt = \"This movie was really\"\n",
    "\n",
    "print(rlhf_model.generate(prompt, max_new_tokens=50, temperature=0.7))\n",
    "print(base_model.generate(prompt, max_new_tokens=50, temperature=0.7))"
   ]
  },
  {
   "cell_type": "markdown",
   "id": "55f671ad",
   "metadata": {},
   "source": [
    "This is reinforced when looking at the logits, showing that even the `base_model` has a preference towards positive reviews."
   ]
  },
  {
   "cell_type": "code",
   "execution_count": 4,
   "id": "bd37b876",
   "metadata": {},
   "outputs": [
    {
     "name": "stdout",
     "output_type": "stream",
     "text": [
      "Tokenized prompt: ['<|endoftext|>', 'This', ' movie', ' was', ' really']\n",
      "Tokenized answer: [' good']\n"
     ]
    },
    {
     "data": {
      "text/html": [
       "<pre style=\"white-space:pre;overflow-x:auto;line-height:normal;font-family:Menlo,'DejaVu Sans Mono',consolas,'Courier New',monospace\">Performance on answer token:\n",
       "<span style=\"font-weight: bold\">Rank: </span><span style=\"color: #008080; text-decoration-color: #008080; font-weight: bold\">2</span><span style=\"font-weight: bold\">        Logit: </span><span style=\"color: #008080; text-decoration-color: #008080; font-weight: bold\">15.09</span><span style=\"font-weight: bold\"> Prob:  </span><span style=\"color: #008080; text-decoration-color: #008080; font-weight: bold\">5.58</span><span style=\"font-weight: bold\">% Token: | good|</span>\n",
       "</pre>\n"
      ],
      "text/plain": [
       "Performance on answer token:\n",
       "\u001b[1mRank: \u001b[0m\u001b[1;36m2\u001b[0m\u001b[1m        Logit: \u001b[0m\u001b[1;36m15.09\u001b[0m\u001b[1m Prob:  \u001b[0m\u001b[1;36m5.58\u001b[0m\u001b[1m% Token: | good|\u001b[0m\n"
      ]
     },
     "metadata": {},
     "output_type": "display_data"
    },
    {
     "name": "stdout",
     "output_type": "stream",
     "text": [
      "Top 0th token. Logit: 15.45 Prob:  8.04% Token: | great|\n",
      "Top 1th token. Logit: 15.13 Prob:  5.85% Token: | amazing|\n",
      "Top 2th token. Logit: 15.09 Prob:  5.58% Token: | good|\n",
      "Top 3th token. Logit: 14.89 Prob:  4.57% Token: | fun|\n",
      "Top 4th token. Logit: 14.41 Prob:  2.83% Token: | awesome|\n",
      "Top 5th token. Logit: 14.26 Prob:  2.45% Token: | nice|\n",
      "Top 6th token. Logit: 13.88 Prob:  1.68% Token: | a|\n",
      "Top 7th token. Logit: 13.85 Prob:  1.62% Token: | really|\n",
      "Top 8th token. Logit: 13.72 Prob:  1.43% Token: | well|\n",
      "Top 9th token. Logit: 13.71 Prob:  1.41% Token: | hard|\n"
     ]
    },
    {
     "data": {
      "text/html": [
       "<pre style=\"white-space:pre;overflow-x:auto;line-height:normal;font-family:Menlo,'DejaVu Sans Mono',consolas,'Courier New',monospace\"><span style=\"font-weight: bold\">Ranks of the answer tokens:</span> <span style=\"font-weight: bold\">[(</span><span style=\"color: #008000; text-decoration-color: #008000\">' good'</span>, <span style=\"color: #008080; text-decoration-color: #008080; font-weight: bold\">2</span><span style=\"font-weight: bold\">)]</span>\n",
       "</pre>\n"
      ],
      "text/plain": [
       "\u001b[1mRanks of the answer tokens:\u001b[0m \u001b[1m[\u001b[0m\u001b[1m(\u001b[0m\u001b[32m' good'\u001b[0m, \u001b[1;36m2\u001b[0m\u001b[1m)\u001b[0m\u001b[1m]\u001b[0m\n"
      ]
     },
     "metadata": {},
     "output_type": "display_data"
    }
   ],
   "source": [
    "utils.test_prompt(prompt, \"good\", rlhf_model, prepend_bos = True)"
   ]
  },
  {
   "cell_type": "code",
   "execution_count": 5,
   "id": "eaefcd9d",
   "metadata": {},
   "outputs": [
    {
     "name": "stdout",
     "output_type": "stream",
     "text": [
      "Tokenized prompt: ['<|endoftext|>', 'This', ' movie', ' was', ' really']\n",
      "Tokenized answer: [' good']\n"
     ]
    },
    {
     "data": {
      "text/html": [
       "<pre style=\"white-space:pre;overflow-x:auto;line-height:normal;font-family:Menlo,'DejaVu Sans Mono',consolas,'Courier New',monospace\">Performance on answer token:\n",
       "<span style=\"font-weight: bold\">Rank: </span><span style=\"color: #008080; text-decoration-color: #008080; font-weight: bold\">0</span><span style=\"font-weight: bold\">        Logit: </span><span style=\"color: #008080; text-decoration-color: #008080; font-weight: bold\">17.39</span><span style=\"font-weight: bold\"> Prob: </span><span style=\"color: #008080; text-decoration-color: #008080; font-weight: bold\">12.19</span><span style=\"font-weight: bold\">% Token: | good|</span>\n",
       "</pre>\n"
      ],
      "text/plain": [
       "Performance on answer token:\n",
       "\u001b[1mRank: \u001b[0m\u001b[1;36m0\u001b[0m\u001b[1m        Logit: \u001b[0m\u001b[1;36m17.39\u001b[0m\u001b[1m Prob: \u001b[0m\u001b[1;36m12.19\u001b[0m\u001b[1m% Token: | good|\u001b[0m\n"
      ]
     },
     "metadata": {},
     "output_type": "display_data"
    },
    {
     "name": "stdout",
     "output_type": "stream",
     "text": [
      "Top 0th token. Logit: 17.39 Prob: 12.19% Token: | good|\n",
      "Top 1th token. Logit: 17.30 Prob: 11.15% Token: | bad|\n",
      "Top 2th token. Logit: 16.20 Prob:  3.69% Token: | funny|\n",
      "Top 3th token. Logit: 16.18 Prob:  3.61% Token: | great|\n",
      "Top 4th token. Logit: 16.06 Prob:  3.21% Token: | a|\n",
      "Top 5th token. Logit: 15.95 Prob:  2.88% Token: | fun|\n",
      "Top 6th token. Logit: 15.87 Prob:  2.65% Token: | awful|\n",
      "Top 7th token. Logit: 15.57 Prob:  1.96% Token: | well|\n",
      "Top 8th token. Logit: 15.38 Prob:  1.63% Token: | terrible|\n",
      "Top 9th token. Logit: 15.34 Prob:  1.56% Token: | disappointing|\n"
     ]
    },
    {
     "data": {
      "text/html": [
       "<pre style=\"white-space:pre;overflow-x:auto;line-height:normal;font-family:Menlo,'DejaVu Sans Mono',consolas,'Courier New',monospace\"><span style=\"font-weight: bold\">Ranks of the answer tokens:</span> <span style=\"font-weight: bold\">[(</span><span style=\"color: #008000; text-decoration-color: #008000\">' good'</span>, <span style=\"color: #008080; text-decoration-color: #008080; font-weight: bold\">0</span><span style=\"font-weight: bold\">)]</span>\n",
       "</pre>\n"
      ],
      "text/plain": [
       "\u001b[1mRanks of the answer tokens:\u001b[0m \u001b[1m[\u001b[0m\u001b[1m(\u001b[0m\u001b[32m' good'\u001b[0m, \u001b[1;36m0\u001b[0m\u001b[1m)\u001b[0m\u001b[1m]\u001b[0m\n"
      ]
     },
     "metadata": {},
     "output_type": "display_data"
    }
   ],
   "source": [
    "utils.test_prompt(prompt, \"good\", base_model, prepend_bos = True)"
   ]
  },
  {
   "cell_type": "code",
   "execution_count": 6,
   "id": "a8648137",
   "metadata": {},
   "outputs": [
    {
     "name": "stdout",
     "output_type": "stream",
     "text": [
      "tensor([[ 922, 2089]], device='mps:0')\n"
     ]
    }
   ],
   "source": [
    "prompts = [\"This movie is really\"]\n",
    "answers = [(\" good\", \" bad\")]\n",
    "\n",
    "answer_tokens = []\n",
    "for i in range(len(prompts)):\n",
    "    answer_tokens.append((rlhf_model.to_single_token(answers[i][0]), rlhf_model.to_single_token(answers[i][1])))\n",
    "\n",
    "answer_tokens = t.tensor(answer_tokens).to(device)\n",
    "\n",
    "print(answer_tokens)"
   ]
  },
  {
   "cell_type": "code",
   "execution_count": 7,
   "id": "39409b2e",
   "metadata": {},
   "outputs": [],
   "source": [
    "tokens = rlhf_model.to_tokens(prompts, prepend_bos = True)\n",
    "\n",
    "# base_logits.shape: [1,5,50257] --> # prompts, sequence length including prepend_bos , vocabulary size\n",
    "gpt2_logits, gpt2_cache = gpt2_model.run_with_cache(tokens)\n",
    "base_logits, base_cache = base_model.run_with_cache(tokens)\n",
    "rlhf_logits, rlhf_cache = rlhf_model.run_with_cache(tokens)"
   ]
  },
  {
   "cell_type": "code",
   "execution_count": 8,
   "id": "c66a25dd",
   "metadata": {},
   "outputs": [
    {
     "name": "stdout",
     "output_type": "stream",
     "text": [
      "Logit diff for gpt2 model: 1.595\n",
      "Logit diff for base model: -0.185\n",
      "Logit diff for rlhf model: 1.851\n"
     ]
    }
   ],
   "source": [
    "def logit_diff(logits, answer_tokens):\n",
    "    final_logit = logits[:, -1, :]\n",
    "    answer_logit = final_logit.gather(dim = -1, index = answer_tokens)\n",
    "    answer_logit_diff = answer_logit[:, 0] - answer_logit[:, 1]\n",
    "\n",
    "    return answer_logit_diff\n",
    "\n",
    "logit_diff_gpt2 = logit_diff(gpt2_logits, answer_tokens).item()\n",
    "logit_diff_base = logit_diff(base_logits, answer_tokens).item()\n",
    "logit_diff_rlhf = logit_diff(rlhf_logits, answer_tokens).item()\n",
    "print(f\"Logit diff for gpt2 model: {logit_diff_gpt2:.3f}\")\n",
    "print(f\"Logit diff for base model: {logit_diff_base:.3f}\")\n",
    "print(f\"Logit diff for rlhf model: {logit_diff_rlhf:.3f}\")"
   ]
  },
  {
   "cell_type": "code",
   "execution_count": 9,
   "id": "ff87a239",
   "metadata": {},
   "outputs": [],
   "source": [
    "# answer_residual_directions shape: [1, 2, 768] --> prompt, # tokens in answer_tokens, hidden size of model\n",
    "answer_residual_directions = rlhf_model.tokens_to_residual_directions(answer_tokens)\n",
    "logit_diff_directions = answer_residual_directions[:, 0, :] - answer_residual_directions[:, 1, :]"
   ]
  },
  {
   "cell_type": "code",
   "execution_count": 10,
   "id": "68df3fe0",
   "metadata": {},
   "outputs": [
    {
     "name": "stdout",
     "output_type": "stream",
     "text": [
      "\n",
      "Logit diff for gpt2 model: 1.595\n",
      "Scaled logit diff for gpt2 model: 0.510\n",
      "Diff in logit diff: -1.084\n",
      "\n",
      "Logit diff for base model: -0.185\n",
      "Scaled logit diff for base model: -0.933\n",
      "Diff in logit diff: -0.748\n",
      "\n",
      "Logit diff for rlhf model: 1.851\n",
      "Scaled logit diff for rlhf model: 0.821\n",
      "Diff in logit diff: -1.030\n"
     ]
    }
   ],
   "source": [
    "# cache syntax: [activation_name, layer_index, sub_layer_type]\n",
    "# final_residual_stream_xxx shape: [1, 5, 768]\n",
    "final_residual_stream_gpt2 = gpt2_cache[\"resid_post\", -1]\n",
    "final_residual_stream_base = base_cache[\"resid_post\", -1]\n",
    "final_residual_stream_rlhf = rlhf_cache[\"resid_post\", -1]\n",
    "\n",
    "# final_token_residual_stream_base_xxxx shape: [1, 768]\n",
    "final_token_residual_stream_gpt2 = final_residual_stream_gpt2[:, -1, :]\n",
    "final_token_residual_stream_base = final_residual_stream_base[:, -1, :]\n",
    "final_token_residual_stream_rlhf = final_residual_stream_rlhf[:, -1, :]\n",
    "\n",
    "# layernorm scaling so that the contribution at each layer is consistent across the network\n",
    "scaled_final_token_residual_stream_gpt2 = gpt2_cache.apply_ln_to_stack(final_token_residual_stream_gpt2, layer = -1, pos_slice = -1)\n",
    "scaled_final_token_residual_stream_base = base_cache.apply_ln_to_stack(final_token_residual_stream_base, layer = -1, pos_slice = -1)\n",
    "scaled_final_token_residual_stream_rlhf = rlhf_cache.apply_ln_to_stack(final_token_residual_stream_rlhf, layer = -1, pos_slice = -1)\n",
    "\n",
    "# the unnormalized logit for a token is the dot product bwtn the final residual stream and the token's embedding direction\n",
    "# since the dot product is additive (subtracting), dot producting with the different in the two token's embedding direction gives the logit differences\n",
    "ln_logit_diff_gpt2 = einsum(\"batch d_model, batch d_model -> \", scaled_final_token_residual_stream_gpt2, logit_diff_directions).item()\n",
    "ln_logit_diff_base = einsum(\"batch d_model, batch d_model -> \", scaled_final_token_residual_stream_base, logit_diff_directions).item()\n",
    "ln_logit_diff_rlhf = einsum(\"batch d_model, batch d_model -> \", scaled_final_token_residual_stream_rlhf, logit_diff_directions).item()\n",
    "\n",
    "print(f\"\\nLogit diff for gpt2 model: {logit_diff_gpt2:.3f}\")\n",
    "print(f\"Scaled logit diff for gpt2 model: {ln_logit_diff_gpt2:.3f}\")\n",
    "print(f\"Diff in logit diff: {(ln_logit_diff_gpt2 - logit_diff_gpt2):.3f}\")\n",
    "\n",
    "print(f\"\\nLogit diff for base model: {logit_diff_base:.3f}\")\n",
    "print(f\"Scaled logit diff for base model: {ln_logit_diff_base:.3f}\")\n",
    "print(f\"Diff in logit diff: {(ln_logit_diff_base - logit_diff_base):.3f}\")\n",
    "\n",
    "print(f\"\\nLogit diff for rlhf model: {logit_diff_rlhf:.3f}\")\n",
    "print(f\"Scaled logit diff for rlhf model: {ln_logit_diff_rlhf:.3f}\")\n",
    "print(f\"Diff in logit diff: {(ln_logit_diff_rlhf - logit_diff_rlhf):.3f}\")"
   ]
  },
  {
   "cell_type": "markdown",
   "id": "14779de6",
   "metadata": {},
   "source": [
    "The logit lens technique allows us to see what token the network would have predicted at each layer as information propagates through it. Still, we look at the logit difference between \"good\" and \"bad\" for both the `base_model` and `rlhf_model`."
   ]
  },
  {
   "cell_type": "code",
   "execution_count": 11,
   "id": "6b3f2f00",
   "metadata": {},
   "outputs": [],
   "source": [
    "# computes the logit difference for a stack of residual activations\n",
    "def residual_stack_to_logit_diff(residual_stack, cache) -> float:\n",
    "    scaled_residual_stack = cache.apply_ln_to_stack(residual_stack, layer = -1, pos_slice = -1)\n",
    "\n",
    "    return einsum(\"... batch d_model, batch d_model -> ...\", scaled_residual_stack, logit_diff_directions)\n",
    "\n",
    "# accumulated_resid: returns the sum of all residual stream contributions up to and including each layer/component\n",
    "# incl_mid: includes pre + mid layer contributions \n",
    "# accumulated_residual_xxxx shape: [25, 1, 768] --> 12 layers * 2 (pre + post) + 1 final unembed = 25 residual stream components\n",
    "accumulated_residual_gpt2, labels = gpt2_cache.accumulated_resid(layer = -1, incl_mid = True, pos_slice = -1, return_labels = True)\n",
    "logit_lens_logit_diffs_gpt2 = residual_stack_to_logit_diff(accumulated_residual_gpt2, base_cache)\n",
    "\n",
    "accumulated_residual_base, labels = base_cache.accumulated_resid(layer = -1, incl_mid = True, pos_slice = -1, return_labels = True)\n",
    "logit_lens_logit_diffs_base = residual_stack_to_logit_diff(accumulated_residual_base, base_cache)\n",
    "\n",
    "accumulated_residual_rlhf, labels = rlhf_cache.accumulated_resid(layer = -1, incl_mid = True, pos_slice = -1, return_labels = True)\n",
    "logit_lens_logit_diffs_rlhf = residual_stack_to_logit_diff(accumulated_residual_rlhf, rlhf_cache)"
   ]
  },
  {
   "cell_type": "code",
   "execution_count": 12,
   "id": "b98dba7d",
   "metadata": {},
   "outputs": [
    {
     "data": {
      "application/vnd.plotly.v1+json": {
       "config": {
        "plotlyServerURL": "https://plot.ly"
       },
       "data": [
        {
         "hovertemplate": "<b>%{hovertext}</b><br><br>variable=wide_variable_0<br>x=%{x}<br>value=%{y}<extra></extra>",
         "hovertext": [
          "0_pre",
          "0_mid",
          "1_pre",
          "1_mid",
          "2_pre",
          "2_mid",
          "3_pre",
          "3_mid",
          "4_pre",
          "4_mid",
          "5_pre",
          "5_mid",
          "6_pre",
          "6_mid",
          "7_pre",
          "7_mid",
          "8_pre",
          "8_mid",
          "9_pre",
          "9_mid",
          "10_pre",
          "10_mid",
          "11_pre",
          "11_mid",
          "final_post"
         ],
         "legendgroup": "wide_variable_0",
         "line": {
          "color": "#636efa",
          "dash": "solid"
         },
         "marker": {
          "symbol": "circle"
         },
         "mode": "lines",
         "name": "wide_variable_0",
         "orientation": "v",
         "showlegend": true,
         "type": "scatter",
         "x": {
          "bdata": "AAAAAAAAAAAAAAAAAADgPwAAAAAAAPA/AAAAAAAA+D8AAAAAAAAAQAAAAAAAAARAAAAAAAAACEAAAAAAAAAMQAAAAAAAABBAAAAAAAAAEkAAAAAAAAAUQAAAAAAAABZAAAAAAAAAGEAAAAAAAAAaQAAAAAAAABxAAAAAAAAAHkAAAAAAAAAgQAAAAAAAACFAAAAAAAAAIkAAAAAAAAAjQAAAAAAAACRAAAAAAAAAJUAAAAAAAAAmQAAAAAAAACdAAAAAAAAAKEA=",
          "dtype": "f8"
         },
         "xaxis": "x",
         "y": {
          "bdata": "5u4FPcxyWz0vR4Y+3gMnPlK4gD7sZiw+bLqlPUAG7zwYAkC9yLUJvQBRSzyg2FC8kA7dvMDpyzy8RPo9apYtPvAJubzAWPK8Tp9hvnXCwb4A/UY8ADXSu2vcGj8XEhA/clf+Pg==",
          "dtype": "f4"
         },
         "yaxis": "y"
        },
        {
         "hovertemplate": "<b>%{hovertext}</b><br><br>variable=wide_variable_1<br>x=%{x}<br>value=%{y}<extra></extra>",
         "hovertext": [
          "0_pre",
          "0_mid",
          "1_pre",
          "1_mid",
          "2_pre",
          "2_mid",
          "3_pre",
          "3_mid",
          "4_pre",
          "4_mid",
          "5_pre",
          "5_mid",
          "6_pre",
          "6_mid",
          "7_pre",
          "7_mid",
          "8_pre",
          "8_mid",
          "9_pre",
          "9_mid",
          "10_pre",
          "10_mid",
          "11_pre",
          "11_mid",
          "final_post"
         ],
         "legendgroup": "wide_variable_1",
         "line": {
          "color": "#EF553B",
          "dash": "solid"
         },
         "marker": {
          "symbol": "circle"
         },
         "mode": "lines",
         "name": "wide_variable_1",
         "orientation": "v",
         "showlegend": true,
         "type": "scatter",
         "x": {
          "bdata": "AAAAAAAAAAAAAAAAAADgPwAAAAAAAPA/AAAAAAAA+D8AAAAAAAAAQAAAAAAAAARAAAAAAAAACEAAAAAAAAAMQAAAAAAAABBAAAAAAAAAEkAAAAAAAAAUQAAAAAAAABZAAAAAAAAAGEAAAAAAAAAaQAAAAAAAABxAAAAAAAAAHkAAAAAAAAAgQAAAAAAAACFAAAAAAAAAIkAAAAAAAAAjQAAAAAAAACRAAAAAAAAAJUAAAAAAAAAmQAAAAAAAACdAAAAAAAAAKEA=",
          "dtype": "f8"
         },
         "xaxis": "x",
         "y": {
          "bdata": "73v4PPjoiT2Eu6w+6YCRPpL9oj5Yx4Y+lOE3PhfAKz4AQLw9MLDUPfQ87j0g0+g9CCJPPQgGzD2oeXc+zOuQPkBQhruAWAC8ELHLvgbtE7/IQQu/i0cYv9JF9L5RDRG/Re5uvw==",
          "dtype": "f4"
         },
         "yaxis": "y"
        },
        {
         "hovertemplate": "<b>%{hovertext}</b><br><br>variable=wide_variable_2<br>x=%{x}<br>value=%{y}<extra></extra>",
         "hovertext": [
          "0_pre",
          "0_mid",
          "1_pre",
          "1_mid",
          "2_pre",
          "2_mid",
          "3_pre",
          "3_mid",
          "4_pre",
          "4_mid",
          "5_pre",
          "5_mid",
          "6_pre",
          "6_mid",
          "7_pre",
          "7_mid",
          "8_pre",
          "8_mid",
          "9_pre",
          "9_mid",
          "10_pre",
          "10_mid",
          "11_pre",
          "11_mid",
          "final_post"
         ],
         "legendgroup": "wide_variable_2",
         "line": {
          "color": "#00cc96",
          "dash": "solid"
         },
         "marker": {
          "symbol": "circle"
         },
         "mode": "lines",
         "name": "wide_variable_2",
         "orientation": "v",
         "showlegend": true,
         "type": "scatter",
         "x": {
          "bdata": "AAAAAAAAAAAAAAAAAADgPwAAAAAAAPA/AAAAAAAA+D8AAAAAAAAAQAAAAAAAAARAAAAAAAAACEAAAAAAAAAMQAAAAAAAABBAAAAAAAAAEkAAAAAAAAAUQAAAAAAAABZAAAAAAAAAGEAAAAAAAAAaQAAAAAAAABxAAAAAAAAAHkAAAAAAAAAgQAAAAAAAACFAAAAAAAAAIkAAAAAAAAAjQAAAAAAAACRAAAAAAAAAJUAAAAAAAAAmQAAAAAAAACdAAAAAAAAAKEA=",
          "dtype": "f8"
         },
         "xaxis": "x",
         "y": {
          "bdata": "9OvAPKjIYj1XCik+2mATPk3Sej6u32w+5JMmPp/BKD44BwY+jggbPmTKJD741Q8+3In3PVBScT5lC40++H2tPoa1WD6G23c+MKI/PSBXpb1ESG8+AO6EPmj2Uj/ntj8/yhRSPw==",
          "dtype": "f4"
         },
         "yaxis": "y"
        }
       ],
       "layout": {
        "legend": {
         "title": {
          "text": "variable"
         },
         "tracegroupgap": 0
        },
        "template": {
         "data": {
          "bar": [
           {
            "error_x": {
             "color": "#2a3f5f"
            },
            "error_y": {
             "color": "#2a3f5f"
            },
            "marker": {
             "line": {
              "color": "#E5ECF6",
              "width": 0.5
             },
             "pattern": {
              "fillmode": "overlay",
              "size": 10,
              "solidity": 0.2
             }
            },
            "type": "bar"
           }
          ],
          "barpolar": [
           {
            "marker": {
             "line": {
              "color": "#E5ECF6",
              "width": 0.5
             },
             "pattern": {
              "fillmode": "overlay",
              "size": 10,
              "solidity": 0.2
             }
            },
            "type": "barpolar"
           }
          ],
          "carpet": [
           {
            "aaxis": {
             "endlinecolor": "#2a3f5f",
             "gridcolor": "white",
             "linecolor": "white",
             "minorgridcolor": "white",
             "startlinecolor": "#2a3f5f"
            },
            "baxis": {
             "endlinecolor": "#2a3f5f",
             "gridcolor": "white",
             "linecolor": "white",
             "minorgridcolor": "white",
             "startlinecolor": "#2a3f5f"
            },
            "type": "carpet"
           }
          ],
          "choropleth": [
           {
            "colorbar": {
             "outlinewidth": 0,
             "ticks": ""
            },
            "type": "choropleth"
           }
          ],
          "contour": [
           {
            "colorbar": {
             "outlinewidth": 0,
             "ticks": ""
            },
            "colorscale": [
             [
              0,
              "#0d0887"
             ],
             [
              0.1111111111111111,
              "#46039f"
             ],
             [
              0.2222222222222222,
              "#7201a8"
             ],
             [
              0.3333333333333333,
              "#9c179e"
             ],
             [
              0.4444444444444444,
              "#bd3786"
             ],
             [
              0.5555555555555556,
              "#d8576b"
             ],
             [
              0.6666666666666666,
              "#ed7953"
             ],
             [
              0.7777777777777778,
              "#fb9f3a"
             ],
             [
              0.8888888888888888,
              "#fdca26"
             ],
             [
              1,
              "#f0f921"
             ]
            ],
            "type": "contour"
           }
          ],
          "contourcarpet": [
           {
            "colorbar": {
             "outlinewidth": 0,
             "ticks": ""
            },
            "type": "contourcarpet"
           }
          ],
          "heatmap": [
           {
            "colorbar": {
             "outlinewidth": 0,
             "ticks": ""
            },
            "colorscale": [
             [
              0,
              "#0d0887"
             ],
             [
              0.1111111111111111,
              "#46039f"
             ],
             [
              0.2222222222222222,
              "#7201a8"
             ],
             [
              0.3333333333333333,
              "#9c179e"
             ],
             [
              0.4444444444444444,
              "#bd3786"
             ],
             [
              0.5555555555555556,
              "#d8576b"
             ],
             [
              0.6666666666666666,
              "#ed7953"
             ],
             [
              0.7777777777777778,
              "#fb9f3a"
             ],
             [
              0.8888888888888888,
              "#fdca26"
             ],
             [
              1,
              "#f0f921"
             ]
            ],
            "type": "heatmap"
           }
          ],
          "histogram": [
           {
            "marker": {
             "pattern": {
              "fillmode": "overlay",
              "size": 10,
              "solidity": 0.2
             }
            },
            "type": "histogram"
           }
          ],
          "histogram2d": [
           {
            "colorbar": {
             "outlinewidth": 0,
             "ticks": ""
            },
            "colorscale": [
             [
              0,
              "#0d0887"
             ],
             [
              0.1111111111111111,
              "#46039f"
             ],
             [
              0.2222222222222222,
              "#7201a8"
             ],
             [
              0.3333333333333333,
              "#9c179e"
             ],
             [
              0.4444444444444444,
              "#bd3786"
             ],
             [
              0.5555555555555556,
              "#d8576b"
             ],
             [
              0.6666666666666666,
              "#ed7953"
             ],
             [
              0.7777777777777778,
              "#fb9f3a"
             ],
             [
              0.8888888888888888,
              "#fdca26"
             ],
             [
              1,
              "#f0f921"
             ]
            ],
            "type": "histogram2d"
           }
          ],
          "histogram2dcontour": [
           {
            "colorbar": {
             "outlinewidth": 0,
             "ticks": ""
            },
            "colorscale": [
             [
              0,
              "#0d0887"
             ],
             [
              0.1111111111111111,
              "#46039f"
             ],
             [
              0.2222222222222222,
              "#7201a8"
             ],
             [
              0.3333333333333333,
              "#9c179e"
             ],
             [
              0.4444444444444444,
              "#bd3786"
             ],
             [
              0.5555555555555556,
              "#d8576b"
             ],
             [
              0.6666666666666666,
              "#ed7953"
             ],
             [
              0.7777777777777778,
              "#fb9f3a"
             ],
             [
              0.8888888888888888,
              "#fdca26"
             ],
             [
              1,
              "#f0f921"
             ]
            ],
            "type": "histogram2dcontour"
           }
          ],
          "mesh3d": [
           {
            "colorbar": {
             "outlinewidth": 0,
             "ticks": ""
            },
            "type": "mesh3d"
           }
          ],
          "parcoords": [
           {
            "line": {
             "colorbar": {
              "outlinewidth": 0,
              "ticks": ""
             }
            },
            "type": "parcoords"
           }
          ],
          "pie": [
           {
            "automargin": true,
            "type": "pie"
           }
          ],
          "scatter": [
           {
            "fillpattern": {
             "fillmode": "overlay",
             "size": 10,
             "solidity": 0.2
            },
            "type": "scatter"
           }
          ],
          "scatter3d": [
           {
            "line": {
             "colorbar": {
              "outlinewidth": 0,
              "ticks": ""
             }
            },
            "marker": {
             "colorbar": {
              "outlinewidth": 0,
              "ticks": ""
             }
            },
            "type": "scatter3d"
           }
          ],
          "scattercarpet": [
           {
            "marker": {
             "colorbar": {
              "outlinewidth": 0,
              "ticks": ""
             }
            },
            "type": "scattercarpet"
           }
          ],
          "scattergeo": [
           {
            "marker": {
             "colorbar": {
              "outlinewidth": 0,
              "ticks": ""
             }
            },
            "type": "scattergeo"
           }
          ],
          "scattergl": [
           {
            "marker": {
             "colorbar": {
              "outlinewidth": 0,
              "ticks": ""
             }
            },
            "type": "scattergl"
           }
          ],
          "scattermap": [
           {
            "marker": {
             "colorbar": {
              "outlinewidth": 0,
              "ticks": ""
             }
            },
            "type": "scattermap"
           }
          ],
          "scattermapbox": [
           {
            "marker": {
             "colorbar": {
              "outlinewidth": 0,
              "ticks": ""
             }
            },
            "type": "scattermapbox"
           }
          ],
          "scatterpolar": [
           {
            "marker": {
             "colorbar": {
              "outlinewidth": 0,
              "ticks": ""
             }
            },
            "type": "scatterpolar"
           }
          ],
          "scatterpolargl": [
           {
            "marker": {
             "colorbar": {
              "outlinewidth": 0,
              "ticks": ""
             }
            },
            "type": "scatterpolargl"
           }
          ],
          "scatterternary": [
           {
            "marker": {
             "colorbar": {
              "outlinewidth": 0,
              "ticks": ""
             }
            },
            "type": "scatterternary"
           }
          ],
          "surface": [
           {
            "colorbar": {
             "outlinewidth": 0,
             "ticks": ""
            },
            "colorscale": [
             [
              0,
              "#0d0887"
             ],
             [
              0.1111111111111111,
              "#46039f"
             ],
             [
              0.2222222222222222,
              "#7201a8"
             ],
             [
              0.3333333333333333,
              "#9c179e"
             ],
             [
              0.4444444444444444,
              "#bd3786"
             ],
             [
              0.5555555555555556,
              "#d8576b"
             ],
             [
              0.6666666666666666,
              "#ed7953"
             ],
             [
              0.7777777777777778,
              "#fb9f3a"
             ],
             [
              0.8888888888888888,
              "#fdca26"
             ],
             [
              1,
              "#f0f921"
             ]
            ],
            "type": "surface"
           }
          ],
          "table": [
           {
            "cells": {
             "fill": {
              "color": "#EBF0F8"
             },
             "line": {
              "color": "white"
             }
            },
            "header": {
             "fill": {
              "color": "#C8D4E3"
             },
             "line": {
              "color": "white"
             }
            },
            "type": "table"
           }
          ]
         },
         "layout": {
          "annotationdefaults": {
           "arrowcolor": "#2a3f5f",
           "arrowhead": 0,
           "arrowwidth": 1
          },
          "autotypenumbers": "strict",
          "coloraxis": {
           "colorbar": {
            "outlinewidth": 0,
            "ticks": ""
           }
          },
          "colorscale": {
           "diverging": [
            [
             0,
             "#8e0152"
            ],
            [
             0.1,
             "#c51b7d"
            ],
            [
             0.2,
             "#de77ae"
            ],
            [
             0.3,
             "#f1b6da"
            ],
            [
             0.4,
             "#fde0ef"
            ],
            [
             0.5,
             "#f7f7f7"
            ],
            [
             0.6,
             "#e6f5d0"
            ],
            [
             0.7,
             "#b8e186"
            ],
            [
             0.8,
             "#7fbc41"
            ],
            [
             0.9,
             "#4d9221"
            ],
            [
             1,
             "#276419"
            ]
           ],
           "sequential": [
            [
             0,
             "#0d0887"
            ],
            [
             0.1111111111111111,
             "#46039f"
            ],
            [
             0.2222222222222222,
             "#7201a8"
            ],
            [
             0.3333333333333333,
             "#9c179e"
            ],
            [
             0.4444444444444444,
             "#bd3786"
            ],
            [
             0.5555555555555556,
             "#d8576b"
            ],
            [
             0.6666666666666666,
             "#ed7953"
            ],
            [
             0.7777777777777778,
             "#fb9f3a"
            ],
            [
             0.8888888888888888,
             "#fdca26"
            ],
            [
             1,
             "#f0f921"
            ]
           ],
           "sequentialminus": [
            [
             0,
             "#0d0887"
            ],
            [
             0.1111111111111111,
             "#46039f"
            ],
            [
             0.2222222222222222,
             "#7201a8"
            ],
            [
             0.3333333333333333,
             "#9c179e"
            ],
            [
             0.4444444444444444,
             "#bd3786"
            ],
            [
             0.5555555555555556,
             "#d8576b"
            ],
            [
             0.6666666666666666,
             "#ed7953"
            ],
            [
             0.7777777777777778,
             "#fb9f3a"
            ],
            [
             0.8888888888888888,
             "#fdca26"
            ],
            [
             1,
             "#f0f921"
            ]
           ]
          },
          "colorway": [
           "#636efa",
           "#EF553B",
           "#00cc96",
           "#ab63fa",
           "#FFA15A",
           "#19d3f3",
           "#FF6692",
           "#B6E880",
           "#FF97FF",
           "#FECB52"
          ],
          "font": {
           "color": "#2a3f5f"
          },
          "geo": {
           "bgcolor": "white",
           "lakecolor": "white",
           "landcolor": "#E5ECF6",
           "showlakes": true,
           "showland": true,
           "subunitcolor": "white"
          },
          "hoverlabel": {
           "align": "left"
          },
          "hovermode": "closest",
          "mapbox": {
           "style": "light"
          },
          "paper_bgcolor": "white",
          "plot_bgcolor": "#E5ECF6",
          "polar": {
           "angularaxis": {
            "gridcolor": "white",
            "linecolor": "white",
            "ticks": ""
           },
           "bgcolor": "#E5ECF6",
           "radialaxis": {
            "gridcolor": "white",
            "linecolor": "white",
            "ticks": ""
           }
          },
          "scene": {
           "xaxis": {
            "backgroundcolor": "#E5ECF6",
            "gridcolor": "white",
            "gridwidth": 2,
            "linecolor": "white",
            "showbackground": true,
            "ticks": "",
            "zerolinecolor": "white"
           },
           "yaxis": {
            "backgroundcolor": "#E5ECF6",
            "gridcolor": "white",
            "gridwidth": 2,
            "linecolor": "white",
            "showbackground": true,
            "ticks": "",
            "zerolinecolor": "white"
           },
           "zaxis": {
            "backgroundcolor": "#E5ECF6",
            "gridcolor": "white",
            "gridwidth": 2,
            "linecolor": "white",
            "showbackground": true,
            "ticks": "",
            "zerolinecolor": "white"
           }
          },
          "shapedefaults": {
           "line": {
            "color": "#2a3f5f"
           }
          },
          "ternary": {
           "aaxis": {
            "gridcolor": "white",
            "linecolor": "white",
            "ticks": ""
           },
           "baxis": {
            "gridcolor": "white",
            "linecolor": "white",
            "ticks": ""
           },
           "bgcolor": "#E5ECF6",
           "caxis": {
            "gridcolor": "white",
            "linecolor": "white",
            "ticks": ""
           }
          },
          "title": {
           "x": 0.05
          },
          "xaxis": {
           "automargin": true,
           "gridcolor": "white",
           "linecolor": "white",
           "ticks": "",
           "title": {
            "standoff": 15
           },
           "zerolinecolor": "white",
           "zerolinewidth": 2
          },
          "yaxis": {
           "automargin": true,
           "gridcolor": "white",
           "linecolor": "white",
           "ticks": "",
           "title": {
            "standoff": 15
           },
           "zerolinecolor": "white",
           "zerolinewidth": 2
          }
         }
        },
        "title": {
         "text": "Logit difference from accumulated residual stream"
        },
        "xaxis": {
         "anchor": "y",
         "domain": [
          0,
          1
         ],
         "title": {
          "text": "x"
         }
        },
        "yaxis": {
         "anchor": "x",
         "domain": [
          0,
          1
         ],
         "title": {
          "text": "value"
         }
        }
       }
      }
     },
     "metadata": {},
     "output_type": "display_data"
    }
   ],
   "source": [
    "px.line(y = [utils.to_numpy(logit_lens_logit_diffs_gpt2),\n",
    "             utils.to_numpy(logit_lens_logit_diffs_base), \n",
    "             utils.to_numpy(logit_lens_logit_diffs_rlhf),],\n",
    "        x = np.arange(25)/2,\n",
    "        hover_name = labels,\n",
    "        title = \"Logit difference from accumulated residual stream\").show()"
   ]
  },
  {
   "cell_type": "code",
   "execution_count": 13,
   "id": "574650a9",
   "metadata": {},
   "outputs": [
    {
     "data": {
      "application/vnd.plotly.v1+json": {
       "config": {
        "plotlyServerURL": "https://plot.ly"
       },
       "data": [
        {
         "hovertemplate": "<b>%{hovertext}</b><br><br>variable=wide_variable_0<br>index=%{x}<br>value=%{y}<extra></extra>",
         "hovertext": [
          "embed",
          "pos_embed",
          "0_attn_out",
          "0_mlp_out",
          "1_attn_out",
          "1_mlp_out",
          "2_attn_out",
          "2_mlp_out",
          "3_attn_out",
          "3_mlp_out",
          "4_attn_out",
          "4_mlp_out",
          "5_attn_out",
          "5_mlp_out",
          "6_attn_out",
          "6_mlp_out",
          "7_attn_out",
          "7_mlp_out",
          "8_attn_out",
          "8_mlp_out",
          "9_attn_out",
          "9_mlp_out",
          "10_attn_out",
          "10_mlp_out",
          "11_attn_out",
          "11_mlp_out"
         ],
         "legendgroup": "wide_variable_0",
         "line": {
          "color": "#636efa",
          "dash": "solid"
         },
         "marker": {
          "symbol": "circle"
         },
         "mode": "lines",
         "name": "wide_variable_0",
         "orientation": "v",
         "showlegend": true,
         "type": "scatter",
         "x": {
          "bdata": "AAECAwQFBgcICQoLDA0ODxAREhMUFRYXGBk=",
          "dtype": "i1"
         },
         "xaxis": "x",
         "y": {
          "bdata": "U+3EPIQ6zjv7kxc9RkGKPs3UWb0/5Qs9yLFhvT5aq73MF0K8K0CbvZmBQzxUZkw8MDstuxpCgb0S6kg9nnYRPtF3KT0RBZO+4MB0u0mux776UTi++LMKPU9cUL0MJfE9QFO3vfDBu74=",
          "dtype": "f4"
         },
         "yaxis": "y"
        },
        {
         "hovertemplate": "<b>%{hovertext}</b><br><br>variable=wide_variable_1<br>index=%{x}<br>value=%{y}<extra></extra>",
         "hovertext": [
          "embed",
          "pos_embed",
          "0_attn_out",
          "0_mlp_out",
          "1_attn_out",
          "1_mlp_out",
          "2_attn_out",
          "2_mlp_out",
          "3_attn_out",
          "3_mlp_out",
          "4_attn_out",
          "4_mlp_out",
          "5_attn_out",
          "5_mlp_out",
          "6_attn_out",
          "6_mlp_out",
          "7_attn_out",
          "7_mlp_out",
          "8_attn_out",
          "8_mlp_out",
          "9_attn_out",
          "9_mlp_out",
          "10_attn_out",
          "10_mlp_out",
          "11_attn_out",
          "11_mlp_out"
         ],
         "legendgroup": "wide_variable_1",
         "line": {
          "color": "#EF553B",
          "dash": "solid"
         },
         "marker": {
          "symbol": "circle"
         },
         "mode": "lines",
         "name": "wide_variable_1",
         "orientation": "v",
         "showlegend": true,
         "type": "scatter",
         "x": {
          "bdata": "AAECAwQFBgcICQoLDA0ODxAREhMUFRYXGBk=",
          "dtype": "i1"
         },
         "xaxis": "x",
         "y": {
          "bdata": "xpSaPLxcmTusUgI9XLDgPdRLrbzi4s490SlfvJKXjL3wbgs7lukKvawKqDwAHRw8QKOnvC+IoLyyGus98REjPVbKgT1uRgK+7i/5PPfyR74ZlAK+5fmgPhCe1DxnfxA/EPyZvTjvkj0=",
          "dtype": "f4"
         },
         "yaxis": "y"
        }
       ],
       "layout": {
        "legend": {
         "title": {
          "text": "variable"
         },
         "tracegroupgap": 0
        },
        "template": {
         "data": {
          "bar": [
           {
            "error_x": {
             "color": "#2a3f5f"
            },
            "error_y": {
             "color": "#2a3f5f"
            },
            "marker": {
             "line": {
              "color": "#E5ECF6",
              "width": 0.5
             },
             "pattern": {
              "fillmode": "overlay",
              "size": 10,
              "solidity": 0.2
             }
            },
            "type": "bar"
           }
          ],
          "barpolar": [
           {
            "marker": {
             "line": {
              "color": "#E5ECF6",
              "width": 0.5
             },
             "pattern": {
              "fillmode": "overlay",
              "size": 10,
              "solidity": 0.2
             }
            },
            "type": "barpolar"
           }
          ],
          "carpet": [
           {
            "aaxis": {
             "endlinecolor": "#2a3f5f",
             "gridcolor": "white",
             "linecolor": "white",
             "minorgridcolor": "white",
             "startlinecolor": "#2a3f5f"
            },
            "baxis": {
             "endlinecolor": "#2a3f5f",
             "gridcolor": "white",
             "linecolor": "white",
             "minorgridcolor": "white",
             "startlinecolor": "#2a3f5f"
            },
            "type": "carpet"
           }
          ],
          "choropleth": [
           {
            "colorbar": {
             "outlinewidth": 0,
             "ticks": ""
            },
            "type": "choropleth"
           }
          ],
          "contour": [
           {
            "colorbar": {
             "outlinewidth": 0,
             "ticks": ""
            },
            "colorscale": [
             [
              0,
              "#0d0887"
             ],
             [
              0.1111111111111111,
              "#46039f"
             ],
             [
              0.2222222222222222,
              "#7201a8"
             ],
             [
              0.3333333333333333,
              "#9c179e"
             ],
             [
              0.4444444444444444,
              "#bd3786"
             ],
             [
              0.5555555555555556,
              "#d8576b"
             ],
             [
              0.6666666666666666,
              "#ed7953"
             ],
             [
              0.7777777777777778,
              "#fb9f3a"
             ],
             [
              0.8888888888888888,
              "#fdca26"
             ],
             [
              1,
              "#f0f921"
             ]
            ],
            "type": "contour"
           }
          ],
          "contourcarpet": [
           {
            "colorbar": {
             "outlinewidth": 0,
             "ticks": ""
            },
            "type": "contourcarpet"
           }
          ],
          "heatmap": [
           {
            "colorbar": {
             "outlinewidth": 0,
             "ticks": ""
            },
            "colorscale": [
             [
              0,
              "#0d0887"
             ],
             [
              0.1111111111111111,
              "#46039f"
             ],
             [
              0.2222222222222222,
              "#7201a8"
             ],
             [
              0.3333333333333333,
              "#9c179e"
             ],
             [
              0.4444444444444444,
              "#bd3786"
             ],
             [
              0.5555555555555556,
              "#d8576b"
             ],
             [
              0.6666666666666666,
              "#ed7953"
             ],
             [
              0.7777777777777778,
              "#fb9f3a"
             ],
             [
              0.8888888888888888,
              "#fdca26"
             ],
             [
              1,
              "#f0f921"
             ]
            ],
            "type": "heatmap"
           }
          ],
          "histogram": [
           {
            "marker": {
             "pattern": {
              "fillmode": "overlay",
              "size": 10,
              "solidity": 0.2
             }
            },
            "type": "histogram"
           }
          ],
          "histogram2d": [
           {
            "colorbar": {
             "outlinewidth": 0,
             "ticks": ""
            },
            "colorscale": [
             [
              0,
              "#0d0887"
             ],
             [
              0.1111111111111111,
              "#46039f"
             ],
             [
              0.2222222222222222,
              "#7201a8"
             ],
             [
              0.3333333333333333,
              "#9c179e"
             ],
             [
              0.4444444444444444,
              "#bd3786"
             ],
             [
              0.5555555555555556,
              "#d8576b"
             ],
             [
              0.6666666666666666,
              "#ed7953"
             ],
             [
              0.7777777777777778,
              "#fb9f3a"
             ],
             [
              0.8888888888888888,
              "#fdca26"
             ],
             [
              1,
              "#f0f921"
             ]
            ],
            "type": "histogram2d"
           }
          ],
          "histogram2dcontour": [
           {
            "colorbar": {
             "outlinewidth": 0,
             "ticks": ""
            },
            "colorscale": [
             [
              0,
              "#0d0887"
             ],
             [
              0.1111111111111111,
              "#46039f"
             ],
             [
              0.2222222222222222,
              "#7201a8"
             ],
             [
              0.3333333333333333,
              "#9c179e"
             ],
             [
              0.4444444444444444,
              "#bd3786"
             ],
             [
              0.5555555555555556,
              "#d8576b"
             ],
             [
              0.6666666666666666,
              "#ed7953"
             ],
             [
              0.7777777777777778,
              "#fb9f3a"
             ],
             [
              0.8888888888888888,
              "#fdca26"
             ],
             [
              1,
              "#f0f921"
             ]
            ],
            "type": "histogram2dcontour"
           }
          ],
          "mesh3d": [
           {
            "colorbar": {
             "outlinewidth": 0,
             "ticks": ""
            },
            "type": "mesh3d"
           }
          ],
          "parcoords": [
           {
            "line": {
             "colorbar": {
              "outlinewidth": 0,
              "ticks": ""
             }
            },
            "type": "parcoords"
           }
          ],
          "pie": [
           {
            "automargin": true,
            "type": "pie"
           }
          ],
          "scatter": [
           {
            "fillpattern": {
             "fillmode": "overlay",
             "size": 10,
             "solidity": 0.2
            },
            "type": "scatter"
           }
          ],
          "scatter3d": [
           {
            "line": {
             "colorbar": {
              "outlinewidth": 0,
              "ticks": ""
             }
            },
            "marker": {
             "colorbar": {
              "outlinewidth": 0,
              "ticks": ""
             }
            },
            "type": "scatter3d"
           }
          ],
          "scattercarpet": [
           {
            "marker": {
             "colorbar": {
              "outlinewidth": 0,
              "ticks": ""
             }
            },
            "type": "scattercarpet"
           }
          ],
          "scattergeo": [
           {
            "marker": {
             "colorbar": {
              "outlinewidth": 0,
              "ticks": ""
             }
            },
            "type": "scattergeo"
           }
          ],
          "scattergl": [
           {
            "marker": {
             "colorbar": {
              "outlinewidth": 0,
              "ticks": ""
             }
            },
            "type": "scattergl"
           }
          ],
          "scattermap": [
           {
            "marker": {
             "colorbar": {
              "outlinewidth": 0,
              "ticks": ""
             }
            },
            "type": "scattermap"
           }
          ],
          "scattermapbox": [
           {
            "marker": {
             "colorbar": {
              "outlinewidth": 0,
              "ticks": ""
             }
            },
            "type": "scattermapbox"
           }
          ],
          "scatterpolar": [
           {
            "marker": {
             "colorbar": {
              "outlinewidth": 0,
              "ticks": ""
             }
            },
            "type": "scatterpolar"
           }
          ],
          "scatterpolargl": [
           {
            "marker": {
             "colorbar": {
              "outlinewidth": 0,
              "ticks": ""
             }
            },
            "type": "scatterpolargl"
           }
          ],
          "scatterternary": [
           {
            "marker": {
             "colorbar": {
              "outlinewidth": 0,
              "ticks": ""
             }
            },
            "type": "scatterternary"
           }
          ],
          "surface": [
           {
            "colorbar": {
             "outlinewidth": 0,
             "ticks": ""
            },
            "colorscale": [
             [
              0,
              "#0d0887"
             ],
             [
              0.1111111111111111,
              "#46039f"
             ],
             [
              0.2222222222222222,
              "#7201a8"
             ],
             [
              0.3333333333333333,
              "#9c179e"
             ],
             [
              0.4444444444444444,
              "#bd3786"
             ],
             [
              0.5555555555555556,
              "#d8576b"
             ],
             [
              0.6666666666666666,
              "#ed7953"
             ],
             [
              0.7777777777777778,
              "#fb9f3a"
             ],
             [
              0.8888888888888888,
              "#fdca26"
             ],
             [
              1,
              "#f0f921"
             ]
            ],
            "type": "surface"
           }
          ],
          "table": [
           {
            "cells": {
             "fill": {
              "color": "#EBF0F8"
             },
             "line": {
              "color": "white"
             }
            },
            "header": {
             "fill": {
              "color": "#C8D4E3"
             },
             "line": {
              "color": "white"
             }
            },
            "type": "table"
           }
          ]
         },
         "layout": {
          "annotationdefaults": {
           "arrowcolor": "#2a3f5f",
           "arrowhead": 0,
           "arrowwidth": 1
          },
          "autotypenumbers": "strict",
          "coloraxis": {
           "colorbar": {
            "outlinewidth": 0,
            "ticks": ""
           }
          },
          "colorscale": {
           "diverging": [
            [
             0,
             "#8e0152"
            ],
            [
             0.1,
             "#c51b7d"
            ],
            [
             0.2,
             "#de77ae"
            ],
            [
             0.3,
             "#f1b6da"
            ],
            [
             0.4,
             "#fde0ef"
            ],
            [
             0.5,
             "#f7f7f7"
            ],
            [
             0.6,
             "#e6f5d0"
            ],
            [
             0.7,
             "#b8e186"
            ],
            [
             0.8,
             "#7fbc41"
            ],
            [
             0.9,
             "#4d9221"
            ],
            [
             1,
             "#276419"
            ]
           ],
           "sequential": [
            [
             0,
             "#0d0887"
            ],
            [
             0.1111111111111111,
             "#46039f"
            ],
            [
             0.2222222222222222,
             "#7201a8"
            ],
            [
             0.3333333333333333,
             "#9c179e"
            ],
            [
             0.4444444444444444,
             "#bd3786"
            ],
            [
             0.5555555555555556,
             "#d8576b"
            ],
            [
             0.6666666666666666,
             "#ed7953"
            ],
            [
             0.7777777777777778,
             "#fb9f3a"
            ],
            [
             0.8888888888888888,
             "#fdca26"
            ],
            [
             1,
             "#f0f921"
            ]
           ],
           "sequentialminus": [
            [
             0,
             "#0d0887"
            ],
            [
             0.1111111111111111,
             "#46039f"
            ],
            [
             0.2222222222222222,
             "#7201a8"
            ],
            [
             0.3333333333333333,
             "#9c179e"
            ],
            [
             0.4444444444444444,
             "#bd3786"
            ],
            [
             0.5555555555555556,
             "#d8576b"
            ],
            [
             0.6666666666666666,
             "#ed7953"
            ],
            [
             0.7777777777777778,
             "#fb9f3a"
            ],
            [
             0.8888888888888888,
             "#fdca26"
            ],
            [
             1,
             "#f0f921"
            ]
           ]
          },
          "colorway": [
           "#636efa",
           "#EF553B",
           "#00cc96",
           "#ab63fa",
           "#FFA15A",
           "#19d3f3",
           "#FF6692",
           "#B6E880",
           "#FF97FF",
           "#FECB52"
          ],
          "font": {
           "color": "#2a3f5f"
          },
          "geo": {
           "bgcolor": "white",
           "lakecolor": "white",
           "landcolor": "#E5ECF6",
           "showlakes": true,
           "showland": true,
           "subunitcolor": "white"
          },
          "hoverlabel": {
           "align": "left"
          },
          "hovermode": "closest",
          "mapbox": {
           "style": "light"
          },
          "paper_bgcolor": "white",
          "plot_bgcolor": "#E5ECF6",
          "polar": {
           "angularaxis": {
            "gridcolor": "white",
            "linecolor": "white",
            "ticks": ""
           },
           "bgcolor": "#E5ECF6",
           "radialaxis": {
            "gridcolor": "white",
            "linecolor": "white",
            "ticks": ""
           }
          },
          "scene": {
           "xaxis": {
            "backgroundcolor": "#E5ECF6",
            "gridcolor": "white",
            "gridwidth": 2,
            "linecolor": "white",
            "showbackground": true,
            "ticks": "",
            "zerolinecolor": "white"
           },
           "yaxis": {
            "backgroundcolor": "#E5ECF6",
            "gridcolor": "white",
            "gridwidth": 2,
            "linecolor": "white",
            "showbackground": true,
            "ticks": "",
            "zerolinecolor": "white"
           },
           "zaxis": {
            "backgroundcolor": "#E5ECF6",
            "gridcolor": "white",
            "gridwidth": 2,
            "linecolor": "white",
            "showbackground": true,
            "ticks": "",
            "zerolinecolor": "white"
           }
          },
          "shapedefaults": {
           "line": {
            "color": "#2a3f5f"
           }
          },
          "ternary": {
           "aaxis": {
            "gridcolor": "white",
            "linecolor": "white",
            "ticks": ""
           },
           "baxis": {
            "gridcolor": "white",
            "linecolor": "white",
            "ticks": ""
           },
           "bgcolor": "#E5ECF6",
           "caxis": {
            "gridcolor": "white",
            "linecolor": "white",
            "ticks": ""
           }
          },
          "title": {
           "x": 0.05
          },
          "xaxis": {
           "automargin": true,
           "gridcolor": "white",
           "linecolor": "white",
           "ticks": "",
           "title": {
            "standoff": 15
           },
           "zerolinecolor": "white",
           "zerolinewidth": 2
          },
          "yaxis": {
           "automargin": true,
           "gridcolor": "white",
           "linecolor": "white",
           "ticks": "",
           "title": {
            "standoff": 15
           },
           "zerolinecolor": "white",
           "zerolinewidth": 2
          }
         }
        },
        "title": {
         "text": "Logit difference from each layer"
        },
        "xaxis": {
         "anchor": "y",
         "domain": [
          0,
          1
         ],
         "title": {
          "text": "index"
         }
        },
        "yaxis": {
         "anchor": "x",
         "domain": [
          0,
          1
         ],
         "title": {
          "text": "value"
         }
        }
       }
      }
     },
     "metadata": {},
     "output_type": "display_data"
    }
   ],
   "source": [
    "per_layer_residual_gpt2, labels = gpt2_cache.decompose_resid(layer = -1, pos_slice = -1, return_labels = True)\n",
    "per_layer_logit_diffs_base = residual_stack_to_logit_diff(per_layer_residual_gpt2, base_cache)\n",
    "\n",
    "per_layer_residual_base, labels = base_cache.decompose_resid(layer = -1, pos_slice = -1, return_labels = True)\n",
    "per_layer_logit_diffs_base = residual_stack_to_logit_diff(per_layer_residual_base, base_cache)\n",
    "\n",
    "per_layer_residual_rlhf, labels = rlhf_cache.decompose_resid(layer = -1, pos_slice = -1, return_labels = True)\n",
    "per_layer_logit_diffs_rlhf = residual_stack_to_logit_diff(per_layer_residual_rlhf, rlhf_cache)\n",
    "\n",
    "px.line(y = [utils.to_numpy(per_layer_logit_diffs_base), \n",
    "             utils.to_numpy(per_layer_logit_diffs_rlhf)],\n",
    "        hover_name = labels,\n",
    "        title = \"Logit difference from each layer\").show()"
   ]
  },
  {
   "cell_type": "code",
   "execution_count": 14,
   "id": "6be9a86e",
   "metadata": {},
   "outputs": [
    {
     "data": {
      "application/vnd.plotly.v1+json": {
       "config": {
        "plotlyServerURL": "https://plot.ly"
       },
       "data": [
        {
         "coloraxis": "coloraxis",
         "hovertemplate": "Neuron: %{x}<br>Pos: %{y}<br>color: %{z}<extra></extra>",
         "name": "0",
         "type": "heatmap",
         "xaxis": "x",
         "yaxis": "y",
         "z": {
          "bdata": "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",
          "dtype": "f4",
          "shape": "5, 3072"
         }
        }
       ],
       "layout": {
        "coloraxis": {
         "cmid": 0,
         "colorscale": [
          [
           0,
           "rgb(103,0,31)"
          ],
          [
           0.1,
           "rgb(178,24,43)"
          ],
          [
           0.2,
           "rgb(214,96,77)"
          ],
          [
           0.3,
           "rgb(244,165,130)"
          ],
          [
           0.4,
           "rgb(253,219,199)"
          ],
          [
           0.5,
           "rgb(247,247,247)"
          ],
          [
           0.6,
           "rgb(209,229,240)"
          ],
          [
           0.7,
           "rgb(146,197,222)"
          ],
          [
           0.8,
           "rgb(67,147,195)"
          ],
          [
           0.9,
           "rgb(33,102,172)"
          ],
          [
           1,
           "rgb(5,48,97)"
          ]
         ]
        },
        "template": {
         "data": {
          "bar": [
           {
            "error_x": {
             "color": "#2a3f5f"
            },
            "error_y": {
             "color": "#2a3f5f"
            },
            "marker": {
             "line": {
              "color": "#E5ECF6",
              "width": 0.5
             },
             "pattern": {
              "fillmode": "overlay",
              "size": 10,
              "solidity": 0.2
             }
            },
            "type": "bar"
           }
          ],
          "barpolar": [
           {
            "marker": {
             "line": {
              "color": "#E5ECF6",
              "width": 0.5
             },
             "pattern": {
              "fillmode": "overlay",
              "size": 10,
              "solidity": 0.2
             }
            },
            "type": "barpolar"
           }
          ],
          "carpet": [
           {
            "aaxis": {
             "endlinecolor": "#2a3f5f",
             "gridcolor": "white",
             "linecolor": "white",
             "minorgridcolor": "white",
             "startlinecolor": "#2a3f5f"
            },
            "baxis": {
             "endlinecolor": "#2a3f5f",
             "gridcolor": "white",
             "linecolor": "white",
             "minorgridcolor": "white",
             "startlinecolor": "#2a3f5f"
            },
            "type": "carpet"
           }
          ],
          "choropleth": [
           {
            "colorbar": {
             "outlinewidth": 0,
             "ticks": ""
            },
            "type": "choropleth"
           }
          ],
          "contour": [
           {
            "colorbar": {
             "outlinewidth": 0,
             "ticks": ""
            },
            "colorscale": [
             [
              0,
              "#0d0887"
             ],
             [
              0.1111111111111111,
              "#46039f"
             ],
             [
              0.2222222222222222,
              "#7201a8"
             ],
             [
              0.3333333333333333,
              "#9c179e"
             ],
             [
              0.4444444444444444,
              "#bd3786"
             ],
             [
              0.5555555555555556,
              "#d8576b"
             ],
             [
              0.6666666666666666,
              "#ed7953"
             ],
             [
              0.7777777777777778,
              "#fb9f3a"
             ],
             [
              0.8888888888888888,
              "#fdca26"
             ],
             [
              1,
              "#f0f921"
             ]
            ],
            "type": "contour"
           }
          ],
          "contourcarpet": [
           {
            "colorbar": {
             "outlinewidth": 0,
             "ticks": ""
            },
            "type": "contourcarpet"
           }
          ],
          "heatmap": [
           {
            "colorbar": {
             "outlinewidth": 0,
             "ticks": ""
            },
            "colorscale": [
             [
              0,
              "#0d0887"
             ],
             [
              0.1111111111111111,
              "#46039f"
             ],
             [
              0.2222222222222222,
              "#7201a8"
             ],
             [
              0.3333333333333333,
              "#9c179e"
             ],
             [
              0.4444444444444444,
              "#bd3786"
             ],
             [
              0.5555555555555556,
              "#d8576b"
             ],
             [
              0.6666666666666666,
              "#ed7953"
             ],
             [
              0.7777777777777778,
              "#fb9f3a"
             ],
             [
              0.8888888888888888,
              "#fdca26"
             ],
             [
              1,
              "#f0f921"
             ]
            ],
            "type": "heatmap"
           }
          ],
          "histogram": [
           {
            "marker": {
             "pattern": {
              "fillmode": "overlay",
              "size": 10,
              "solidity": 0.2
             }
            },
            "type": "histogram"
           }
          ],
          "histogram2d": [
           {
            "colorbar": {
             "outlinewidth": 0,
             "ticks": ""
            },
            "colorscale": [
             [
              0,
              "#0d0887"
             ],
             [
              0.1111111111111111,
              "#46039f"
             ],
             [
              0.2222222222222222,
              "#7201a8"
             ],
             [
              0.3333333333333333,
              "#9c179e"
             ],
             [
              0.4444444444444444,
              "#bd3786"
             ],
             [
              0.5555555555555556,
              "#d8576b"
             ],
             [
              0.6666666666666666,
              "#ed7953"
             ],
             [
              0.7777777777777778,
              "#fb9f3a"
             ],
             [
              0.8888888888888888,
              "#fdca26"
             ],
             [
              1,
              "#f0f921"
             ]
            ],
            "type": "histogram2d"
           }
          ],
          "histogram2dcontour": [
           {
            "colorbar": {
             "outlinewidth": 0,
             "ticks": ""
            },
            "colorscale": [
             [
              0,
              "#0d0887"
             ],
             [
              0.1111111111111111,
              "#46039f"
             ],
             [
              0.2222222222222222,
              "#7201a8"
             ],
             [
              0.3333333333333333,
              "#9c179e"
             ],
             [
              0.4444444444444444,
              "#bd3786"
             ],
             [
              0.5555555555555556,
              "#d8576b"
             ],
             [
              0.6666666666666666,
              "#ed7953"
             ],
             [
              0.7777777777777778,
              "#fb9f3a"
             ],
             [
              0.8888888888888888,
              "#fdca26"
             ],
             [
              1,
              "#f0f921"
             ]
            ],
            "type": "histogram2dcontour"
           }
          ],
          "mesh3d": [
           {
            "colorbar": {
             "outlinewidth": 0,
             "ticks": ""
            },
            "type": "mesh3d"
           }
          ],
          "parcoords": [
           {
            "line": {
             "colorbar": {
              "outlinewidth": 0,
              "ticks": ""
             }
            },
            "type": "parcoords"
           }
          ],
          "pie": [
           {
            "automargin": true,
            "type": "pie"
           }
          ],
          "scatter": [
           {
            "fillpattern": {
             "fillmode": "overlay",
             "size": 10,
             "solidity": 0.2
            },
            "type": "scatter"
           }
          ],
          "scatter3d": [
           {
            "line": {
             "colorbar": {
              "outlinewidth": 0,
              "ticks": ""
             }
            },
            "marker": {
             "colorbar": {
              "outlinewidth": 0,
              "ticks": ""
             }
            },
            "type": "scatter3d"
           }
          ],
          "scattercarpet": [
           {
            "marker": {
             "colorbar": {
              "outlinewidth": 0,
              "ticks": ""
             }
            },
            "type": "scattercarpet"
           }
          ],
          "scattergeo": [
           {
            "marker": {
             "colorbar": {
              "outlinewidth": 0,
              "ticks": ""
             }
            },
            "type": "scattergeo"
           }
          ],
          "scattergl": [
           {
            "marker": {
             "colorbar": {
              "outlinewidth": 0,
              "ticks": ""
             }
            },
            "type": "scattergl"
           }
          ],
          "scattermap": [
           {
            "marker": {
             "colorbar": {
              "outlinewidth": 0,
              "ticks": ""
             }
            },
            "type": "scattermap"
           }
          ],
          "scattermapbox": [
           {
            "marker": {
             "colorbar": {
              "outlinewidth": 0,
              "ticks": ""
             }
            },
            "type": "scattermapbox"
           }
          ],
          "scatterpolar": [
           {
            "marker": {
             "colorbar": {
              "outlinewidth": 0,
              "ticks": ""
             }
            },
            "type": "scatterpolar"
           }
          ],
          "scatterpolargl": [
           {
            "marker": {
             "colorbar": {
              "outlinewidth": 0,
              "ticks": ""
             }
            },
            "type": "scatterpolargl"
           }
          ],
          "scatterternary": [
           {
            "marker": {
             "colorbar": {
              "outlinewidth": 0,
              "ticks": ""
             }
            },
            "type": "scatterternary"
           }
          ],
          "surface": [
           {
            "colorbar": {
             "outlinewidth": 0,
             "ticks": ""
            },
            "colorscale": [
             [
              0,
              "#0d0887"
             ],
             [
              0.1111111111111111,
              "#46039f"
             ],
             [
              0.2222222222222222,
              "#7201a8"
             ],
             [
              0.3333333333333333,
              "#9c179e"
             ],
             [
              0.4444444444444444,
              "#bd3786"
             ],
             [
              0.5555555555555556,
              "#d8576b"
             ],
             [
              0.6666666666666666,
              "#ed7953"
             ],
             [
              0.7777777777777778,
              "#fb9f3a"
             ],
             [
              0.8888888888888888,
              "#fdca26"
             ],
             [
              1,
              "#f0f921"
             ]
            ],
            "type": "surface"
           }
          ],
          "table": [
           {
            "cells": {
             "fill": {
              "color": "#EBF0F8"
             },
             "line": {
              "color": "white"
             }
            },
            "header": {
             "fill": {
              "color": "#C8D4E3"
             },
             "line": {
              "color": "white"
             }
            },
            "type": "table"
           }
          ]
         },
         "layout": {
          "annotationdefaults": {
           "arrowcolor": "#2a3f5f",
           "arrowhead": 0,
           "arrowwidth": 1
          },
          "autotypenumbers": "strict",
          "coloraxis": {
           "colorbar": {
            "outlinewidth": 0,
            "ticks": ""
           }
          },
          "colorscale": {
           "diverging": [
            [
             0,
             "#8e0152"
            ],
            [
             0.1,
             "#c51b7d"
            ],
            [
             0.2,
             "#de77ae"
            ],
            [
             0.3,
             "#f1b6da"
            ],
            [
             0.4,
             "#fde0ef"
            ],
            [
             0.5,
             "#f7f7f7"
            ],
            [
             0.6,
             "#e6f5d0"
            ],
            [
             0.7,
             "#b8e186"
            ],
            [
             0.8,
             "#7fbc41"
            ],
            [
             0.9,
             "#4d9221"
            ],
            [
             1,
             "#276419"
            ]
           ],
           "sequential": [
            [
             0,
             "#0d0887"
            ],
            [
             0.1111111111111111,
             "#46039f"
            ],
            [
             0.2222222222222222,
             "#7201a8"
            ],
            [
             0.3333333333333333,
             "#9c179e"
            ],
            [
             0.4444444444444444,
             "#bd3786"
            ],
            [
             0.5555555555555556,
             "#d8576b"
            ],
            [
             0.6666666666666666,
             "#ed7953"
            ],
            [
             0.7777777777777778,
             "#fb9f3a"
            ],
            [
             0.8888888888888888,
             "#fdca26"
            ],
            [
             1,
             "#f0f921"
            ]
           ],
           "sequentialminus": [
            [
             0,
             "#0d0887"
            ],
            [
             0.1111111111111111,
             "#46039f"
            ],
            [
             0.2222222222222222,
             "#7201a8"
            ],
            [
             0.3333333333333333,
             "#9c179e"
            ],
            [
             0.4444444444444444,
             "#bd3786"
            ],
            [
             0.5555555555555556,
             "#d8576b"
            ],
            [
             0.6666666666666666,
             "#ed7953"
            ],
            [
             0.7777777777777778,
             "#fb9f3a"
            ],
            [
             0.8888888888888888,
             "#fdca26"
            ],
            [
             1,
             "#f0f921"
            ]
           ]
          },
          "colorway": [
           "#636efa",
           "#EF553B",
           "#00cc96",
           "#ab63fa",
           "#FFA15A",
           "#19d3f3",
           "#FF6692",
           "#B6E880",
           "#FF97FF",
           "#FECB52"
          ],
          "font": {
           "color": "#2a3f5f"
          },
          "geo": {
           "bgcolor": "white",
           "lakecolor": "white",
           "landcolor": "#E5ECF6",
           "showlakes": true,
           "showland": true,
           "subunitcolor": "white"
          },
          "hoverlabel": {
           "align": "left"
          },
          "hovermode": "closest",
          "mapbox": {
           "style": "light"
          },
          "paper_bgcolor": "white",
          "plot_bgcolor": "#E5ECF6",
          "polar": {
           "angularaxis": {
            "gridcolor": "white",
            "linecolor": "white",
            "ticks": ""
           },
           "bgcolor": "#E5ECF6",
           "radialaxis": {
            "gridcolor": "white",
            "linecolor": "white",
            "ticks": ""
           }
          },
          "scene": {
           "xaxis": {
            "backgroundcolor": "#E5ECF6",
            "gridcolor": "white",
            "gridwidth": 2,
            "linecolor": "white",
            "showbackground": true,
            "ticks": "",
            "zerolinecolor": "white"
           },
           "yaxis": {
            "backgroundcolor": "#E5ECF6",
            "gridcolor": "white",
            "gridwidth": 2,
            "linecolor": "white",
            "showbackground": true,
            "ticks": "",
            "zerolinecolor": "white"
           },
           "zaxis": {
            "backgroundcolor": "#E5ECF6",
            "gridcolor": "white",
            "gridwidth": 2,
            "linecolor": "white",
            "showbackground": true,
            "ticks": "",
            "zerolinecolor": "white"
           }
          },
          "shapedefaults": {
           "line": {
            "color": "#2a3f5f"
           }
          },
          "ternary": {
           "aaxis": {
            "gridcolor": "white",
            "linecolor": "white",
            "ticks": ""
           },
           "baxis": {
            "gridcolor": "white",
            "linecolor": "white",
            "ticks": ""
           },
           "bgcolor": "#E5ECF6",
           "caxis": {
            "gridcolor": "white",
            "linecolor": "white",
            "ticks": ""
           }
          },
          "title": {
           "x": 0.05
          },
          "xaxis": {
           "automargin": true,
           "gridcolor": "white",
           "linecolor": "white",
           "ticks": "",
           "title": {
            "standoff": 15
           },
           "zerolinecolor": "white",
           "zerolinewidth": 2
          },
          "yaxis": {
           "automargin": true,
           "gridcolor": "white",
           "linecolor": "white",
           "ticks": "",
           "title": {
            "standoff": 15
           },
           "zerolinecolor": "white",
           "zerolinewidth": 2
          }
         }
        },
        "title": {
         "text": "Neuron activations for single inputs"
        },
        "xaxis": {
         "anchor": "y",
         "domain": [
          0,
          1
         ],
         "title": {
          "text": "Neuron"
         }
        },
        "yaxis": {
         "anchor": "x",
         "autorange": "reversed",
         "domain": [
          0,
          1
         ],
         "title": {
          "text": "Pos"
         }
        }
       }
      }
     },
     "metadata": {},
     "output_type": "display_data"
    }
   ],
   "source": [
    "def imshow(tensor, renderer=None, xaxis=\"\", yaxis=\"\", **kwargs):\n",
    "    px.imshow(utils.to_numpy(tensor), color_continuous_midpoint=0.0, color_continuous_scale=\"RdBu\", labels={\"x\":xaxis, \"y\":yaxis}, **kwargs).show(renderer)\n",
    "    \n",
    "imshow(rlhf_cache[\"post\", 11][0], yaxis=\"Pos\", xaxis=\"Neuron\", title=\"Neuron activations for single inputs\", aspect=\"auto\")"
   ]
  },
  {
   "cell_type": "code",
   "execution_count": 15,
   "id": "3b84973e",
   "metadata": {},
   "outputs": [
    {
     "name": "stdout",
     "output_type": "stream",
     "text": [
      "Tried to stack head results when they weren't cached. Computing head results now\n"
     ]
    },
    {
     "name": "stdout",
     "output_type": "stream",
     "text": [
      "Tried to stack head results when they weren't cached. Computing head results now\n"
     ]
    },
    {
     "data": {
      "application/vnd.plotly.v1+json": {
       "config": {
        "plotlyServerURL": "https://plot.ly"
       },
       "data": [
        {
         "coloraxis": "coloraxis",
         "hovertemplate": "Head: %{x}<br>Layer: %{y}<br>color: %{z}<extra></extra>",
         "name": "0",
         "type": "heatmap",
         "xaxis": "x",
         "yaxis": "y",
         "z": {
          "bdata": "1Js1vBhKWDvAKYI84sOAvLD6pzupavM8kNz5vDh0ErwqbcM8bMNqPCBgsroMv+28LKMyvLnACLw8ra48KMmGO+jb5rvj2tK7TDfkupKDhLtOLas8IL38OwhJlLtOJ6o82uELPcwkiLuciUq8fEEJPE8PnDu4QEI7C/VoPHavyztA0Im7zMxbvCxBbLwKtNC71KmWuyTxYLug2RA8r8voO1ApMbv8+0i8UHmqu9JcbDw0OJE63oCuuzHnWzyoYq+7CB5lO+D/Zzpkk9i73HtAvJCXBbxaUD673he4PEsTgbsOoZs7mO/Pu24iijtK80M84DljO8AejjpQd/u7/C7Lu45fR7sAfIO7pN3Zu/hUfzuAJUE7gP0ju4eFiLyQ8Ig8cNMnPOzwWTuU83k7EC2KPKBporv4yuS6FKzbu6zO3jwuw4K78GpFPCCjNTuxHN47yUcEPIT2+jtuvQM7vtVVvBCE87q6GZq8krSbvA5VEjy8lRQ9aHbDO9qFPTwgmc86drqAPAjnFDxUgEa88KrkuxZ01rw2Lus8srQeO0jTvTzQQ+o69oqQPGDpFLz25wi8edlLvQBedjiLEPw8uDYSPYyyIjv8t8i7wBRPOUieyLsA+b249Pr7u/13Sz3UkQk8/5ZUO8AFejq8iDu7vDSrOwAIuDw2OpK8wFOouQJcILvoCbq6jbl+PYzL1bowRS67AHeLOpqTSbzgSKG7bJSWPOAqNLwAXxi7paL6u/gqf7vgIuS7ZnxlPCHuWDxEw8a8",
          "dtype": "f4",
          "shape": "12, 12"
         }
        }
       ],
       "layout": {
        "coloraxis": {
         "cmid": 0,
         "colorscale": [
          [
           0,
           "rgb(103,0,31)"
          ],
          [
           0.1,
           "rgb(178,24,43)"
          ],
          [
           0.2,
           "rgb(214,96,77)"
          ],
          [
           0.3,
           "rgb(244,165,130)"
          ],
          [
           0.4,
           "rgb(253,219,199)"
          ],
          [
           0.5,
           "rgb(247,247,247)"
          ],
          [
           0.6,
           "rgb(209,229,240)"
          ],
          [
           0.7,
           "rgb(146,197,222)"
          ],
          [
           0.8,
           "rgb(67,147,195)"
          ],
          [
           0.9,
           "rgb(33,102,172)"
          ],
          [
           1,
           "rgb(5,48,97)"
          ]
         ]
        },
        "template": {
         "data": {
          "bar": [
           {
            "error_x": {
             "color": "#2a3f5f"
            },
            "error_y": {
             "color": "#2a3f5f"
            },
            "marker": {
             "line": {
              "color": "#E5ECF6",
              "width": 0.5
             },
             "pattern": {
              "fillmode": "overlay",
              "size": 10,
              "solidity": 0.2
             }
            },
            "type": "bar"
           }
          ],
          "barpolar": [
           {
            "marker": {
             "line": {
              "color": "#E5ECF6",
              "width": 0.5
             },
             "pattern": {
              "fillmode": "overlay",
              "size": 10,
              "solidity": 0.2
             }
            },
            "type": "barpolar"
           }
          ],
          "carpet": [
           {
            "aaxis": {
             "endlinecolor": "#2a3f5f",
             "gridcolor": "white",
             "linecolor": "white",
             "minorgridcolor": "white",
             "startlinecolor": "#2a3f5f"
            },
            "baxis": {
             "endlinecolor": "#2a3f5f",
             "gridcolor": "white",
             "linecolor": "white",
             "minorgridcolor": "white",
             "startlinecolor": "#2a3f5f"
            },
            "type": "carpet"
           }
          ],
          "choropleth": [
           {
            "colorbar": {
             "outlinewidth": 0,
             "ticks": ""
            },
            "type": "choropleth"
           }
          ],
          "contour": [
           {
            "colorbar": {
             "outlinewidth": 0,
             "ticks": ""
            },
            "colorscale": [
             [
              0,
              "#0d0887"
             ],
             [
              0.1111111111111111,
              "#46039f"
             ],
             [
              0.2222222222222222,
              "#7201a8"
             ],
             [
              0.3333333333333333,
              "#9c179e"
             ],
             [
              0.4444444444444444,
              "#bd3786"
             ],
             [
              0.5555555555555556,
              "#d8576b"
             ],
             [
              0.6666666666666666,
              "#ed7953"
             ],
             [
              0.7777777777777778,
              "#fb9f3a"
             ],
             [
              0.8888888888888888,
              "#fdca26"
             ],
             [
              1,
              "#f0f921"
             ]
            ],
            "type": "contour"
           }
          ],
          "contourcarpet": [
           {
            "colorbar": {
             "outlinewidth": 0,
             "ticks": ""
            },
            "type": "contourcarpet"
           }
          ],
          "heatmap": [
           {
            "colorbar": {
             "outlinewidth": 0,
             "ticks": ""
            },
            "colorscale": [
             [
              0,
              "#0d0887"
             ],
             [
              0.1111111111111111,
              "#46039f"
             ],
             [
              0.2222222222222222,
              "#7201a8"
             ],
             [
              0.3333333333333333,
              "#9c179e"
             ],
             [
              0.4444444444444444,
              "#bd3786"
             ],
             [
              0.5555555555555556,
              "#d8576b"
             ],
             [
              0.6666666666666666,
              "#ed7953"
             ],
             [
              0.7777777777777778,
              "#fb9f3a"
             ],
             [
              0.8888888888888888,
              "#fdca26"
             ],
             [
              1,
              "#f0f921"
             ]
            ],
            "type": "heatmap"
           }
          ],
          "histogram": [
           {
            "marker": {
             "pattern": {
              "fillmode": "overlay",
              "size": 10,
              "solidity": 0.2
             }
            },
            "type": "histogram"
           }
          ],
          "histogram2d": [
           {
            "colorbar": {
             "outlinewidth": 0,
             "ticks": ""
            },
            "colorscale": [
             [
              0,
              "#0d0887"
             ],
             [
              0.1111111111111111,
              "#46039f"
             ],
             [
              0.2222222222222222,
              "#7201a8"
             ],
             [
              0.3333333333333333,
              "#9c179e"
             ],
             [
              0.4444444444444444,
              "#bd3786"
             ],
             [
              0.5555555555555556,
              "#d8576b"
             ],
             [
              0.6666666666666666,
              "#ed7953"
             ],
             [
              0.7777777777777778,
              "#fb9f3a"
             ],
             [
              0.8888888888888888,
              "#fdca26"
             ],
             [
              1,
              "#f0f921"
             ]
            ],
            "type": "histogram2d"
           }
          ],
          "histogram2dcontour": [
           {
            "colorbar": {
             "outlinewidth": 0,
             "ticks": ""
            },
            "colorscale": [
             [
              0,
              "#0d0887"
             ],
             [
              0.1111111111111111,
              "#46039f"
             ],
             [
              0.2222222222222222,
              "#7201a8"
             ],
             [
              0.3333333333333333,
              "#9c179e"
             ],
             [
              0.4444444444444444,
              "#bd3786"
             ],
             [
              0.5555555555555556,
              "#d8576b"
             ],
             [
              0.6666666666666666,
              "#ed7953"
             ],
             [
              0.7777777777777778,
              "#fb9f3a"
             ],
             [
              0.8888888888888888,
              "#fdca26"
             ],
             [
              1,
              "#f0f921"
             ]
            ],
            "type": "histogram2dcontour"
           }
          ],
          "mesh3d": [
           {
            "colorbar": {
             "outlinewidth": 0,
             "ticks": ""
            },
            "type": "mesh3d"
           }
          ],
          "parcoords": [
           {
            "line": {
             "colorbar": {
              "outlinewidth": 0,
              "ticks": ""
             }
            },
            "type": "parcoords"
           }
          ],
          "pie": [
           {
            "automargin": true,
            "type": "pie"
           }
          ],
          "scatter": [
           {
            "fillpattern": {
             "fillmode": "overlay",
             "size": 10,
             "solidity": 0.2
            },
            "type": "scatter"
           }
          ],
          "scatter3d": [
           {
            "line": {
             "colorbar": {
              "outlinewidth": 0,
              "ticks": ""
             }
            },
            "marker": {
             "colorbar": {
              "outlinewidth": 0,
              "ticks": ""
             }
            },
            "type": "scatter3d"
           }
          ],
          "scattercarpet": [
           {
            "marker": {
             "colorbar": {
              "outlinewidth": 0,
              "ticks": ""
             }
            },
            "type": "scattercarpet"
           }
          ],
          "scattergeo": [
           {
            "marker": {
             "colorbar": {
              "outlinewidth": 0,
              "ticks": ""
             }
            },
            "type": "scattergeo"
           }
          ],
          "scattergl": [
           {
            "marker": {
             "colorbar": {
              "outlinewidth": 0,
              "ticks": ""
             }
            },
            "type": "scattergl"
           }
          ],
          "scattermap": [
           {
            "marker": {
             "colorbar": {
              "outlinewidth": 0,
              "ticks": ""
             }
            },
            "type": "scattermap"
           }
          ],
          "scattermapbox": [
           {
            "marker": {
             "colorbar": {
              "outlinewidth": 0,
              "ticks": ""
             }
            },
            "type": "scattermapbox"
           }
          ],
          "scatterpolar": [
           {
            "marker": {
             "colorbar": {
              "outlinewidth": 0,
              "ticks": ""
             }
            },
            "type": "scatterpolar"
           }
          ],
          "scatterpolargl": [
           {
            "marker": {
             "colorbar": {
              "outlinewidth": 0,
              "ticks": ""
             }
            },
            "type": "scatterpolargl"
           }
          ],
          "scatterternary": [
           {
            "marker": {
             "colorbar": {
              "outlinewidth": 0,
              "ticks": ""
             }
            },
            "type": "scatterternary"
           }
          ],
          "surface": [
           {
            "colorbar": {
             "outlinewidth": 0,
             "ticks": ""
            },
            "colorscale": [
             [
              0,
              "#0d0887"
             ],
             [
              0.1111111111111111,
              "#46039f"
             ],
             [
              0.2222222222222222,
              "#7201a8"
             ],
             [
              0.3333333333333333,
              "#9c179e"
             ],
             [
              0.4444444444444444,
              "#bd3786"
             ],
             [
              0.5555555555555556,
              "#d8576b"
             ],
             [
              0.6666666666666666,
              "#ed7953"
             ],
             [
              0.7777777777777778,
              "#fb9f3a"
             ],
             [
              0.8888888888888888,
              "#fdca26"
             ],
             [
              1,
              "#f0f921"
             ]
            ],
            "type": "surface"
           }
          ],
          "table": [
           {
            "cells": {
             "fill": {
              "color": "#EBF0F8"
             },
             "line": {
              "color": "white"
             }
            },
            "header": {
             "fill": {
              "color": "#C8D4E3"
             },
             "line": {
              "color": "white"
             }
            },
            "type": "table"
           }
          ]
         },
         "layout": {
          "annotationdefaults": {
           "arrowcolor": "#2a3f5f",
           "arrowhead": 0,
           "arrowwidth": 1
          },
          "autotypenumbers": "strict",
          "coloraxis": {
           "colorbar": {
            "outlinewidth": 0,
            "ticks": ""
           }
          },
          "colorscale": {
           "diverging": [
            [
             0,
             "#8e0152"
            ],
            [
             0.1,
             "#c51b7d"
            ],
            [
             0.2,
             "#de77ae"
            ],
            [
             0.3,
             "#f1b6da"
            ],
            [
             0.4,
             "#fde0ef"
            ],
            [
             0.5,
             "#f7f7f7"
            ],
            [
             0.6,
             "#e6f5d0"
            ],
            [
             0.7,
             "#b8e186"
            ],
            [
             0.8,
             "#7fbc41"
            ],
            [
             0.9,
             "#4d9221"
            ],
            [
             1,
             "#276419"
            ]
           ],
           "sequential": [
            [
             0,
             "#0d0887"
            ],
            [
             0.1111111111111111,
             "#46039f"
            ],
            [
             0.2222222222222222,
             "#7201a8"
            ],
            [
             0.3333333333333333,
             "#9c179e"
            ],
            [
             0.4444444444444444,
             "#bd3786"
            ],
            [
             0.5555555555555556,
             "#d8576b"
            ],
            [
             0.6666666666666666,
             "#ed7953"
            ],
            [
             0.7777777777777778,
             "#fb9f3a"
            ],
            [
             0.8888888888888888,
             "#fdca26"
            ],
            [
             1,
             "#f0f921"
            ]
           ],
           "sequentialminus": [
            [
             0,
             "#0d0887"
            ],
            [
             0.1111111111111111,
             "#46039f"
            ],
            [
             0.2222222222222222,
             "#7201a8"
            ],
            [
             0.3333333333333333,
             "#9c179e"
            ],
            [
             0.4444444444444444,
             "#bd3786"
            ],
            [
             0.5555555555555556,
             "#d8576b"
            ],
            [
             0.6666666666666666,
             "#ed7953"
            ],
            [
             0.7777777777777778,
             "#fb9f3a"
            ],
            [
             0.8888888888888888,
             "#fdca26"
            ],
            [
             1,
             "#f0f921"
            ]
           ]
          },
          "colorway": [
           "#636efa",
           "#EF553B",
           "#00cc96",
           "#ab63fa",
           "#FFA15A",
           "#19d3f3",
           "#FF6692",
           "#B6E880",
           "#FF97FF",
           "#FECB52"
          ],
          "font": {
           "color": "#2a3f5f"
          },
          "geo": {
           "bgcolor": "white",
           "lakecolor": "white",
           "landcolor": "#E5ECF6",
           "showlakes": true,
           "showland": true,
           "subunitcolor": "white"
          },
          "hoverlabel": {
           "align": "left"
          },
          "hovermode": "closest",
          "mapbox": {
           "style": "light"
          },
          "paper_bgcolor": "white",
          "plot_bgcolor": "#E5ECF6",
          "polar": {
           "angularaxis": {
            "gridcolor": "white",
            "linecolor": "white",
            "ticks": ""
           },
           "bgcolor": "#E5ECF6",
           "radialaxis": {
            "gridcolor": "white",
            "linecolor": "white",
            "ticks": ""
           }
          },
          "scene": {
           "xaxis": {
            "backgroundcolor": "#E5ECF6",
            "gridcolor": "white",
            "gridwidth": 2,
            "linecolor": "white",
            "showbackground": true,
            "ticks": "",
            "zerolinecolor": "white"
           },
           "yaxis": {
            "backgroundcolor": "#E5ECF6",
            "gridcolor": "white",
            "gridwidth": 2,
            "linecolor": "white",
            "showbackground": true,
            "ticks": "",
            "zerolinecolor": "white"
           },
           "zaxis": {
            "backgroundcolor": "#E5ECF6",
            "gridcolor": "white",
            "gridwidth": 2,
            "linecolor": "white",
            "showbackground": true,
            "ticks": "",
            "zerolinecolor": "white"
           }
          },
          "shapedefaults": {
           "line": {
            "color": "#2a3f5f"
           }
          },
          "ternary": {
           "aaxis": {
            "gridcolor": "white",
            "linecolor": "white",
            "ticks": ""
           },
           "baxis": {
            "gridcolor": "white",
            "linecolor": "white",
            "ticks": ""
           },
           "bgcolor": "#E5ECF6",
           "caxis": {
            "gridcolor": "white",
            "linecolor": "white",
            "ticks": ""
           }
          },
          "title": {
           "x": 0.05
          },
          "xaxis": {
           "automargin": true,
           "gridcolor": "white",
           "linecolor": "white",
           "ticks": "",
           "title": {
            "standoff": 15
           },
           "zerolinecolor": "white",
           "zerolinewidth": 2
          },
          "yaxis": {
           "automargin": true,
           "gridcolor": "white",
           "linecolor": "white",
           "ticks": "",
           "title": {
            "standoff": 15
           },
           "zerolinecolor": "white",
           "zerolinewidth": 2
          }
         }
        },
        "title": {
         "text": "Logit Difference From Each Head (rlhf - base)"
        },
        "xaxis": {
         "anchor": "y",
         "constrain": "domain",
         "domain": [
          0,
          1
         ],
         "scaleanchor": "y",
         "title": {
          "text": "Head"
         }
        },
        "yaxis": {
         "anchor": "x",
         "autorange": "reversed",
         "constrain": "domain",
         "domain": [
          0,
          1
         ],
         "title": {
          "text": "Layer"
         }
        }
       }
      }
     },
     "metadata": {},
     "output_type": "display_data"
    },
    {
     "data": {
      "application/vnd.plotly.v1+json": {
       "config": {
        "plotlyServerURL": "https://plot.ly"
       },
       "data": [
        {
         "coloraxis": "coloraxis",
         "hovertemplate": "Head: %{x}<br>Layer: %{y}<br>color: %{z}<extra></extra>",
         "name": "0",
         "type": "heatmap",
         "xaxis": "x",
         "yaxis": "y",
         "z": {
          "bdata": "1Js1vBhKWDvAKYI84sOAvLD6pzupavM8kNz5vDh0ErwqbcM8bMNqPCBgsroMv+28LKMyvLnACLw8ra48KMmGO+jb5rvj2tK7TDfkupKDhLtOLas8IL38OwhJlLtOJ6o82uELPcwkiLuciUq8fEEJPE8PnDu4QEI7C/VoPHavyztA0Im7zMxbvCxBbLwKtNC71KmWuyTxYLug2RA8r8voO1ApMbv8+0i8UHmqu9JcbDw0OJE63oCuuzHnWzyoYq+7CB5lO+D/Zzpkk9i73HtAvJCXBbxaUD673he4PEsTgbsOoZs7mO/Pu24iijtK80M84DljO8AejjpQd/u7/C7Lu45fR7sAfIO7pN3Zu/hUfzuAJUE7gP0ju4eFiLyQ8Ig8cNMnPOzwWTuU83k7EC2KPKBporv4yuS6FKzbu6zO3jwuw4K78GpFPCCjNTuxHN47yUcEPIT2+jtuvQM7vtVVvBCE87q6GZq8krSbvA5VEjy8lRQ9aHbDO9qFPTwgmc86drqAPAjnFDxUgEa88KrkuxZ01rw2Lus8srQeO0jTvTzQQ+o69oqQPGDpFLz25wi8edlLvQBedjiLEPw8uDYSPYyyIjv8t8i7wBRPOUieyLsA+b249Pr7u/13Sz3UkQk8/5ZUO8AFejq8iDu7vDSrOwAIuDw2OpK8wFOouQJcILvoCbq6jbl+PYzL1bowRS67AHeLOpqTSbzgSKG7bJSWPOAqNLwAXxi7paL6u/gqf7vgIuS7ZnxlPCHuWDxEw8a8",
          "dtype": "f4",
          "shape": "12, 12"
         }
        }
       ],
       "layout": {
        "coloraxis": {
         "cmid": 0,
         "colorscale": [
          [
           0,
           "rgb(103,0,31)"
          ],
          [
           0.1,
           "rgb(178,24,43)"
          ],
          [
           0.2,
           "rgb(214,96,77)"
          ],
          [
           0.3,
           "rgb(244,165,130)"
          ],
          [
           0.4,
           "rgb(253,219,199)"
          ],
          [
           0.5,
           "rgb(247,247,247)"
          ],
          [
           0.6,
           "rgb(209,229,240)"
          ],
          [
           0.7,
           "rgb(146,197,222)"
          ],
          [
           0.8,
           "rgb(67,147,195)"
          ],
          [
           0.9,
           "rgb(33,102,172)"
          ],
          [
           1,
           "rgb(5,48,97)"
          ]
         ]
        },
        "template": {
         "data": {
          "bar": [
           {
            "error_x": {
             "color": "#2a3f5f"
            },
            "error_y": {
             "color": "#2a3f5f"
            },
            "marker": {
             "line": {
              "color": "#E5ECF6",
              "width": 0.5
             },
             "pattern": {
              "fillmode": "overlay",
              "size": 10,
              "solidity": 0.2
             }
            },
            "type": "bar"
           }
          ],
          "barpolar": [
           {
            "marker": {
             "line": {
              "color": "#E5ECF6",
              "width": 0.5
             },
             "pattern": {
              "fillmode": "overlay",
              "size": 10,
              "solidity": 0.2
             }
            },
            "type": "barpolar"
           }
          ],
          "carpet": [
           {
            "aaxis": {
             "endlinecolor": "#2a3f5f",
             "gridcolor": "white",
             "linecolor": "white",
             "minorgridcolor": "white",
             "startlinecolor": "#2a3f5f"
            },
            "baxis": {
             "endlinecolor": "#2a3f5f",
             "gridcolor": "white",
             "linecolor": "white",
             "minorgridcolor": "white",
             "startlinecolor": "#2a3f5f"
            },
            "type": "carpet"
           }
          ],
          "choropleth": [
           {
            "colorbar": {
             "outlinewidth": 0,
             "ticks": ""
            },
            "type": "choropleth"
           }
          ],
          "contour": [
           {
            "colorbar": {
             "outlinewidth": 0,
             "ticks": ""
            },
            "colorscale": [
             [
              0,
              "#0d0887"
             ],
             [
              0.1111111111111111,
              "#46039f"
             ],
             [
              0.2222222222222222,
              "#7201a8"
             ],
             [
              0.3333333333333333,
              "#9c179e"
             ],
             [
              0.4444444444444444,
              "#bd3786"
             ],
             [
              0.5555555555555556,
              "#d8576b"
             ],
             [
              0.6666666666666666,
              "#ed7953"
             ],
             [
              0.7777777777777778,
              "#fb9f3a"
             ],
             [
              0.8888888888888888,
              "#fdca26"
             ],
             [
              1,
              "#f0f921"
             ]
            ],
            "type": "contour"
           }
          ],
          "contourcarpet": [
           {
            "colorbar": {
             "outlinewidth": 0,
             "ticks": ""
            },
            "type": "contourcarpet"
           }
          ],
          "heatmap": [
           {
            "colorbar": {
             "outlinewidth": 0,
             "ticks": ""
            },
            "colorscale": [
             [
              0,
              "#0d0887"
             ],
             [
              0.1111111111111111,
              "#46039f"
             ],
             [
              0.2222222222222222,
              "#7201a8"
             ],
             [
              0.3333333333333333,
              "#9c179e"
             ],
             [
              0.4444444444444444,
              "#bd3786"
             ],
             [
              0.5555555555555556,
              "#d8576b"
             ],
             [
              0.6666666666666666,
              "#ed7953"
             ],
             [
              0.7777777777777778,
              "#fb9f3a"
             ],
             [
              0.8888888888888888,
              "#fdca26"
             ],
             [
              1,
              "#f0f921"
             ]
            ],
            "type": "heatmap"
           }
          ],
          "histogram": [
           {
            "marker": {
             "pattern": {
              "fillmode": "overlay",
              "size": 10,
              "solidity": 0.2
             }
            },
            "type": "histogram"
           }
          ],
          "histogram2d": [
           {
            "colorbar": {
             "outlinewidth": 0,
             "ticks": ""
            },
            "colorscale": [
             [
              0,
              "#0d0887"
             ],
             [
              0.1111111111111111,
              "#46039f"
             ],
             [
              0.2222222222222222,
              "#7201a8"
             ],
             [
              0.3333333333333333,
              "#9c179e"
             ],
             [
              0.4444444444444444,
              "#bd3786"
             ],
             [
              0.5555555555555556,
              "#d8576b"
             ],
             [
              0.6666666666666666,
              "#ed7953"
             ],
             [
              0.7777777777777778,
              "#fb9f3a"
             ],
             [
              0.8888888888888888,
              "#fdca26"
             ],
             [
              1,
              "#f0f921"
             ]
            ],
            "type": "histogram2d"
           }
          ],
          "histogram2dcontour": [
           {
            "colorbar": {
             "outlinewidth": 0,
             "ticks": ""
            },
            "colorscale": [
             [
              0,
              "#0d0887"
             ],
             [
              0.1111111111111111,
              "#46039f"
             ],
             [
              0.2222222222222222,
              "#7201a8"
             ],
             [
              0.3333333333333333,
              "#9c179e"
             ],
             [
              0.4444444444444444,
              "#bd3786"
             ],
             [
              0.5555555555555556,
              "#d8576b"
             ],
             [
              0.6666666666666666,
              "#ed7953"
             ],
             [
              0.7777777777777778,
              "#fb9f3a"
             ],
             [
              0.8888888888888888,
              "#fdca26"
             ],
             [
              1,
              "#f0f921"
             ]
            ],
            "type": "histogram2dcontour"
           }
          ],
          "mesh3d": [
           {
            "colorbar": {
             "outlinewidth": 0,
             "ticks": ""
            },
            "type": "mesh3d"
           }
          ],
          "parcoords": [
           {
            "line": {
             "colorbar": {
              "outlinewidth": 0,
              "ticks": ""
             }
            },
            "type": "parcoords"
           }
          ],
          "pie": [
           {
            "automargin": true,
            "type": "pie"
           }
          ],
          "scatter": [
           {
            "fillpattern": {
             "fillmode": "overlay",
             "size": 10,
             "solidity": 0.2
            },
            "type": "scatter"
           }
          ],
          "scatter3d": [
           {
            "line": {
             "colorbar": {
              "outlinewidth": 0,
              "ticks": ""
             }
            },
            "marker": {
             "colorbar": {
              "outlinewidth": 0,
              "ticks": ""
             }
            },
            "type": "scatter3d"
           }
          ],
          "scattercarpet": [
           {
            "marker": {
             "colorbar": {
              "outlinewidth": 0,
              "ticks": ""
             }
            },
            "type": "scattercarpet"
           }
          ],
          "scattergeo": [
           {
            "marker": {
             "colorbar": {
              "outlinewidth": 0,
              "ticks": ""
             }
            },
            "type": "scattergeo"
           }
          ],
          "scattergl": [
           {
            "marker": {
             "colorbar": {
              "outlinewidth": 0,
              "ticks": ""
             }
            },
            "type": "scattergl"
           }
          ],
          "scattermap": [
           {
            "marker": {
             "colorbar": {
              "outlinewidth": 0,
              "ticks": ""
             }
            },
            "type": "scattermap"
           }
          ],
          "scattermapbox": [
           {
            "marker": {
             "colorbar": {
              "outlinewidth": 0,
              "ticks": ""
             }
            },
            "type": "scattermapbox"
           }
          ],
          "scatterpolar": [
           {
            "marker": {
             "colorbar": {
              "outlinewidth": 0,
              "ticks": ""
             }
            },
            "type": "scatterpolar"
           }
          ],
          "scatterpolargl": [
           {
            "marker": {
             "colorbar": {
              "outlinewidth": 0,
              "ticks": ""
             }
            },
            "type": "scatterpolargl"
           }
          ],
          "scatterternary": [
           {
            "marker": {
             "colorbar": {
              "outlinewidth": 0,
              "ticks": ""
             }
            },
            "type": "scatterternary"
           }
          ],
          "surface": [
           {
            "colorbar": {
             "outlinewidth": 0,
             "ticks": ""
            },
            "colorscale": [
             [
              0,
              "#0d0887"
             ],
             [
              0.1111111111111111,
              "#46039f"
             ],
             [
              0.2222222222222222,
              "#7201a8"
             ],
             [
              0.3333333333333333,
              "#9c179e"
             ],
             [
              0.4444444444444444,
              "#bd3786"
             ],
             [
              0.5555555555555556,
              "#d8576b"
             ],
             [
              0.6666666666666666,
              "#ed7953"
             ],
             [
              0.7777777777777778,
              "#fb9f3a"
             ],
             [
              0.8888888888888888,
              "#fdca26"
             ],
             [
              1,
              "#f0f921"
             ]
            ],
            "type": "surface"
           }
          ],
          "table": [
           {
            "cells": {
             "fill": {
              "color": "#EBF0F8"
             },
             "line": {
              "color": "white"
             }
            },
            "header": {
             "fill": {
              "color": "#C8D4E3"
             },
             "line": {
              "color": "white"
             }
            },
            "type": "table"
           }
          ]
         },
         "layout": {
          "annotationdefaults": {
           "arrowcolor": "#2a3f5f",
           "arrowhead": 0,
           "arrowwidth": 1
          },
          "autotypenumbers": "strict",
          "coloraxis": {
           "colorbar": {
            "outlinewidth": 0,
            "ticks": ""
           }
          },
          "colorscale": {
           "diverging": [
            [
             0,
             "#8e0152"
            ],
            [
             0.1,
             "#c51b7d"
            ],
            [
             0.2,
             "#de77ae"
            ],
            [
             0.3,
             "#f1b6da"
            ],
            [
             0.4,
             "#fde0ef"
            ],
            [
             0.5,
             "#f7f7f7"
            ],
            [
             0.6,
             "#e6f5d0"
            ],
            [
             0.7,
             "#b8e186"
            ],
            [
             0.8,
             "#7fbc41"
            ],
            [
             0.9,
             "#4d9221"
            ],
            [
             1,
             "#276419"
            ]
           ],
           "sequential": [
            [
             0,
             "#0d0887"
            ],
            [
             0.1111111111111111,
             "#46039f"
            ],
            [
             0.2222222222222222,
             "#7201a8"
            ],
            [
             0.3333333333333333,
             "#9c179e"
            ],
            [
             0.4444444444444444,
             "#bd3786"
            ],
            [
             0.5555555555555556,
             "#d8576b"
            ],
            [
             0.6666666666666666,
             "#ed7953"
            ],
            [
             0.7777777777777778,
             "#fb9f3a"
            ],
            [
             0.8888888888888888,
             "#fdca26"
            ],
            [
             1,
             "#f0f921"
            ]
           ],
           "sequentialminus": [
            [
             0,
             "#0d0887"
            ],
            [
             0.1111111111111111,
             "#46039f"
            ],
            [
             0.2222222222222222,
             "#7201a8"
            ],
            [
             0.3333333333333333,
             "#9c179e"
            ],
            [
             0.4444444444444444,
             "#bd3786"
            ],
            [
             0.5555555555555556,
             "#d8576b"
            ],
            [
             0.6666666666666666,
             "#ed7953"
            ],
            [
             0.7777777777777778,
             "#fb9f3a"
            ],
            [
             0.8888888888888888,
             "#fdca26"
            ],
            [
             1,
             "#f0f921"
            ]
           ]
          },
          "colorway": [
           "#636efa",
           "#EF553B",
           "#00cc96",
           "#ab63fa",
           "#FFA15A",
           "#19d3f3",
           "#FF6692",
           "#B6E880",
           "#FF97FF",
           "#FECB52"
          ],
          "font": {
           "color": "#2a3f5f"
          },
          "geo": {
           "bgcolor": "white",
           "lakecolor": "white",
           "landcolor": "#E5ECF6",
           "showlakes": true,
           "showland": true,
           "subunitcolor": "white"
          },
          "hoverlabel": {
           "align": "left"
          },
          "hovermode": "closest",
          "mapbox": {
           "style": "light"
          },
          "paper_bgcolor": "white",
          "plot_bgcolor": "#E5ECF6",
          "polar": {
           "angularaxis": {
            "gridcolor": "white",
            "linecolor": "white",
            "ticks": ""
           },
           "bgcolor": "#E5ECF6",
           "radialaxis": {
            "gridcolor": "white",
            "linecolor": "white",
            "ticks": ""
           }
          },
          "scene": {
           "xaxis": {
            "backgroundcolor": "#E5ECF6",
            "gridcolor": "white",
            "gridwidth": 2,
            "linecolor": "white",
            "showbackground": true,
            "ticks": "",
            "zerolinecolor": "white"
           },
           "yaxis": {
            "backgroundcolor": "#E5ECF6",
            "gridcolor": "white",
            "gridwidth": 2,
            "linecolor": "white",
            "showbackground": true,
            "ticks": "",
            "zerolinecolor": "white"
           },
           "zaxis": {
            "backgroundcolor": "#E5ECF6",
            "gridcolor": "white",
            "gridwidth": 2,
            "linecolor": "white",
            "showbackground": true,
            "ticks": "",
            "zerolinecolor": "white"
           }
          },
          "shapedefaults": {
           "line": {
            "color": "#2a3f5f"
           }
          },
          "ternary": {
           "aaxis": {
            "gridcolor": "white",
            "linecolor": "white",
            "ticks": ""
           },
           "baxis": {
            "gridcolor": "white",
            "linecolor": "white",
            "ticks": ""
           },
           "bgcolor": "#E5ECF6",
           "caxis": {
            "gridcolor": "white",
            "linecolor": "white",
            "ticks": ""
           }
          },
          "title": {
           "x": 0.05
          },
          "xaxis": {
           "automargin": true,
           "gridcolor": "white",
           "linecolor": "white",
           "ticks": "",
           "title": {
            "standoff": 15
           },
           "zerolinecolor": "white",
           "zerolinewidth": 2
          },
          "yaxis": {
           "automargin": true,
           "gridcolor": "white",
           "linecolor": "white",
           "ticks": "",
           "title": {
            "standoff": 15
           },
           "zerolinecolor": "white",
           "zerolinewidth": 2
          }
         }
        },
        "title": {
         "text": "Logit Difference From Each Head (rlhf - gpt2)"
        },
        "xaxis": {
         "anchor": "y",
         "constrain": "domain",
         "domain": [
          0,
          1
         ],
         "scaleanchor": "y",
         "title": {
          "text": "Head"
         }
        },
        "yaxis": {
         "anchor": "x",
         "autorange": "reversed",
         "constrain": "domain",
         "domain": [
          0,
          1
         ],
         "title": {
          "text": "Layer"
         }
        }
       }
      }
     },
     "metadata": {},
     "output_type": "display_data"
    }
   ],
   "source": [
    "per_head_residual_gpt2, labels = base_cache.stack_head_results(layer=-1, pos_slice=-1, return_labels=True)\n",
    "per_head_logit_diffs_gpt2 = residual_stack_to_logit_diff(per_head_residual_gpt2, base_cache)\n",
    "per_head_logit_diffs_gpt2 = einops.rearrange(per_head_logit_diffs_gpt2, \"(layer head_index) -> layer head_index\", layer=rlhf_model.cfg.n_layers, head_index=rlhf_model.cfg.n_heads)\n",
    "\n",
    "per_head_residual_base, labels = base_cache.stack_head_results(layer=-1, pos_slice=-1, return_labels=True)\n",
    "per_head_logit_diffs_base = residual_stack_to_logit_diff(per_head_residual_base, base_cache)\n",
    "per_head_logit_diffs_base = einops.rearrange(per_head_logit_diffs_base, \"(layer head_index) -> layer head_index\", layer=rlhf_model.cfg.n_layers, head_index=rlhf_model.cfg.n_heads)\n",
    "\n",
    "per_head_residual_rlhf, labels = rlhf_cache.stack_head_results(layer=-1, pos_slice=-1, return_labels=True)\n",
    "per_head_logit_diffs_rlhf = residual_stack_to_logit_diff(per_head_residual_rlhf, rlhf_cache)\n",
    "per_head_logit_diffs_rlhf = einops.rearrange(per_head_logit_diffs_rlhf, \"(layer head_index) -> layer head_index\", layer=rlhf_model.cfg.n_layers, head_index=rlhf_model.cfg.n_heads)\n",
    "\n",
    "per_head_model_diffs_1 = per_head_logit_diffs_rlhf - per_head_logit_diffs_base\n",
    "per_head_model_diffs_2 = per_head_logit_diffs_rlhf - per_head_logit_diffs_gpt2\n",
    "\n",
    "imshow(per_head_model_diffs_1, xaxis=\"Head\", yaxis=\"Layer\", title=\"Logit Difference From Each Head (rlhf - base)\")\n",
    "\n",
    "imshow(per_head_model_diffs_2, xaxis=\"Head\", yaxis=\"Layer\", title=\"Logit Difference From Each Head (rlhf - gpt2)\")"
   ]
  }
 ],
 "metadata": {
  "kernelspec": {
   "display_name": "Python 3",
   "language": "python",
   "name": "python3"
  },
  "language_info": {
   "codemirror_mode": {
    "name": "ipython",
    "version": 3
   },
   "file_extension": ".py",
   "mimetype": "text/x-python",
   "name": "python",
   "nbconvert_exporter": "python",
   "pygments_lexer": "ipython3",
   "version": "3.12.8"
  }
 },
 "nbformat": 4,
 "nbformat_minor": 5
}

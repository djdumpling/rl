{
 "cells": [
  {
   "cell_type": "code",
   "execution_count": 1,
   "id": "268c820f",
   "metadata": {},
   "outputs": [
    {
     "name": "stdout",
     "output_type": "stream",
     "text": [
      "Loaded 2335220 samples from WebInstructSub\n"
     ]
    }
   ],
   "source": [
    "import numpy as np\n",
    "import random\n",
    "import torch\n",
    "from accelerate import Accelerator\n",
    "from utils import *\n",
    "import grpo_utils\n",
    "import reasoning_gym\n",
    "from reasoning_gym import get_score_answer_fn\n",
    "\n",
    "model_name = \"HuggingFaceTB/SmolLM-135M-Instruct\"\n",
    "batch_size = 2\n",
    "# number of sequences generated\n",
    "n_rollouts = 3\n",
    "buffer_size = 6\n",
    "# thinking space\n",
    "max_new_tokens = 100\n",
    "\n",
    "llm = grpo_utils.load_model(model_name)\n",
    "for param in llm.parameters():\n",
    "    param.requires_grad = True\n",
    "tokenizer = grpo_utils.load_tokenizer(model_name)\n",
    "dataloader = grpo_utils.get_dataloader(\"webinstruct\", tokenizer)\n",
    "optimizer = torch.optim.AdamW(llm.parameters(), lr = 1e-5)\n",
    "\n",
    "accelerator = Accelerator()\n",
    "llm, tokenizer, dataloader, optimizer = accelerator.prepare(llm, tokenizer, dataloader, optimizer)"
   ]
  },
  {
   "cell_type": "code",
   "execution_count": 2,
   "id": "a72b1154",
   "metadata": {},
   "outputs": [
    {
     "data": {
      "text/plain": [
       "dict_keys(['inputs', 'validator'])"
      ]
     },
     "execution_count": 2,
     "metadata": {},
     "output_type": "execute_result"
    }
   ],
   "source": [
    "batch = next(iter(dataloader))\n",
    "batch.keys()"
   ]
  },
  {
   "cell_type": "code",
   "execution_count": 3,
   "id": "108fba73",
   "metadata": {},
   "outputs": [
    {
     "data": {
      "text/plain": [
       "[{'question': 'How can I enable case-sensitive searching in Emacs 26.1 on Windows 10 when using I-search?',\n",
       "  'expected_answer': 'To activate case-sensitive I-search in Emacs, press the key combination `M-c` while performing the search. This will toggle case sensitivity. You can find more information about this feature in the Emacs documentation.',\n",
       "  'source': 'stackexchange',\n",
       "  'orig_question': 'I-search - case sensitive\\n\\nwindows 10, emacs 26.1\\nWhen I use I-search, then Emacs ignore case sensitive.\\n\\nbut I need case sensitive I-search',\n",
       "  'orig_answer': 'You can toggle case sensitivity during incremental search by typing M-c.\\nDocumentation here.',\n",
       "  'index': 2046046,\n",
       "  'validate_function': <bound method WebInstructDataset._validate_answer of <grpo_utils.WebInstructDataset object at 0x30e0fd4f0>>},\n",
       " {'question': 'In the AIME problem mentioned, if the integer k is added to each of the numbers 50, 400, and 750, what would be the common difference of the resulting arithmetic sequence?',\n",
       "  'expected_answer': 'The squares of the three consecutive terms are $(a+k)^2$, $(a+d+k)^2$, and $(a+2d+k)^2$. Substituting the given numbers, we have $(a+k)^2 = 50$, $(a+d+k)^2 = 400$, and $(a+2d+k)^2 = 750$. Taking the difference between the second and first equations and the third and second equations, we get $2ad+d^2 = 350$ and $2ad+3d^2 = 350$. Subtracting the first equation from the second, we get $2d^2 = 0$, so $d = \\\\boxed{0}$.',\n",
       "  'source': 'mathstackexchange',\n",
       "  'orig_question': \"AIME 1989/7 says If the integer k is added to each of the numbers 36, 300, and 596, one obtains the squares of three consecutive terms of an arithmetic series. Find k. On looking at the solution, it becomes clear that the three terms considered are those of an arithmetic progression: a, a+d, and a+2d Shouldn't an arithmetic series be the sum of terms of an arithmetic progression, making it a, 2a + d, 3a + 3d\",\n",
       "  'orig_answer': '$(a+2d)$ commonly refers to the third term of both an arithmetic sequence/progression and an arithmetic series (e.g., here and here), so the cited source is correct.\\nOn the other hand, the sum $(3a+3d)$ of their first three terms is technically called the third partial sum of the series (as opposed to the infinite series, i.e., the sum of the infinitely many terms of the series).\\nSo $(a,\\\\, 2a + d,\\\\, 3a + 3d,\\\\, ...)$ is actually a sequence of partial sums—not an arithmetic series as you had thought. To reiterate: the $n^{th}$ term of this sequence of partial sums is not the $n^{th}$ term of the series, but rather the series (sum) up the the $n^{th}$ term.\\n    ',\n",
       "  'index': 1011195,\n",
       "  'validate_function': <bound method WebInstructDataset._validate_answer of <grpo_utils.WebInstructDataset object at 0x30e0fd4f0>>}]"
      ]
     },
     "execution_count": 3,
     "metadata": {},
     "output_type": "execute_result"
    }
   ],
   "source": [
    "batch[\"validator\"]"
   ]
  },
  {
   "cell_type": "code",
   "execution_count": 4,
   "id": "79f3ed5a",
   "metadata": {},
   "outputs": [
    {
     "data": {
      "text/plain": [
       "dict_keys(['input_ids', 'attention_mask'])"
      ]
     },
     "execution_count": 4,
     "metadata": {},
     "output_type": "execute_result"
    }
   ],
   "source": [
    "batch[\"inputs\"].keys()"
   ]
  },
  {
   "cell_type": "code",
   "execution_count": 5,
   "id": "86fcc8fa",
   "metadata": {},
   "outputs": [
    {
     "data": {
      "text/plain": [
       "tensor([[2020,  416,  339,  ...,    2,    2,    2],\n",
       "        [ 788,  260, 5646,  ...,    2,    2,    2]], device='mps:0')"
      ]
     },
     "execution_count": 5,
     "metadata": {},
     "output_type": "execute_result"
    }
   ],
   "source": [
    "batch[\"inputs\"][\"input_ids\"]"
   ]
  },
  {
   "cell_type": "code",
   "execution_count": 6,
   "id": "ac3174b1",
   "metadata": {},
   "outputs": [
    {
     "data": {
      "text/plain": [
       "torch.Size([2, 512])"
      ]
     },
     "execution_count": 6,
     "metadata": {},
     "output_type": "execute_result"
    }
   ],
   "source": [
    "batch[\"inputs\"][\"input_ids\"].shape"
   ]
  },
  {
   "cell_type": "code",
   "execution_count": 7,
   "id": "d135b8ee",
   "metadata": {},
   "outputs": [
    {
     "name": "stdout",
     "output_type": "stream",
     "text": [
      "How can I enable case-sensitive searching in Emacs 26.1 on Windows 10 when using I-search?<|im_end|><|im_end|><|im_end|><|im_end|><|im_end|><|im_end|><|im_end|><|im_end|><|im_end|><|im_end|><|im_end|><|im_end|><|im_end|><|im_end|><|im_end|><|im_end|><|im_end|><|im_end|><|im_end|><|im_end|><|im_end|><|im_end|><|im_end|><|im_end|><|im_end|><|im_end|><|im_end|><|im_end|><|im_end|><|im_end|><|im_end|><|im_end|><|im_end|><|im_end|><|im_end|><|im_end|><|im_end|><|im_end|><|im_end|><|im_end|><|im_end|><|im_end|><|im_end|><|im_end|><|im_end|><|im_end|><|im_end|><|im_end|><|im_end|><|im_end|><|im_end|><|im_end|><|im_end|><|im_end|><|im_end|><|im_end|><|im_end|><|im_end|><|im_end|><|im_end|><|im_end|><|im_end|><|im_end|><|im_end|><|im_end|><|im_end|><|im_end|><|im_end|><|im_end|><|im_end|><|im_end|><|im_end|><|im_end|><|im_end|><|im_end|><|im_end|><|im_end|><|im_end|><|im_end|><|im_end|><|im_end|><|im_end|><|im_end|><|im_end|><|im_end|><|im_end|><|im_end|><|im_end|><|im_end|><|im_end|><|im_end|><|im_end|><|im_end|><|im_end|><|im_end|><|im_end|><|im_end|><|im_end|><|im_end|><|im_end|><|im_end|><|im_end|><|im_end|><|im_end|><|im_end|><|im_end|><|im_end|><|im_end|><|im_end|><|im_end|><|im_end|><|im_end|><|im_end|><|im_end|><|im_end|><|im_end|><|im_end|><|im_end|><|im_end|><|im_end|><|im_end|><|im_end|><|im_end|><|im_end|><|im_end|><|im_end|><|im_end|><|im_end|><|im_end|><|im_end|><|im_end|><|im_end|><|im_end|><|im_end|><|im_end|><|im_end|><|im_end|><|im_end|><|im_end|><|im_end|><|im_end|><|im_end|><|im_end|><|im_end|><|im_end|><|im_end|><|im_end|><|im_end|><|im_end|><|im_end|><|im_end|><|im_end|><|im_end|><|im_end|><|im_end|><|im_end|><|im_end|><|im_end|><|im_end|><|im_end|><|im_end|><|im_end|><|im_end|><|im_end|><|im_end|><|im_end|><|im_end|><|im_end|><|im_end|><|im_end|><|im_end|><|im_end|><|im_end|><|im_end|><|im_end|><|im_end|><|im_end|><|im_end|><|im_end|><|im_end|><|im_end|><|im_end|><|im_end|><|im_end|><|im_end|><|im_end|><|im_end|><|im_end|><|im_end|><|im_end|><|im_end|><|im_end|><|im_end|><|im_end|><|im_end|><|im_end|><|im_end|><|im_end|><|im_end|><|im_end|><|im_end|><|im_end|><|im_end|><|im_end|><|im_end|><|im_end|><|im_end|><|im_end|><|im_end|><|im_end|><|im_end|><|im_end|><|im_end|><|im_end|><|im_end|><|im_end|><|im_end|><|im_end|><|im_end|><|im_end|><|im_end|><|im_end|><|im_end|><|im_end|><|im_end|><|im_end|><|im_end|><|im_end|><|im_end|><|im_end|><|im_end|><|im_end|><|im_end|><|im_end|><|im_end|><|im_end|><|im_end|><|im_end|><|im_end|><|im_end|><|im_end|><|im_end|><|im_end|><|im_end|><|im_end|><|im_end|><|im_end|><|im_end|><|im_end|><|im_end|><|im_end|><|im_end|><|im_end|><|im_end|><|im_end|><|im_end|><|im_end|><|im_end|><|im_end|><|im_end|><|im_end|><|im_end|><|im_end|><|im_end|><|im_end|><|im_end|><|im_end|><|im_end|><|im_end|><|im_end|><|im_end|><|im_end|><|im_end|><|im_end|><|im_end|><|im_end|><|im_end|><|im_end|><|im_end|><|im_end|><|im_end|><|im_end|><|im_end|><|im_end|><|im_end|><|im_end|><|im_end|><|im_end|><|im_end|><|im_end|><|im_end|><|im_end|><|im_end|><|im_end|><|im_end|><|im_end|><|im_end|><|im_end|><|im_end|><|im_end|><|im_end|><|im_end|><|im_end|><|im_end|><|im_end|><|im_end|><|im_end|><|im_end|><|im_end|><|im_end|><|im_end|><|im_end|><|im_end|><|im_end|><|im_end|><|im_end|><|im_end|><|im_end|><|im_end|><|im_end|><|im_end|><|im_end|><|im_end|><|im_end|><|im_end|><|im_end|><|im_end|><|im_end|><|im_end|><|im_end|><|im_end|><|im_end|><|im_end|><|im_end|><|im_end|><|im_end|><|im_end|><|im_end|><|im_end|><|im_end|><|im_end|><|im_end|><|im_end|><|im_end|><|im_end|><|im_end|><|im_end|><|im_end|><|im_end|><|im_end|><|im_end|><|im_end|><|im_end|><|im_end|><|im_end|><|im_end|><|im_end|><|im_end|><|im_end|><|im_end|><|im_end|><|im_end|><|im_end|><|im_end|><|im_end|><|im_end|><|im_end|><|im_end|><|im_end|><|im_end|><|im_end|><|im_end|><|im_end|><|im_end|><|im_end|><|im_end|><|im_end|><|im_end|><|im_end|><|im_end|><|im_end|><|im_end|><|im_end|><|im_end|><|im_end|><|im_end|><|im_end|><|im_end|><|im_end|><|im_end|><|im_end|><|im_end|><|im_end|><|im_end|><|im_end|><|im_end|><|im_end|><|im_end|><|im_end|><|im_end|><|im_end|><|im_end|><|im_end|><|im_end|><|im_end|><|im_end|><|im_end|><|im_end|><|im_end|><|im_end|><|im_end|><|im_end|><|im_end|><|im_end|><|im_end|><|im_end|><|im_end|><|im_end|><|im_end|><|im_end|><|im_end|><|im_end|><|im_end|><|im_end|><|im_end|><|im_end|><|im_end|><|im_end|><|im_end|><|im_end|><|im_end|><|im_end|><|im_end|><|im_end|><|im_end|><|im_end|><|im_end|><|im_end|><|im_end|><|im_end|><|im_end|><|im_end|><|im_end|><|im_end|><|im_end|><|im_end|><|im_end|><|im_end|><|im_end|><|im_end|><|im_end|><|im_end|><|im_end|><|im_end|><|im_end|><|im_end|><|im_end|><|im_end|><|im_end|><|im_end|><|im_end|><|im_end|><|im_end|><|im_end|><|im_end|><|im_end|><|im_end|><|im_end|><|im_end|><|im_end|><|im_end|><|im_end|><|im_end|><|im_end|><|im_end|><|im_end|><|im_end|><|im_end|><|im_end|><|im_end|><|im_end|><|im_end|><|im_end|><|im_end|><|im_end|>\n"
     ]
    }
   ],
   "source": [
    "print(tokenizer.decode(batch[\"inputs\"][\"input_ids\"][0]))"
   ]
  },
  {
   "cell_type": "code",
   "execution_count": 8,
   "id": "b5b4c8b9",
   "metadata": {},
   "outputs": [
    {
     "data": {
      "text/plain": [
       "[{'question': 'How can I enable case-sensitive searching in Emacs 26.1 on Windows 10 when using I-search?',\n",
       "  'expected_answer': 'To activate case-sensitive I-search in Emacs, press the key combination `M-c` while performing the search. This will toggle case sensitivity. You can find more information about this feature in the Emacs documentation.',\n",
       "  'source': 'stackexchange',\n",
       "  'orig_question': 'I-search - case sensitive\\n\\nwindows 10, emacs 26.1\\nWhen I use I-search, then Emacs ignore case sensitive.\\n\\nbut I need case sensitive I-search',\n",
       "  'orig_answer': 'You can toggle case sensitivity during incremental search by typing M-c.\\nDocumentation here.',\n",
       "  'index': 2046046,\n",
       "  'validate_function': <bound method WebInstructDataset._validate_answer of <grpo_utils.WebInstructDataset object at 0x30e0fd4f0>>},\n",
       " {'question': 'In the AIME problem mentioned, if the integer k is added to each of the numbers 50, 400, and 750, what would be the common difference of the resulting arithmetic sequence?',\n",
       "  'expected_answer': 'The squares of the three consecutive terms are $(a+k)^2$, $(a+d+k)^2$, and $(a+2d+k)^2$. Substituting the given numbers, we have $(a+k)^2 = 50$, $(a+d+k)^2 = 400$, and $(a+2d+k)^2 = 750$. Taking the difference between the second and first equations and the third and second equations, we get $2ad+d^2 = 350$ and $2ad+3d^2 = 350$. Subtracting the first equation from the second, we get $2d^2 = 0$, so $d = \\\\boxed{0}$.',\n",
       "  'source': 'mathstackexchange',\n",
       "  'orig_question': \"AIME 1989/7 says If the integer k is added to each of the numbers 36, 300, and 596, one obtains the squares of three consecutive terms of an arithmetic series. Find k. On looking at the solution, it becomes clear that the three terms considered are those of an arithmetic progression: a, a+d, and a+2d Shouldn't an arithmetic series be the sum of terms of an arithmetic progression, making it a, 2a + d, 3a + 3d\",\n",
       "  'orig_answer': '$(a+2d)$ commonly refers to the third term of both an arithmetic sequence/progression and an arithmetic series (e.g., here and here), so the cited source is correct.\\nOn the other hand, the sum $(3a+3d)$ of their first three terms is technically called the third partial sum of the series (as opposed to the infinite series, i.e., the sum of the infinitely many terms of the series).\\nSo $(a,\\\\, 2a + d,\\\\, 3a + 3d,\\\\, ...)$ is actually a sequence of partial sums—not an arithmetic series as you had thought. To reiterate: the $n^{th}$ term of this sequence of partial sums is not the $n^{th}$ term of the series, but rather the series (sum) up the the $n^{th}$ term.\\n    ',\n",
       "  'index': 1011195,\n",
       "  'validate_function': <bound method WebInstructDataset._validate_answer of <grpo_utils.WebInstructDataset object at 0x30e0fd4f0>>}]"
      ]
     },
     "execution_count": 8,
     "metadata": {},
     "output_type": "execute_result"
    }
   ],
   "source": [
    "batch[\"validator\"]"
   ]
  },
  {
   "cell_type": "code",
   "execution_count": 9,
   "id": "48efd3a9",
   "metadata": {},
   "outputs": [],
   "source": [
    "input_ids = batch[\"inputs\"][\"input_ids\"]\n",
    "attention_mask = batch[\"inputs\"][\"attention_mask\"]\n",
    "validator = batch[\"validator\"]\n",
    "input_size = input_ids.shape[1]"
   ]
  },
  {
   "cell_type": "code",
   "execution_count": 10,
   "id": "29f4f95d",
   "metadata": {},
   "outputs": [
    {
     "name": "stderr",
     "output_type": "stream",
     "text": [
      "A decoder-only architecture is being used, but right-padding was detected! For correct generation results, please set `padding_side='left'` when initializing the tokenizer.\n"
     ]
    }
   ],
   "source": [
    "with torch.no_grad():\n",
    "    full_responses = llm.generate(\n",
    "        input_ids = input_ids,\n",
    "        attention_mask = attention_mask,\n",
    "        max_new_tokens = max_new_tokens,\n",
    "        do_sample = True,\n",
    "        top_p = 0.95,\n",
    "        num_return_sequences = n_rollouts,\n",
    "        temperature = 1,\n",
    "        eos_token_id = tokenizer.eos_token_id)\n",
    "\n",
    "    assistant_responses = full_responses[:, input_size:]\n",
    "\n",
    "    log_probs = grpo_utils.calculate_logits(llm, full_responses, attention_mask)\n",
    "    decoded_responses = tokenizer.batch_decode(assistant_responses, skip_special_tokens = True)\n",
    "\n",
    "    rewards = grpo_utils.calculate_rewards(decoded_responses, np.repeat(validator, n_rollouts))\n",
    "    "
   ]
  }
 ],
 "metadata": {
  "kernelspec": {
   "display_name": "base",
   "language": "python",
   "name": "python3"
  },
  "language_info": {
   "codemirror_mode": {
    "name": "ipython",
    "version": 3
   },
   "file_extension": ".py",
   "mimetype": "text/x-python",
   "name": "python",
   "nbconvert_exporter": "python",
   "pygments_lexer": "ipython3",
   "version": "3.12.7"
  }
 },
 "nbformat": 4,
 "nbformat_minor": 5
}

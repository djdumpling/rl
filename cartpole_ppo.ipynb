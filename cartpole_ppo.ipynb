{
 "cells": [
  {
   "cell_type": "markdown",
   "metadata": {},
   "source": [
    "Ignore the over-annotated code, it's more brain-dumping."
   ]
  },
  {
   "cell_type": "markdown",
   "metadata": {},
   "source": [
    "# List of Tumbling Blocks"
   ]
  },
  {
   "cell_type": "markdown",
   "metadata": {},
   "source": [
    "1. **Not adding type annotations to my dataclass**. This makes the class-level default values rather than instance attributes that can be set via the constructor."
   ]
  },
  {
   "cell_type": "markdown",
   "metadata": {},
   "source": [
    "# Setup"
   ]
  },
  {
   "cell_type": "code",
   "execution_count": 22,
   "metadata": {},
   "outputs": [
    {
     "name": "stdout",
     "output_type": "stream",
     "text": [
      "Using device: mps\n"
     ]
    }
   ],
   "source": [
    "import gymnasium as gym\n",
    "import numpy as np\n",
    "import torch as t\n",
    "import torch.nn as nn\n",
    "import torch.optim as optim\n",
    "import wandb\n",
    "import warnings\n",
    "import time\n",
    "import einops\n",
    "\n",
    "from dataclasses import dataclass\n",
    "from gymnasium.spaces import Box, Discrete\n",
    "from jaxtyping import Bool, Float, Int\n",
    "from torch import nn, Tensor\n",
    "from torch.distributions.categorical import Categorical\n",
    "from torch.optim.optimizer import Optimizer\n",
    "from tqdm import tqdm, trange\n",
    "from typing import Literal\n",
    "\n",
    "warnings.filterwarnings(\"ignore\")\n",
    "Arr: np.ndarray\n",
    "\n",
    "device = t.device(\"mps\") if t.backends.mps.is_available() else \"cuda\" if t.cuda.is_available() else t.device(\"cpu\")\n",
    "print(f\"Using device: {device}\")"
   ]
  },
  {
   "cell_type": "code",
   "execution_count": null,
   "metadata": {},
   "outputs": [],
   "source": [
    "# effectively @dataclass is always going to be paired with the Args class since it initalizes all of the arguments\n",
    "# and gets rid of the the annoying initalizations in def __init__(self, )\n",
    "@dataclass \n",
    "class PPOArgs:\n",
    "    seed: int = 1\n",
    "    env_id: str = \"CartPole-PPO\"\n",
    "    mode: Literal[\"classic-control\", \"atari\", \"mujoco\"] = \"classic-control\"\n",
    "\n",
    "    total_timesteps: int = 500000\n",
    "    num_envs: int = 4\n",
    "    num_steps_per_rollout: int = 128\n",
    "    num_minibatches: int = 4\n",
    "    batches_per_learning_phase: int = 4\n",
    "\n",
    "    lr: float = 2.5e-4\n",
    "    max_grad_norm: float = 0.5\n",
    "\n",
    "    gamma: float = 0.99\n",
    "    gae_lambda: float = 0.95\n",
    "    clip_coef: float = 0.2\n",
    "    ent_coef: float = 0.01\n",
    "    vf_coef: float = 0.25\n",
    "\n",
    "    video_log_freq: int | None = None\n",
    "    wandb_project_name: str = \"Cartpole_PPO\"\n",
    "    wandb_entity: str = None\n",
    "\n",
    "    # comments in reference to num_minibatches = 2\n",
    "    def __post_init__(self):\n",
    "        self.batch_size = self.num_steps_per_rollout * self.num_envs # 512\n",
    "\n",
    "        self.minibatch_size = self.batch_size // self.num_minibatches # 256 \n",
    "        self.total_phases = self.total_timesteps // self.batch_size # 976\n",
    "        self.total_training_steps = self.total_phases * self.batches_per_learning_phase * self.num_minibatches # 7808\n",
    "\n",
    "        self.video_save_path = \"videos/cartpole_ppo\"\n",
    "\n",
    "args = PPOArgs(num_minibatches = 2)"
   ]
  }
 ],
 "metadata": {
  "kernelspec": {
   "display_name": "base",
   "language": "python",
   "name": "python3"
  },
  "language_info": {
   "codemirror_mode": {
    "name": "ipython",
    "version": 3
   },
   "file_extension": ".py",
   "mimetype": "text/x-python",
   "name": "python",
   "nbconvert_exporter": "python",
   "pygments_lexer": "ipython3",
   "version": "3.12.7"
  }
 },
 "nbformat": 4,
 "nbformat_minor": 2
}

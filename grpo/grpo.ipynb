{
 "cells": [
  {
   "cell_type": "code",
   "execution_count": 1,
   "id": "268c820f",
   "metadata": {},
   "outputs": [
    {
     "name": "stdout",
     "output_type": "stream",
     "text": [
      "Loading WebInstructSub dataset...\n",
      "Loaded 2335220 samples from WebInstructSub\n"
     ]
    }
   ],
   "source": [
    "import numpy as np\n",
    "import random\n",
    "import torch\n",
    "from accelerate import Accelerator\n",
    "from utils import *\n",
    "import grpo_utils\n",
    "\n",
    "from grpo_utils import load_model, load_tokenizer, get_dataloader\n",
    "\n",
    "model_name = \"HuggingFaceTB/SmolLM-135M-Instruct\"\n",
    "batch_size = 2\n",
    "n_rollouts = 3\n",
    "buffer_size = 6\n",
    "max_new_tokens = 100\n",
    "\n",
    "llm = load_model(model_name)\n",
    "for param in llm.parameters():\n",
    "    param.requires_grad = True\n",
    "tokenizer = load_tokenizer(model_name)\n",
    "dataloader = get_dataloader(\"webinstruct\", tokenizer)\n",
    "optimizer = torch.optim.AdamW(llm.parameters(), lr = 1e-5)\n",
    "\n",
    "accelerator = Accelerator()\n",
    "llm, tokenizer, dataloader, optimizer = accelerator.prepare(llm, tokenizer, dataloader, optimizer)"
   ]
  },
  {
   "cell_type": "code",
   "execution_count": 2,
   "id": "a72b1154",
   "metadata": {},
   "outputs": [
    {
     "data": {
      "text/plain": [
       "dict_keys(['inputs', 'validator'])"
      ]
     },
     "execution_count": 2,
     "metadata": {},
     "output_type": "execute_result"
    }
   ],
   "source": [
    "batch = next(iter(dataloader))\n",
    "batch.keys()"
   ]
  },
  {
   "cell_type": "code",
   "execution_count": 3,
   "id": "108fba73",
   "metadata": {},
   "outputs": [
    {
     "data": {
      "text/plain": [
       "[{'question': 'How do you find the standard form equation for a line that is perpendicular to the line defined by the equation \\\\( x - 7y = 9 \\\\) and passes through the point \\\\( (5, 4) \\\\)?',\n",
       "  'expected_answer': 'The standard form equation for the line perpendicular to \\\\( x - 7y = 9 \\\\) and passing through \\\\( (5, 4) \\\\) is \\\\( 7x + y - 39 = 0 \\\\).\\n\\nExplanation:\\n1. The slope of the given line \\\\( x - 7y = 9 \\\\) can be found by rewriting it in standard form: \\\\( x - 7y - 9 = 0 \\\\), which gives \\\\( a = 1 \\\\) and \\\\( b = -7 \\\\). The slope of this line is \\\\( -\\\\frac{a}{b} = -\\\\frac{1}{-7} = \\\\frac{1}{7} \\\\).\\n\\n2. The slope of a line perpendicular to the given line is the negative reciprocal of its slope, which is \\\\( -\\\\frac{1}{\\\\frac{1}{7}} = -7 \\\\).\\n\\n3. Using the point-slope form, the equation of the line passing through \\\\( (5, 4) \\\\) with slope \\\\( -7 \\\\) is \\\\( \\\\frac{y - 4}{x - 5} = -7 \\\\).\\n\\n4. To express this in standard form, we solve for \\\\( y \\\\) and rearrange terms:\\n\\\\[ y - 4 = -7(x - 5) \\\\]\\n\\\\[ y - 4 = -7x + 35 \\\\]\\n\\\\[ y + 7x - 39 = 0 \\\\]\\n\\nThus, the standard form equation is \\\\( 7x + y - 39 = 0 \\\\).',\n",
       "  'source': 'socratic',\n",
       "  'orig_question': 'How do you find a standard form equation for the line perpendicular to line x-7y=9 and point(5,4)?',\n",
       "  'orig_answer': 'The standard form equation for the line perpendicular to line x-7y=9 and point (5,4) is given by\\n#7x+y-39=0#\\n            \\n          \\n          \\n          \\n          \\n            \\n            Explanation:\\n            \\n            \\n              Given line:\\n#x-7y=9#\\nIf #ax+by+c=0#\\nslope of the line is given by\\n#=-a/b#\\nExpressing the given line in the standard form\\n#x-7y-9=0#\\nComparing\\n#a=1; b=-7; c=-9#\\nThus the slope of the line is\\n#=-1/(-7)=1/7#\\nThe normal has the slope which is the negative reciprocal of the slope of the given line\\n#=-7#\\nFurther, it is given that the normal passes through the point\\n#(5,4)#\\nEquation of the line passing through the point #(5,4)# and having slope #-7# is given by\\n#(y-4)/(x-5)=-7#\\nSimplifying\\n#y-4=-7(x-5)#\\n#y-4=-7x+35#\\n#y-4+7x-35=0#\\n#y+7x-39=0#\\nRearranging in the standard form\\n#7x+y-39=0#',\n",
       "  'index': 502998,\n",
       "  'validate_function': <bound method WebInstructDataset._validate_answer of <grpo_utils.WebInstructDataset object at 0x3037c8da0>>},\n",
       " {'question': 'Let G be a finite abelian group, and let K be an algebraically closed field. Consider the group algebra K[G] and a simple K[G] module M. Show that M has dimension 1 over K.',\n",
       "  'expected_answer': \"To prove that the simple module M has dimension 1 over K, we can follow these steps:\\n\\n1. For each element h ∈ G, define the linear transformation ϕ_h: M → M by ϕ_h(m) = hm for all m ∈ M.\\n2. Since K is algebraically closed, each ϕ_h has an eigenvalue λ ∈ K.\\n3. Let ϕ_h - λI be the linear transformation, where I is the identity on M. For any g ∈ G and m ∈ M, we have:\\n   (ϕ_h - λI)gm = g(ϕ_h - λI)m.\\n4. This shows that ϕ_h - λI is a K[G]-module homomorphism. By Schur's lemma, since it is not invertible (as λ is an eigenvalue), it must be the zero map.\\n5. Consequently, ϕ_h = λI, implying hm = λm for all m ∈ M and h ∈ G. This implies that every one-dimensional subspace of M is a K[G]-submodule.\\n6. If M were not one-dimensional, there would be a contradiction to the simplicity of M. Therefore, M must be one-dimensional.\\n\\nFurthermore, Maschke's theorem, applied to the commutative semisimple ring K[G], tells us that K[G] is isomorphic to a finite direct product of copies of K. Each simple K[G] module is isomorphic to K[G]/M for some maximal ideal M, with the maximal ideals corresponding to specific elements of G. This ensures that simple modules are isomorphic to K as K modules but not necessarily as K[G] modules, preserving the distinctness of the modules according to the group elements.\\n\\nIn conclusion, a simple K[G] module M over a finite abelian group G and an algebraically closed field K has dimension 1 over K.\",\n",
       "  'source': 'mathstackexchange',\n",
       "  'orig_question': \"Let G be a finite abelian group, K an algebraically closed field, K[G] the group algebra of G over K and M a K[G] module. I would like to show that if M is simple, it has dimension 1 over K. I think that I can interpret this as showing that M is isomorphic to K as a K[G] module. You could interpret K itself as a module over K[G]. Take as addition the usual field addition and as scalar multiplication by $x \\\\in K[G], x = \\\\sum_{g \\\\in G} a_g$ the multiplication by $a_e$, where e is the group identity. Now, if I can show that there is a module homomorphism between K and M which is not zero than $K \\\\simeq M$ by Schur's Lemma. Is this a helpful interpretation? How would a homomorphism look like?\",\n",
       "  'orig_answer': \"If you could prove that $M$ was isomorphic to $K$ as a $K[G]$-module, you would have the result you're looking for, but I think even this is too strong. Instead, try this:\\n\\nFor $h\\\\in G$, let $\\\\phi_h:M\\\\to M$ be the linear transformation given by $\\\\phi_h(m)=hm$ for all $m\\\\in M$. Since $K$ is algebraically closed, $\\\\phi_h$ must have an eigenvalue $\\\\lambda\\\\in K$. Consider the linear transformation $\\\\phi_h-\\\\lambda I$, where $I$ is the identity on $M$. Since $G$ is Abelian, \\n\\\\begin{align*}\\n(\\\\phi_h-\\\\lambda I)gm&=\\\\phi_h (gm)-\\\\lambda gm=hgm-\\\\lambda g m = ghm-\\\\lambda g m \\\\\\\\&= g\\\\phi_h(m)-\\\\lambda g m =g(\\\\phi_h(m)-\\\\lambda m)=g(\\\\phi_h-\\\\lambda I)m,\\n\\\\end{align*}\\nso $\\\\phi_h-\\\\lambda I$ is a $K[G]$-module homomorphism, but, since $\\\\lambda$ is an eigenvalue of $\\\\phi_h$, it is not invertible, so by Schur's lemma it must be zero. It follows that $\\\\phi_h=\\\\lambda I$, or, in other words, $hm=\\\\lambda m$ for every $m\\\\in M$. Since this is true for every $h\\\\in G$, it follows that every one-dimensional subspace of $M$ is a $K[G]$-submodule. This would contradict the assumption that $M$ is simple module unless $M$ were itself one-dimensional.\\n     By Maschke's theorem, (in the special case of a commutative semisimple ring over an algebraically closed field,) $K[G]=R$ is isomorphic to a finite direct product of copies of $K$. Each simple $R$ module is isomorphic to $R/M$ for some maximal ideal $M$ of $R$, and of course the maximal ideals of $R$ are just those sets of all elements which are zero on a particular fixed position. \\n\\nThis clearly makes all simple modules isomorphic to $K$ as $K$ modules, but they are pairwise nonisomorphic as $K[G]$ modules. If all simple modules were isomorphic to $K$ as $K[G]$ modules, then $G$ would only have one element. \\n    \",\n",
       "  'index': 1166557,\n",
       "  'validate_function': <bound method WebInstructDataset._validate_answer of <grpo_utils.WebInstructDataset object at 0x3037c8da0>>}]"
      ]
     },
     "execution_count": 3,
     "metadata": {},
     "output_type": "execute_result"
    }
   ],
   "source": [
    "batch[\"validator\"]"
   ]
  },
  {
   "cell_type": "code",
   "execution_count": 4,
   "id": "79f3ed5a",
   "metadata": {},
   "outputs": [
    {
     "data": {
      "text/plain": [
       "dict_keys(['input_ids', 'attention_mask'])"
      ]
     },
     "execution_count": 4,
     "metadata": {},
     "output_type": "execute_result"
    }
   ],
   "source": [
    "batch[\"inputs\"].keys()"
   ]
  },
  {
   "cell_type": "code",
   "execution_count": 5,
   "id": "ac3174b1",
   "metadata": {},
   "outputs": [
    {
     "data": {
      "text/plain": [
       "torch.Size([2, 512])"
      ]
     },
     "execution_count": 5,
     "metadata": {},
     "output_type": "execute_result"
    }
   ],
   "source": [
    "batch[\"inputs\"][\"input_ids\"].shape"
   ]
  },
  {
   "cell_type": "code",
   "execution_count": 6,
   "id": "d135b8ee",
   "metadata": {},
   "outputs": [
    {
     "name": "stdout",
     "output_type": "stream",
     "text": [
      "How do you find the standard form equation for a line that is perpendicular to the line defined by the equation \\( x - 7y = 9 \\) and passes through the point \\( (5, 4) \\)?<|im_end|><|im_end|><|im_end|><|im_end|><|im_end|><|im_end|><|im_end|><|im_end|><|im_end|><|im_end|><|im_end|><|im_end|><|im_end|><|im_end|><|im_end|><|im_end|><|im_end|><|im_end|><|im_end|><|im_end|><|im_end|><|im_end|><|im_end|><|im_end|><|im_end|><|im_end|><|im_end|><|im_end|><|im_end|><|im_end|><|im_end|><|im_end|><|im_end|><|im_end|><|im_end|><|im_end|><|im_end|><|im_end|><|im_end|><|im_end|><|im_end|><|im_end|><|im_end|><|im_end|><|im_end|><|im_end|><|im_end|><|im_end|><|im_end|><|im_end|><|im_end|><|im_end|><|im_end|><|im_end|><|im_end|><|im_end|><|im_end|><|im_end|><|im_end|><|im_end|><|im_end|><|im_end|><|im_end|><|im_end|><|im_end|><|im_end|><|im_end|><|im_end|><|im_end|><|im_end|><|im_end|><|im_end|><|im_end|><|im_end|><|im_end|><|im_end|><|im_end|><|im_end|><|im_end|><|im_end|><|im_end|><|im_end|><|im_end|><|im_end|><|im_end|><|im_end|><|im_end|><|im_end|><|im_end|><|im_end|><|im_end|><|im_end|><|im_end|><|im_end|><|im_end|><|im_end|><|im_end|><|im_end|><|im_end|><|im_end|><|im_end|><|im_end|><|im_end|><|im_end|><|im_end|><|im_end|><|im_end|><|im_end|><|im_end|><|im_end|><|im_end|><|im_end|><|im_end|><|im_end|><|im_end|><|im_end|><|im_end|><|im_end|><|im_end|><|im_end|><|im_end|><|im_end|><|im_end|><|im_end|><|im_end|><|im_end|><|im_end|><|im_end|><|im_end|><|im_end|><|im_end|><|im_end|><|im_end|><|im_end|><|im_end|><|im_end|><|im_end|><|im_end|><|im_end|><|im_end|><|im_end|><|im_end|><|im_end|><|im_end|><|im_end|><|im_end|><|im_end|><|im_end|><|im_end|><|im_end|><|im_end|><|im_end|><|im_end|><|im_end|><|im_end|><|im_end|><|im_end|><|im_end|><|im_end|><|im_end|><|im_end|><|im_end|><|im_end|><|im_end|><|im_end|><|im_end|><|im_end|><|im_end|><|im_end|><|im_end|><|im_end|><|im_end|><|im_end|><|im_end|><|im_end|><|im_end|><|im_end|><|im_end|><|im_end|><|im_end|><|im_end|><|im_end|><|im_end|><|im_end|><|im_end|><|im_end|><|im_end|><|im_end|><|im_end|><|im_end|><|im_end|><|im_end|><|im_end|><|im_end|><|im_end|><|im_end|><|im_end|><|im_end|><|im_end|><|im_end|><|im_end|><|im_end|><|im_end|><|im_end|><|im_end|><|im_end|><|im_end|><|im_end|><|im_end|><|im_end|><|im_end|><|im_end|><|im_end|><|im_end|><|im_end|><|im_end|><|im_end|><|im_end|><|im_end|><|im_end|><|im_end|><|im_end|><|im_end|><|im_end|><|im_end|><|im_end|><|im_end|><|im_end|><|im_end|><|im_end|><|im_end|><|im_end|><|im_end|><|im_end|><|im_end|><|im_end|><|im_end|><|im_end|><|im_end|><|im_end|><|im_end|><|im_end|><|im_end|><|im_end|><|im_end|><|im_end|><|im_end|><|im_end|><|im_end|><|im_end|><|im_end|><|im_end|><|im_end|><|im_end|><|im_end|><|im_end|><|im_end|><|im_end|><|im_end|><|im_end|><|im_end|><|im_end|><|im_end|><|im_end|><|im_end|><|im_end|><|im_end|><|im_end|><|im_end|><|im_end|><|im_end|><|im_end|><|im_end|><|im_end|><|im_end|><|im_end|><|im_end|><|im_end|><|im_end|><|im_end|><|im_end|><|im_end|><|im_end|><|im_end|><|im_end|><|im_end|><|im_end|><|im_end|><|im_end|><|im_end|><|im_end|><|im_end|><|im_end|><|im_end|><|im_end|><|im_end|><|im_end|><|im_end|><|im_end|><|im_end|><|im_end|><|im_end|><|im_end|><|im_end|><|im_end|><|im_end|><|im_end|><|im_end|><|im_end|><|im_end|><|im_end|><|im_end|><|im_end|><|im_end|><|im_end|><|im_end|><|im_end|><|im_end|><|im_end|><|im_end|><|im_end|><|im_end|><|im_end|><|im_end|><|im_end|><|im_end|><|im_end|><|im_end|><|im_end|><|im_end|><|im_end|><|im_end|><|im_end|><|im_end|><|im_end|><|im_end|><|im_end|><|im_end|><|im_end|><|im_end|><|im_end|><|im_end|><|im_end|><|im_end|><|im_end|><|im_end|><|im_end|><|im_end|><|im_end|><|im_end|><|im_end|><|im_end|><|im_end|><|im_end|><|im_end|><|im_end|><|im_end|><|im_end|><|im_end|><|im_end|><|im_end|><|im_end|><|im_end|><|im_end|><|im_end|><|im_end|><|im_end|><|im_end|><|im_end|><|im_end|><|im_end|><|im_end|><|im_end|><|im_end|><|im_end|><|im_end|><|im_end|><|im_end|><|im_end|><|im_end|><|im_end|><|im_end|><|im_end|><|im_end|><|im_end|><|im_end|><|im_end|><|im_end|><|im_end|><|im_end|><|im_end|><|im_end|><|im_end|><|im_end|><|im_end|><|im_end|><|im_end|><|im_end|><|im_end|><|im_end|><|im_end|><|im_end|><|im_end|><|im_end|><|im_end|><|im_end|><|im_end|><|im_end|><|im_end|><|im_end|><|im_end|><|im_end|><|im_end|><|im_end|><|im_end|><|im_end|><|im_end|><|im_end|><|im_end|><|im_end|><|im_end|><|im_end|><|im_end|><|im_end|><|im_end|><|im_end|><|im_end|><|im_end|><|im_end|><|im_end|><|im_end|><|im_end|><|im_end|><|im_end|><|im_end|><|im_end|><|im_end|><|im_end|><|im_end|><|im_end|><|im_end|><|im_end|><|im_end|><|im_end|><|im_end|><|im_end|><|im_end|><|im_end|><|im_end|><|im_end|><|im_end|><|im_end|><|im_end|><|im_end|><|im_end|><|im_end|><|im_end|><|im_end|><|im_end|><|im_end|><|im_end|><|im_end|><|im_end|><|im_end|>\n"
     ]
    }
   ],
   "source": [
    "print(tokenizer.decode(batch[\"inputs\"][\"input_ids\"][0]))"
   ]
  },
  {
   "cell_type": "code",
   "execution_count": null,
   "id": "51227088",
   "metadata": {},
   "outputs": [],
   "source": []
  }
 ],
 "metadata": {
  "kernelspec": {
   "display_name": "base",
   "language": "python",
   "name": "python3"
  },
  "language_info": {
   "codemirror_mode": {
    "name": "ipython",
    "version": 3
   },
   "file_extension": ".py",
   "mimetype": "text/x-python",
   "name": "python",
   "nbconvert_exporter": "python",
   "pygments_lexer": "ipython3",
   "version": "3.12.7"
  }
 },
 "nbformat": 4,
 "nbformat_minor": 5
}

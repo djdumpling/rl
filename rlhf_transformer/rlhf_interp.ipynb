{
 "cells": [
  {
   "cell_type": "code",
   "execution_count": 1,
   "id": "204a3697",
   "metadata": {},
   "outputs": [
    {
     "name": "stdout",
     "output_type": "stream",
     "text": [
      "Device: mps\n"
     ]
    }
   ],
   "source": [
    "import os\n",
    "\n",
    "import einops\n",
    "import numpy as np\n",
    "import torch as t\n",
    "import torch.nn as nn\n",
    "import torchrl\n",
    "import wandb\n",
    "import functools\n",
    "import plotly.express as px \n",
    "from functools import partial\n",
    "from fancy_einsum import einsum\n",
    "\n",
    "from eindex import eindex\n",
    "from jaxtyping import Float, Int\n",
    "from torch import Tensor\n",
    "from torchtyping import TensorType as TT\n",
    "\n",
    "import circuitsvis as cv\n",
    "import transformers\n",
    "import transformer_lens\n",
    "import transformer_lens.utils as utils\n",
    "from transformer_lens import HookedTransformer, HookedTransformerConfig, FactoredMatrix, ActivationCache\n",
    "from transformer_lens.hook_points import (HookedRootModule, HookPoint)  # Hooking utilities\n",
    "from transformers import AutoModelForSequenceClassification, AutoTokenizer, AutoConfig, AutoModel, AutoModelForCausalLM\n",
    "from torchrl.envs.llm import ChatEnv\n",
    "from torchrl.modules.llm import TransformersWrapper\n",
    "from tqdm import tqdm\n",
    "\n",
    "os.environ[\"WANDB_DISABLED\"] = \"true\"\n",
    "os.environ[\"TOKENIZERS_PARALLELISM\"] = \"false\"\n",
    "\n",
    "device = t.device(\"cuda\" if t.cuda.is_available() else \"mps\" if t.backends.mps.is_available() else \"cpu\")\n",
    "print(f\"Device: {device}\")"
   ]
  },
  {
   "cell_type": "code",
   "execution_count": 4,
   "id": "a09d27e1",
   "metadata": {},
   "outputs": [
    {
     "data": {
      "text/html": [
       "Finishing previous runs because reinit is set to 'default'."
      ],
      "text/plain": [
       "<IPython.core.display.HTML object>"
      ]
     },
     "metadata": {},
     "output_type": "display_data"
    },
    {
     "data": {
      "text/html": [],
      "text/plain": [
       "<IPython.core.display.HTML object>"
      ]
     },
     "metadata": {},
     "output_type": "display_data"
    },
    {
     "data": {
      "text/html": [
       " View run <strong style=\"color:#cdcd00\">bright-water-18</strong> at: <a href='https://wandb.ai/djdumpling-yale/rl-rlhf_transformer/runs/kiffvdh9' target=\"_blank\">https://wandb.ai/djdumpling-yale/rl-rlhf_transformer/runs/kiffvdh9</a><br> View project at: <a href='https://wandb.ai/djdumpling-yale/rl-rlhf_transformer' target=\"_blank\">https://wandb.ai/djdumpling-yale/rl-rlhf_transformer</a><br>Synced 5 W&B file(s), 0 media file(s), 0 artifact file(s) and 0 other file(s)"
      ],
      "text/plain": [
       "<IPython.core.display.HTML object>"
      ]
     },
     "metadata": {},
     "output_type": "display_data"
    },
    {
     "data": {
      "text/html": [
       "Find logs at: <code>./wandb/run-20250801_160053-kiffvdh9/logs</code>"
      ],
      "text/plain": [
       "<IPython.core.display.HTML object>"
      ]
     },
     "metadata": {},
     "output_type": "display_data"
    },
    {
     "data": {
      "text/html": [
       "Tracking run with wandb version 0.21.0"
      ],
      "text/plain": [
       "<IPython.core.display.HTML object>"
      ]
     },
     "metadata": {},
     "output_type": "display_data"
    },
    {
     "data": {
      "text/html": [
       "Run data is saved locally in <code>/Users/alexwa/Documents/GitHub/rl/rlhf_transformer/wandb/run-20250801_160209-elneedhd</code>"
      ],
      "text/plain": [
       "<IPython.core.display.HTML object>"
      ]
     },
     "metadata": {},
     "output_type": "display_data"
    },
    {
     "data": {
      "text/html": [
       "Syncing run <strong><a href='https://wandb.ai/djdumpling-yale/rl-rlhf_transformer/runs/elneedhd' target=\"_blank\">visionary-oath-19</a></strong> to <a href='https://wandb.ai/djdumpling-yale/rl-rlhf_transformer' target=\"_blank\">Weights & Biases</a> (<a href='https://wandb.me/developer-guide' target=\"_blank\">docs</a>)<br>"
      ],
      "text/plain": [
       "<IPython.core.display.HTML object>"
      ]
     },
     "metadata": {},
     "output_type": "display_data"
    },
    {
     "data": {
      "text/html": [
       " View project at <a href='https://wandb.ai/djdumpling-yale/rl-rlhf_transformer' target=\"_blank\">https://wandb.ai/djdumpling-yale/rl-rlhf_transformer</a>"
      ],
      "text/plain": [
       "<IPython.core.display.HTML object>"
      ]
     },
     "metadata": {},
     "output_type": "display_data"
    },
    {
     "data": {
      "text/html": [
       " View run at <a href='https://wandb.ai/djdumpling-yale/rl-rlhf_transformer/runs/elneedhd' target=\"_blank\">https://wandb.ai/djdumpling-yale/rl-rlhf_transformer/runs/elneedhd</a>"
      ],
      "text/plain": [
       "<IPython.core.display.HTML object>"
      ]
     },
     "metadata": {},
     "output_type": "display_data"
    },
    {
     "name": "stderr",
     "output_type": "stream",
     "text": [
      "\u001b[34m\u001b[1mwandb\u001b[0m: Downloading large artifact model-gpt2_20250801-225255-early_stopped_phase_10:v0, 643.08MB. 1 files... \n",
      "\u001b[34m\u001b[1mwandb\u001b[0m:   1 of 1 files downloaded.  \n",
      "Done. 0:0:4.3 (148.7MB/s)\n"
     ]
    },
    {
     "name": "stdout",
     "output_type": "stream",
     "text": [
      "Loaded pretrained model gpt2 into HookedTransformer\n",
      "Loaded pretrained model gpt2 into HookedTransformer\n",
      "Loaded pretrained model gpt2 into HookedTransformer\n"
     ]
    },
    {
     "name": "stderr",
     "output_type": "stream",
     "text": [
      "\u001b[34m\u001b[1mwandb\u001b[0m: \u001b[33mWARNING\u001b[0m Fatal error while uploading data. Some run data will not be synced, but it will still be written to disk. Use `wandb sync` at the end of the run to try uploading.\n"
     ]
    }
   ],
   "source": [
    "# load artifact from wandb\n",
    "run = wandb.init()\n",
    "# artifact = run.use_artifact('djdumpling-yale/rlhf_transformers/model-gpt2_20250730-004324:v0', type='model')\n",
    "artifact = run.use_artifact('djdumpling-yale/rlhf_transformers/model-gpt2_20250801-225255-early_stopped_phase_10:v0', type='model')\n",
    "model_dir = artifact.download()\n",
    "\n",
    "# set location locally \n",
    "model_path = os.path.join(model_dir, \"early_stopped_phase_10_model.pt\")\n",
    "state_dict = t.load(model_path, map_location=device)\n",
    "\n",
    "# get weights from RLHFed model\n",
    "base_state_dict = {}\n",
    "for k, v in state_dict.items():\n",
    "    if k.startswith('base_model.'):\n",
    "        new_key = k.replace('base_model.', '')\n",
    "        base_state_dict[new_key] = v\n",
    "\n",
    "# load into gpt architecture\n",
    "gpt2_model = HookedTransformer.from_pretrained(\"gpt2\", device=device)\n",
    "gpt2_model.eval()\n",
    "\n",
    "source_model = AutoModelForCausalLM.from_pretrained(\"lvwerra/gpt2-imdb\")\n",
    "base_model = HookedTransformer.from_pretrained(\"gpt2\", device=device, hf_model = source_model)\n",
    "base_model.eval()\n",
    "\n",
    "rlhf_model = HookedTransformer.from_pretrained(\"gpt2\", device=device)\n",
    "rlhf_model.load_state_dict(base_state_dict)\n",
    "rlhf_model.eval()\n",
    "\n",
    "# if TRL comes in later?\n",
    "model = TransformersWrapper(model=rlhf_model, tokenizer=rlhf_model.tokenizer,input_mode=\"text\")"
   ]
  },
  {
   "cell_type": "markdown",
   "id": "91122dc9",
   "metadata": {},
   "source": [
    "Interestingly, it seems like the `base_model` already has a preference towards positive movie reviews."
   ]
  },
  {
   "cell_type": "code",
   "execution_count": 5,
   "id": "7a3cb996",
   "metadata": {},
   "outputs": [
    {
     "data": {
      "application/vnd.jupyter.widget-view+json": {
       "model_id": "d02adf6cd3a5489185d4aacf8ea0101b",
       "version_major": 2,
       "version_minor": 0
      },
      "text/plain": [
       "  0%|          | 0/50 [00:00<?, ?it/s]"
      ]
     },
     "metadata": {},
     "output_type": "display_data"
    },
    {
     "name": "stdout",
     "output_type": "stream",
     "text": [
      "This movie was really quite a good shot. I think there were a ton of things that were really in the way. The character Jim's girlfriend is really cute and it was really fun. The characters were really interesting. I was really interested to watch this.\n",
      "\n",
      "\n"
     ]
    },
    {
     "data": {
      "application/vnd.jupyter.widget-view+json": {
       "model_id": "0ad94bd093754644b6990c55dbe1a165",
       "version_major": 2,
       "version_minor": 0
      },
      "text/plain": [
       "  0%|          | 0/50 [00:00<?, ?it/s]"
      ]
     },
     "metadata": {},
     "output_type": "display_data"
    },
    {
     "name": "stdout",
     "output_type": "stream",
     "text": [
      "This movie was really great, and I got to see the movie on DVD for the first time. It's been a while since I saw the first movie, and I'm still wondering what we will be seeing. It's pretty much a classic and still holds up for\n"
     ]
    }
   ],
   "source": [
    "prompt = \"This movie was really\"\n",
    "\n",
    "print(rlhf_model.generate(prompt, max_new_tokens=50, temperature=0.7))\n",
    "print(base_model.generate(prompt, max_new_tokens=50, temperature=0.7))"
   ]
  },
  {
   "cell_type": "markdown",
   "id": "55f671ad",
   "metadata": {},
   "source": [
    "This is reinforced when looking at the logits, showing that even the `base_model` has a preference towards positive reviews."
   ]
  },
  {
   "cell_type": "code",
   "execution_count": 6,
   "id": "bd37b876",
   "metadata": {},
   "outputs": [
    {
     "name": "stdout",
     "output_type": "stream",
     "text": [
      "Tokenized prompt: ['<|endoftext|>', 'This', ' movie', ' was', ' really']\n",
      "Tokenized answer: [' good']\n"
     ]
    },
    {
     "data": {
      "text/html": [
       "<pre style=\"white-space:pre;overflow-x:auto;line-height:normal;font-family:Menlo,'DejaVu Sans Mono',consolas,'Courier New',monospace\">Performance on answer token:\n",
       "<span style=\"font-weight: bold\">Rank: </span><span style=\"color: #008080; text-decoration-color: #008080; font-weight: bold\">0</span><span style=\"font-weight: bold\">        Logit: </span><span style=\"color: #008080; text-decoration-color: #008080; font-weight: bold\">16.12</span><span style=\"font-weight: bold\"> Prob: </span><span style=\"color: #008080; text-decoration-color: #008080; font-weight: bold\">10.31</span><span style=\"font-weight: bold\">% Token: | good|</span>\n",
       "</pre>\n"
      ],
      "text/plain": [
       "Performance on answer token:\n",
       "\u001b[1mRank: \u001b[0m\u001b[1;36m0\u001b[0m\u001b[1m        Logit: \u001b[0m\u001b[1;36m16.12\u001b[0m\u001b[1m Prob: \u001b[0m\u001b[1;36m10.31\u001b[0m\u001b[1m% Token: | good|\u001b[0m\n"
      ]
     },
     "metadata": {},
     "output_type": "display_data"
    },
    {
     "name": "stdout",
     "output_type": "stream",
     "text": [
      "Top 0th token. Logit: 16.12 Prob: 10.31% Token: | good|\n",
      "Top 1th token. Logit: 16.02 Prob:  9.28% Token: | fun|\n",
      "Top 2th token. Logit: 15.67 Prob:  6.58% Token: | great|\n",
      "Top 3th token. Logit: 14.86 Prob:  2.92% Token: | a|\n",
      "Top 4th token. Logit: 14.72 Prob:  2.54% Token: | interesting|\n",
      "Top 5th token. Logit: 14.72 Prob:  2.54% Token: | nice|\n",
      "Top 6th token. Logit: 14.51 Prob:  2.06% Token: | hard|\n",
      "Top 7th token. Logit: 14.50 Prob:  2.05% Token: | amazing|\n",
      "Top 8th token. Logit: 14.42 Prob:  1.88% Token: | awesome|\n",
      "Top 9th token. Logit: 14.33 Prob:  1.72% Token: | well|\n"
     ]
    },
    {
     "data": {
      "text/html": [
       "<pre style=\"white-space:pre;overflow-x:auto;line-height:normal;font-family:Menlo,'DejaVu Sans Mono',consolas,'Courier New',monospace\"><span style=\"font-weight: bold\">Ranks of the answer tokens:</span> <span style=\"font-weight: bold\">[(</span><span style=\"color: #008000; text-decoration-color: #008000\">' good'</span>, <span style=\"color: #008080; text-decoration-color: #008080; font-weight: bold\">0</span><span style=\"font-weight: bold\">)]</span>\n",
       "</pre>\n"
      ],
      "text/plain": [
       "\u001b[1mRanks of the answer tokens:\u001b[0m \u001b[1m[\u001b[0m\u001b[1m(\u001b[0m\u001b[32m' good'\u001b[0m, \u001b[1;36m0\u001b[0m\u001b[1m)\u001b[0m\u001b[1m]\u001b[0m\n"
      ]
     },
     "metadata": {},
     "output_type": "display_data"
    }
   ],
   "source": [
    "utils.test_prompt(prompt, \"good\", rlhf_model, prepend_bos = True)"
   ]
  },
  {
   "cell_type": "code",
   "execution_count": 7,
   "id": "eaefcd9d",
   "metadata": {},
   "outputs": [
    {
     "name": "stdout",
     "output_type": "stream",
     "text": [
      "Tokenized prompt: ['<|endoftext|>', 'This', ' movie', ' was', ' really']\n",
      "Tokenized answer: [' good']\n"
     ]
    },
    {
     "data": {
      "text/html": [
       "<pre style=\"white-space:pre;overflow-x:auto;line-height:normal;font-family:Menlo,'DejaVu Sans Mono',consolas,'Courier New',monospace\">Performance on answer token:\n",
       "<span style=\"font-weight: bold\">Rank: </span><span style=\"color: #008080; text-decoration-color: #008080; font-weight: bold\">0</span><span style=\"font-weight: bold\">        Logit: </span><span style=\"color: #008080; text-decoration-color: #008080; font-weight: bold\">17.39</span><span style=\"font-weight: bold\"> Prob: </span><span style=\"color: #008080; text-decoration-color: #008080; font-weight: bold\">12.19</span><span style=\"font-weight: bold\">% Token: | good|</span>\n",
       "</pre>\n"
      ],
      "text/plain": [
       "Performance on answer token:\n",
       "\u001b[1mRank: \u001b[0m\u001b[1;36m0\u001b[0m\u001b[1m        Logit: \u001b[0m\u001b[1;36m17.39\u001b[0m\u001b[1m Prob: \u001b[0m\u001b[1;36m12.19\u001b[0m\u001b[1m% Token: | good|\u001b[0m\n"
      ]
     },
     "metadata": {},
     "output_type": "display_data"
    },
    {
     "name": "stdout",
     "output_type": "stream",
     "text": [
      "Top 0th token. Logit: 17.39 Prob: 12.19% Token: | good|\n",
      "Top 1th token. Logit: 17.30 Prob: 11.15% Token: | bad|\n",
      "Top 2th token. Logit: 16.20 Prob:  3.69% Token: | funny|\n",
      "Top 3th token. Logit: 16.18 Prob:  3.61% Token: | great|\n",
      "Top 4th token. Logit: 16.06 Prob:  3.21% Token: | a|\n",
      "Top 5th token. Logit: 15.95 Prob:  2.88% Token: | fun|\n",
      "Top 6th token. Logit: 15.87 Prob:  2.65% Token: | awful|\n",
      "Top 7th token. Logit: 15.57 Prob:  1.96% Token: | well|\n",
      "Top 8th token. Logit: 15.38 Prob:  1.63% Token: | terrible|\n",
      "Top 9th token. Logit: 15.34 Prob:  1.56% Token: | disappointing|\n"
     ]
    },
    {
     "data": {
      "text/html": [
       "<pre style=\"white-space:pre;overflow-x:auto;line-height:normal;font-family:Menlo,'DejaVu Sans Mono',consolas,'Courier New',monospace\"><span style=\"font-weight: bold\">Ranks of the answer tokens:</span> <span style=\"font-weight: bold\">[(</span><span style=\"color: #008000; text-decoration-color: #008000\">' good'</span>, <span style=\"color: #008080; text-decoration-color: #008080; font-weight: bold\">0</span><span style=\"font-weight: bold\">)]</span>\n",
       "</pre>\n"
      ],
      "text/plain": [
       "\u001b[1mRanks of the answer tokens:\u001b[0m \u001b[1m[\u001b[0m\u001b[1m(\u001b[0m\u001b[32m' good'\u001b[0m, \u001b[1;36m0\u001b[0m\u001b[1m)\u001b[0m\u001b[1m]\u001b[0m\n"
      ]
     },
     "metadata": {},
     "output_type": "display_data"
    }
   ],
   "source": [
    "utils.test_prompt(prompt, \"good\", base_model, prepend_bos = True)"
   ]
  },
  {
   "cell_type": "code",
   "execution_count": 8,
   "id": "a8648137",
   "metadata": {},
   "outputs": [
    {
     "name": "stdout",
     "output_type": "stream",
     "text": [
      "tensor([[ 922, 2089]], device='mps:0')\n"
     ]
    }
   ],
   "source": [
    "prompts = [\"This movie is really\"]\n",
    "answers = [(\" good\", \" bad\")]\n",
    "\n",
    "answer_tokens = []\n",
    "for i in range(len(prompts)):\n",
    "    answer_tokens.append((rlhf_model.to_single_token(answers[i][0]), rlhf_model.to_single_token(answers[i][1])))\n",
    "\n",
    "answer_tokens = t.tensor(answer_tokens).to(device)\n",
    "\n",
    "print(answer_tokens)"
   ]
  },
  {
   "cell_type": "code",
   "execution_count": 9,
   "id": "39409b2e",
   "metadata": {},
   "outputs": [],
   "source": [
    "tokens = rlhf_model.to_tokens(prompts, prepend_bos = True)\n",
    "\n",
    "# base_logits.shape: [1,5,50257] --> # prompts, sequence length including prepend_bos , vocabulary size\n",
    "gpt2_logits, gpt2_cache = gpt2_model.run_with_cache(tokens)\n",
    "base_logits, base_cache = base_model.run_with_cache(tokens)\n",
    "rlhf_logits, rlhf_cache = rlhf_model.run_with_cache(tokens)"
   ]
  },
  {
   "cell_type": "code",
   "execution_count": 10,
   "id": "c66a25dd",
   "metadata": {},
   "outputs": [
    {
     "name": "stdout",
     "output_type": "stream",
     "text": [
      "Logit diff for gpt2 model: 1.595\n",
      "Logit diff for base model: -0.185\n",
      "Logit diff for rlhf model: 1.718\n"
     ]
    }
   ],
   "source": [
    "def logit_diff(logits, answer_tokens):\n",
    "    final_logit = logits[:, -1, :]\n",
    "    answer_logit = final_logit.gather(dim = -1, index = answer_tokens)\n",
    "    answer_logit_diff = answer_logit[:, 0] - answer_logit[:, 1]\n",
    "\n",
    "    return answer_logit_diff\n",
    "\n",
    "logit_diff_gpt2 = logit_diff(gpt2_logits, answer_tokens).item()\n",
    "logit_diff_base = logit_diff(base_logits, answer_tokens).item()\n",
    "logit_diff_rlhf = logit_diff(rlhf_logits, answer_tokens).item()\n",
    "print(f\"Logit diff for gpt2 model: {logit_diff_gpt2:.3f}\")\n",
    "print(f\"Logit diff for base model: {logit_diff_base:.3f}\")\n",
    "print(f\"Logit diff for rlhf model: {logit_diff_rlhf:.3f}\")"
   ]
  },
  {
   "cell_type": "code",
   "execution_count": 11,
   "id": "ff87a239",
   "metadata": {},
   "outputs": [],
   "source": [
    "# answer_residual_directions shape: [1, 2, 768] --> prompt, # tokens in answer_tokens, hidden size of model\n",
    "answer_residual_directions = rlhf_model.tokens_to_residual_directions(answer_tokens)\n",
    "logit_diff_directions = answer_residual_directions[:, 0, :] - answer_residual_directions[:, 1, :]"
   ]
  },
  {
   "cell_type": "code",
   "execution_count": 12,
   "id": "68df3fe0",
   "metadata": {},
   "outputs": [
    {
     "name": "stdout",
     "output_type": "stream",
     "text": [
      "\n",
      "Logit diff for gpt2 model: 1.595\n",
      "Scaled logit diff for gpt2 model: 0.568\n",
      "Diff in logit diff: -1.026\n",
      "\n",
      "Logit diff for base model: -0.185\n",
      "Scaled logit diff for base model: -0.877\n",
      "Diff in logit diff: -0.692\n",
      "\n",
      "Logit diff for rlhf model: 1.718\n",
      "Scaled logit diff for rlhf model: 0.687\n",
      "Diff in logit diff: -1.031\n"
     ]
    }
   ],
   "source": [
    "# cache syntax: [activation_name, layer_index, sub_layer_type]\n",
    "# final_residual_stream_xxx shape: [1, 5, 768]\n",
    "final_residual_stream_gpt2 = gpt2_cache[\"resid_post\", -1]\n",
    "final_residual_stream_base = base_cache[\"resid_post\", -1]\n",
    "final_residual_stream_rlhf = rlhf_cache[\"resid_post\", -1]\n",
    "\n",
    "# final_token_residual_stream_base_xxxx shape: [1, 768]\n",
    "final_token_residual_stream_gpt2 = final_residual_stream_gpt2[:, -1, :]\n",
    "final_token_residual_stream_base = final_residual_stream_base[:, -1, :]\n",
    "final_token_residual_stream_rlhf = final_residual_stream_rlhf[:, -1, :]\n",
    "\n",
    "# layernorm scaling so that the contribution at each layer is consistent across the network\n",
    "scaled_final_token_residual_stream_gpt2 = gpt2_cache.apply_ln_to_stack(final_token_residual_stream_gpt2, layer = -1, pos_slice = -1)\n",
    "scaled_final_token_residual_stream_base = base_cache.apply_ln_to_stack(final_token_residual_stream_base, layer = -1, pos_slice = -1)\n",
    "scaled_final_token_residual_stream_rlhf = rlhf_cache.apply_ln_to_stack(final_token_residual_stream_rlhf, layer = -1, pos_slice = -1)\n",
    "\n",
    "# the unnormalized logit for a token is the dot product bwtn the final residual stream and the token's embedding direction\n",
    "# since the dot product is additive (subtracting), dot producting with the different in the two token's embedding direction gives the logit differences\n",
    "ln_logit_diff_gpt2 = einsum(\"batch d_model, batch d_model -> \", scaled_final_token_residual_stream_gpt2, logit_diff_directions).item()\n",
    "ln_logit_diff_base = einsum(\"batch d_model, batch d_model -> \", scaled_final_token_residual_stream_base, logit_diff_directions).item()\n",
    "ln_logit_diff_rlhf = einsum(\"batch d_model, batch d_model -> \", scaled_final_token_residual_stream_rlhf, logit_diff_directions).item()\n",
    "\n",
    "print(f\"\\nLogit diff for gpt2 model: {logit_diff_gpt2:.3f}\")\n",
    "print(f\"Scaled logit diff for gpt2 model: {ln_logit_diff_gpt2:.3f}\")\n",
    "print(f\"Diff in logit diff: {(ln_logit_diff_gpt2 - logit_diff_gpt2):.3f}\")\n",
    "\n",
    "print(f\"\\nLogit diff for base model: {logit_diff_base:.3f}\")\n",
    "print(f\"Scaled logit diff for base model: {ln_logit_diff_base:.3f}\")\n",
    "print(f\"Diff in logit diff: {(ln_logit_diff_base - logit_diff_base):.3f}\")\n",
    "\n",
    "print(f\"\\nLogit diff for rlhf model: {logit_diff_rlhf:.3f}\")\n",
    "print(f\"Scaled logit diff for rlhf model: {ln_logit_diff_rlhf:.3f}\")\n",
    "print(f\"Diff in logit diff: {(ln_logit_diff_rlhf - logit_diff_rlhf):.3f}\")"
   ]
  },
  {
   "cell_type": "markdown",
   "id": "14779de6",
   "metadata": {},
   "source": [
    "The logit lens technique allows us to see what token the network would have predicted at each layer as information propagates through it. Still, we look at the logit difference between \"good\" and \"bad\" for both the `base_model` and `rlhf_model`."
   ]
  },
  {
   "cell_type": "code",
   "execution_count": 13,
   "id": "6b3f2f00",
   "metadata": {},
   "outputs": [],
   "source": [
    "# computes the logit difference for a stack of residual activations\n",
    "def residual_stack_to_logit_diff(residual_stack, cache) -> float:\n",
    "    scaled_residual_stack = cache.apply_ln_to_stack(residual_stack, layer = -1, pos_slice = -1)\n",
    "\n",
    "    return einsum(\"... batch d_model, batch d_model -> ...\", scaled_residual_stack, logit_diff_directions)\n",
    "\n",
    "# accumulated_resid: returns the sum of all residual stream contributions up to and including each layer/component\n",
    "# incl_mid: includes pre + mid layer contributions \n",
    "# accumulated_residual_xxxx shape: [25, 1, 768] --> 12 layers * 2 (pre + post) + 1 final unembed = 25 residual stream components\n",
    "accumulated_residual_gpt2, labels = gpt2_cache.accumulated_resid(layer = -1, incl_mid = True, pos_slice = -1, return_labels = True)\n",
    "logit_lens_logit_diffs_gpt2 = residual_stack_to_logit_diff(accumulated_residual_gpt2, base_cache)\n",
    "\n",
    "accumulated_residual_base, labels = base_cache.accumulated_resid(layer = -1, incl_mid = True, pos_slice = -1, return_labels = True)\n",
    "logit_lens_logit_diffs_base = residual_stack_to_logit_diff(accumulated_residual_base, base_cache)\n",
    "\n",
    "accumulated_residual_rlhf, labels = rlhf_cache.accumulated_resid(layer = -1, incl_mid = True, pos_slice = -1, return_labels = True)\n",
    "logit_lens_logit_diffs_rlhf = residual_stack_to_logit_diff(accumulated_residual_rlhf, rlhf_cache)"
   ]
  },
  {
   "cell_type": "code",
   "execution_count": 14,
   "id": "b98dba7d",
   "metadata": {},
   "outputs": [
    {
     "data": {
      "application/vnd.plotly.v1+json": {
       "config": {
        "plotlyServerURL": "https://plot.ly"
       },
       "data": [
        {
         "hovertemplate": "<b>%{hovertext}</b><br><br>variable=wide_variable_0<br>x=%{x}<br>value=%{y}<extra></extra>",
         "hovertext": [
          "0_pre",
          "0_mid",
          "1_pre",
          "1_mid",
          "2_pre",
          "2_mid",
          "3_pre",
          "3_mid",
          "4_pre",
          "4_mid",
          "5_pre",
          "5_mid",
          "6_pre",
          "6_mid",
          "7_pre",
          "7_mid",
          "8_pre",
          "8_mid",
          "9_pre",
          "9_mid",
          "10_pre",
          "10_mid",
          "11_pre",
          "11_mid",
          "final_post"
         ],
         "legendgroup": "wide_variable_0",
         "line": {
          "color": "#636efa",
          "dash": "solid"
         },
         "marker": {
          "symbol": "circle"
         },
         "mode": "lines",
         "name": "wide_variable_0",
         "orientation": "v",
         "showlegend": true,
         "type": "scatter",
         "x": {
          "bdata": "AAAAAAAAAAAAAAAAAADgPwAAAAAAAPA/AAAAAAAA+D8AAAAAAAAAQAAAAAAAAARAAAAAAAAACEAAAAAAAAAMQAAAAAAAABBAAAAAAAAAEkAAAAAAAAAUQAAAAAAAABZAAAAAAAAAGEAAAAAAAAAaQAAAAAAAABxAAAAAAAAAHkAAAAAAAAAgQAAAAAAAACFAAAAAAAAAIkAAAAAAAAAjQAAAAAAAACRAAAAAAAAAJUAAAAAAAAAmQAAAAAAAACdAAAAAAAAAKEA=",
          "dtype": "f8"
         },
         "xaxis": "x",
         "y": {
          "bdata": "Bw8IPUyUYz0mA4g+yTkqPrkegj7QeS8+al2qPbifAT0gTTC9wJTtvAAQizzAgf274Di3vHgpAT1wNgY+0Mg3PkC5OryAMoq85O9TvqpNub7gMwg9EKuUPJ5bIz/zmRw/sJUNPw==",
          "dtype": "f4"
         },
         "yaxis": "y"
        },
        {
         "hovertemplate": "<b>%{hovertext}</b><br><br>variable=wide_variable_1<br>x=%{x}<br>value=%{y}<extra></extra>",
         "hovertext": [
          "0_pre",
          "0_mid",
          "1_pre",
          "1_mid",
          "2_pre",
          "2_mid",
          "3_pre",
          "3_mid",
          "4_pre",
          "4_mid",
          "5_pre",
          "5_mid",
          "6_pre",
          "6_mid",
          "7_pre",
          "7_mid",
          "8_pre",
          "8_mid",
          "9_pre",
          "9_mid",
          "10_pre",
          "10_mid",
          "11_pre",
          "11_mid",
          "final_post"
         ],
         "legendgroup": "wide_variable_1",
         "line": {
          "color": "#EF553B",
          "dash": "solid"
         },
         "marker": {
          "symbol": "circle"
         },
         "mode": "lines",
         "name": "wide_variable_1",
         "orientation": "v",
         "showlegend": true,
         "type": "scatter",
         "x": {
          "bdata": "AAAAAAAAAAAAAAAAAADgPwAAAAAAAPA/AAAAAAAA+D8AAAAAAAAAQAAAAAAAAARAAAAAAAAACEAAAAAAAAAMQAAAAAAAABBAAAAAAAAAEkAAAAAAAAAUQAAAAAAAABZAAAAAAAAAGEAAAAAAAAAaQAAAAAAAABxAAAAAAAAAHkAAAAAAAAAgQAAAAAAAACFAAAAAAAAAIkAAAAAAAAAjQAAAAAAAACRAAAAAAAAAJUAAAAAAAAAmQAAAAAAAACdAAAAAAAAAKEA=",
          "dtype": "f8"
         },
         "xaxis": "x",
         "y": {
          "bdata": "w638PCj7jT0cgq4+ZleTPtaxpD64iYg+P8M6PszuLj7o2MQ96OvdPfQA+D3s4/I9SJ9hPRDL1z1bCIA+2cCVPkC50DsAh4E70oHFvpr5D786SQa/z1sSvxC35L7OAAS/OZpgvw==",
          "dtype": "f4"
         },
         "yaxis": "y"
        },
        {
         "hovertemplate": "<b>%{hovertext}</b><br><br>variable=wide_variable_2<br>x=%{x}<br>value=%{y}<extra></extra>",
         "hovertext": [
          "0_pre",
          "0_mid",
          "1_pre",
          "1_mid",
          "2_pre",
          "2_mid",
          "3_pre",
          "3_mid",
          "4_pre",
          "4_mid",
          "5_pre",
          "5_mid",
          "6_pre",
          "6_mid",
          "7_pre",
          "7_mid",
          "8_pre",
          "8_mid",
          "9_pre",
          "9_mid",
          "10_pre",
          "10_mid",
          "11_pre",
          "11_mid",
          "final_post"
         ],
         "legendgroup": "wide_variable_2",
         "line": {
          "color": "#00cc96",
          "dash": "solid"
         },
         "marker": {
          "symbol": "circle"
         },
         "mode": "lines",
         "name": "wide_variable_2",
         "orientation": "v",
         "showlegend": true,
         "type": "scatter",
         "x": {
          "bdata": "AAAAAAAAAAAAAAAAAADgPwAAAAAAAPA/AAAAAAAA+D8AAAAAAAAAQAAAAAAAAARAAAAAAAAACEAAAAAAAAAMQAAAAAAAABBAAAAAAAAAEkAAAAAAAAAUQAAAAAAAABZAAAAAAAAAGEAAAAAAAAAaQAAAAAAAABxAAAAAAAAAHkAAAAAAAAAgQAAAAAAAACFAAAAAAAAAIkAAAAAAAAAjQAAAAAAAACRAAAAAAAAAJUAAAAAAAAAmQAAAAAAAACdAAAAAAAAAKEA=",
          "dtype": "f8"
         },
         "xaxis": "x",
         "y": {
          "bdata": "nlwKPd0fXj3wqIQ+4n8mPozohT5iAUA+HImzPWhjAj1QOT29WJsAvUDtGzxAwlK8SFk4vQAYXDuYSd092DsmPtAKAL2AND+8TK9CvvqCqb7A/VA9MPVnPRIvNj8C5zI/VPQvPw==",
          "dtype": "f4"
         },
         "yaxis": "y"
        }
       ],
       "layout": {
        "legend": {
         "title": {
          "text": "variable"
         },
         "tracegroupgap": 0
        },
        "template": {
         "data": {
          "bar": [
           {
            "error_x": {
             "color": "#2a3f5f"
            },
            "error_y": {
             "color": "#2a3f5f"
            },
            "marker": {
             "line": {
              "color": "#E5ECF6",
              "width": 0.5
             },
             "pattern": {
              "fillmode": "overlay",
              "size": 10,
              "solidity": 0.2
             }
            },
            "type": "bar"
           }
          ],
          "barpolar": [
           {
            "marker": {
             "line": {
              "color": "#E5ECF6",
              "width": 0.5
             },
             "pattern": {
              "fillmode": "overlay",
              "size": 10,
              "solidity": 0.2
             }
            },
            "type": "barpolar"
           }
          ],
          "carpet": [
           {
            "aaxis": {
             "endlinecolor": "#2a3f5f",
             "gridcolor": "white",
             "linecolor": "white",
             "minorgridcolor": "white",
             "startlinecolor": "#2a3f5f"
            },
            "baxis": {
             "endlinecolor": "#2a3f5f",
             "gridcolor": "white",
             "linecolor": "white",
             "minorgridcolor": "white",
             "startlinecolor": "#2a3f5f"
            },
            "type": "carpet"
           }
          ],
          "choropleth": [
           {
            "colorbar": {
             "outlinewidth": 0,
             "ticks": ""
            },
            "type": "choropleth"
           }
          ],
          "contour": [
           {
            "colorbar": {
             "outlinewidth": 0,
             "ticks": ""
            },
            "colorscale": [
             [
              0,
              "#0d0887"
             ],
             [
              0.1111111111111111,
              "#46039f"
             ],
             [
              0.2222222222222222,
              "#7201a8"
             ],
             [
              0.3333333333333333,
              "#9c179e"
             ],
             [
              0.4444444444444444,
              "#bd3786"
             ],
             [
              0.5555555555555556,
              "#d8576b"
             ],
             [
              0.6666666666666666,
              "#ed7953"
             ],
             [
              0.7777777777777778,
              "#fb9f3a"
             ],
             [
              0.8888888888888888,
              "#fdca26"
             ],
             [
              1,
              "#f0f921"
             ]
            ],
            "type": "contour"
           }
          ],
          "contourcarpet": [
           {
            "colorbar": {
             "outlinewidth": 0,
             "ticks": ""
            },
            "type": "contourcarpet"
           }
          ],
          "heatmap": [
           {
            "colorbar": {
             "outlinewidth": 0,
             "ticks": ""
            },
            "colorscale": [
             [
              0,
              "#0d0887"
             ],
             [
              0.1111111111111111,
              "#46039f"
             ],
             [
              0.2222222222222222,
              "#7201a8"
             ],
             [
              0.3333333333333333,
              "#9c179e"
             ],
             [
              0.4444444444444444,
              "#bd3786"
             ],
             [
              0.5555555555555556,
              "#d8576b"
             ],
             [
              0.6666666666666666,
              "#ed7953"
             ],
             [
              0.7777777777777778,
              "#fb9f3a"
             ],
             [
              0.8888888888888888,
              "#fdca26"
             ],
             [
              1,
              "#f0f921"
             ]
            ],
            "type": "heatmap"
           }
          ],
          "histogram": [
           {
            "marker": {
             "pattern": {
              "fillmode": "overlay",
              "size": 10,
              "solidity": 0.2
             }
            },
            "type": "histogram"
           }
          ],
          "histogram2d": [
           {
            "colorbar": {
             "outlinewidth": 0,
             "ticks": ""
            },
            "colorscale": [
             [
              0,
              "#0d0887"
             ],
             [
              0.1111111111111111,
              "#46039f"
             ],
             [
              0.2222222222222222,
              "#7201a8"
             ],
             [
              0.3333333333333333,
              "#9c179e"
             ],
             [
              0.4444444444444444,
              "#bd3786"
             ],
             [
              0.5555555555555556,
              "#d8576b"
             ],
             [
              0.6666666666666666,
              "#ed7953"
             ],
             [
              0.7777777777777778,
              "#fb9f3a"
             ],
             [
              0.8888888888888888,
              "#fdca26"
             ],
             [
              1,
              "#f0f921"
             ]
            ],
            "type": "histogram2d"
           }
          ],
          "histogram2dcontour": [
           {
            "colorbar": {
             "outlinewidth": 0,
             "ticks": ""
            },
            "colorscale": [
             [
              0,
              "#0d0887"
             ],
             [
              0.1111111111111111,
              "#46039f"
             ],
             [
              0.2222222222222222,
              "#7201a8"
             ],
             [
              0.3333333333333333,
              "#9c179e"
             ],
             [
              0.4444444444444444,
              "#bd3786"
             ],
             [
              0.5555555555555556,
              "#d8576b"
             ],
             [
              0.6666666666666666,
              "#ed7953"
             ],
             [
              0.7777777777777778,
              "#fb9f3a"
             ],
             [
              0.8888888888888888,
              "#fdca26"
             ],
             [
              1,
              "#f0f921"
             ]
            ],
            "type": "histogram2dcontour"
           }
          ],
          "mesh3d": [
           {
            "colorbar": {
             "outlinewidth": 0,
             "ticks": ""
            },
            "type": "mesh3d"
           }
          ],
          "parcoords": [
           {
            "line": {
             "colorbar": {
              "outlinewidth": 0,
              "ticks": ""
             }
            },
            "type": "parcoords"
           }
          ],
          "pie": [
           {
            "automargin": true,
            "type": "pie"
           }
          ],
          "scatter": [
           {
            "fillpattern": {
             "fillmode": "overlay",
             "size": 10,
             "solidity": 0.2
            },
            "type": "scatter"
           }
          ],
          "scatter3d": [
           {
            "line": {
             "colorbar": {
              "outlinewidth": 0,
              "ticks": ""
             }
            },
            "marker": {
             "colorbar": {
              "outlinewidth": 0,
              "ticks": ""
             }
            },
            "type": "scatter3d"
           }
          ],
          "scattercarpet": [
           {
            "marker": {
             "colorbar": {
              "outlinewidth": 0,
              "ticks": ""
             }
            },
            "type": "scattercarpet"
           }
          ],
          "scattergeo": [
           {
            "marker": {
             "colorbar": {
              "outlinewidth": 0,
              "ticks": ""
             }
            },
            "type": "scattergeo"
           }
          ],
          "scattergl": [
           {
            "marker": {
             "colorbar": {
              "outlinewidth": 0,
              "ticks": ""
             }
            },
            "type": "scattergl"
           }
          ],
          "scattermap": [
           {
            "marker": {
             "colorbar": {
              "outlinewidth": 0,
              "ticks": ""
             }
            },
            "type": "scattermap"
           }
          ],
          "scattermapbox": [
           {
            "marker": {
             "colorbar": {
              "outlinewidth": 0,
              "ticks": ""
             }
            },
            "type": "scattermapbox"
           }
          ],
          "scatterpolar": [
           {
            "marker": {
             "colorbar": {
              "outlinewidth": 0,
              "ticks": ""
             }
            },
            "type": "scatterpolar"
           }
          ],
          "scatterpolargl": [
           {
            "marker": {
             "colorbar": {
              "outlinewidth": 0,
              "ticks": ""
             }
            },
            "type": "scatterpolargl"
           }
          ],
          "scatterternary": [
           {
            "marker": {
             "colorbar": {
              "outlinewidth": 0,
              "ticks": ""
             }
            },
            "type": "scatterternary"
           }
          ],
          "surface": [
           {
            "colorbar": {
             "outlinewidth": 0,
             "ticks": ""
            },
            "colorscale": [
             [
              0,
              "#0d0887"
             ],
             [
              0.1111111111111111,
              "#46039f"
             ],
             [
              0.2222222222222222,
              "#7201a8"
             ],
             [
              0.3333333333333333,
              "#9c179e"
             ],
             [
              0.4444444444444444,
              "#bd3786"
             ],
             [
              0.5555555555555556,
              "#d8576b"
             ],
             [
              0.6666666666666666,
              "#ed7953"
             ],
             [
              0.7777777777777778,
              "#fb9f3a"
             ],
             [
              0.8888888888888888,
              "#fdca26"
             ],
             [
              1,
              "#f0f921"
             ]
            ],
            "type": "surface"
           }
          ],
          "table": [
           {
            "cells": {
             "fill": {
              "color": "#EBF0F8"
             },
             "line": {
              "color": "white"
             }
            },
            "header": {
             "fill": {
              "color": "#C8D4E3"
             },
             "line": {
              "color": "white"
             }
            },
            "type": "table"
           }
          ]
         },
         "layout": {
          "annotationdefaults": {
           "arrowcolor": "#2a3f5f",
           "arrowhead": 0,
           "arrowwidth": 1
          },
          "autotypenumbers": "strict",
          "coloraxis": {
           "colorbar": {
            "outlinewidth": 0,
            "ticks": ""
           }
          },
          "colorscale": {
           "diverging": [
            [
             0,
             "#8e0152"
            ],
            [
             0.1,
             "#c51b7d"
            ],
            [
             0.2,
             "#de77ae"
            ],
            [
             0.3,
             "#f1b6da"
            ],
            [
             0.4,
             "#fde0ef"
            ],
            [
             0.5,
             "#f7f7f7"
            ],
            [
             0.6,
             "#e6f5d0"
            ],
            [
             0.7,
             "#b8e186"
            ],
            [
             0.8,
             "#7fbc41"
            ],
            [
             0.9,
             "#4d9221"
            ],
            [
             1,
             "#276419"
            ]
           ],
           "sequential": [
            [
             0,
             "#0d0887"
            ],
            [
             0.1111111111111111,
             "#46039f"
            ],
            [
             0.2222222222222222,
             "#7201a8"
            ],
            [
             0.3333333333333333,
             "#9c179e"
            ],
            [
             0.4444444444444444,
             "#bd3786"
            ],
            [
             0.5555555555555556,
             "#d8576b"
            ],
            [
             0.6666666666666666,
             "#ed7953"
            ],
            [
             0.7777777777777778,
             "#fb9f3a"
            ],
            [
             0.8888888888888888,
             "#fdca26"
            ],
            [
             1,
             "#f0f921"
            ]
           ],
           "sequentialminus": [
            [
             0,
             "#0d0887"
            ],
            [
             0.1111111111111111,
             "#46039f"
            ],
            [
             0.2222222222222222,
             "#7201a8"
            ],
            [
             0.3333333333333333,
             "#9c179e"
            ],
            [
             0.4444444444444444,
             "#bd3786"
            ],
            [
             0.5555555555555556,
             "#d8576b"
            ],
            [
             0.6666666666666666,
             "#ed7953"
            ],
            [
             0.7777777777777778,
             "#fb9f3a"
            ],
            [
             0.8888888888888888,
             "#fdca26"
            ],
            [
             1,
             "#f0f921"
            ]
           ]
          },
          "colorway": [
           "#636efa",
           "#EF553B",
           "#00cc96",
           "#ab63fa",
           "#FFA15A",
           "#19d3f3",
           "#FF6692",
           "#B6E880",
           "#FF97FF",
           "#FECB52"
          ],
          "font": {
           "color": "#2a3f5f"
          },
          "geo": {
           "bgcolor": "white",
           "lakecolor": "white",
           "landcolor": "#E5ECF6",
           "showlakes": true,
           "showland": true,
           "subunitcolor": "white"
          },
          "hoverlabel": {
           "align": "left"
          },
          "hovermode": "closest",
          "mapbox": {
           "style": "light"
          },
          "paper_bgcolor": "white",
          "plot_bgcolor": "#E5ECF6",
          "polar": {
           "angularaxis": {
            "gridcolor": "white",
            "linecolor": "white",
            "ticks": ""
           },
           "bgcolor": "#E5ECF6",
           "radialaxis": {
            "gridcolor": "white",
            "linecolor": "white",
            "ticks": ""
           }
          },
          "scene": {
           "xaxis": {
            "backgroundcolor": "#E5ECF6",
            "gridcolor": "white",
            "gridwidth": 2,
            "linecolor": "white",
            "showbackground": true,
            "ticks": "",
            "zerolinecolor": "white"
           },
           "yaxis": {
            "backgroundcolor": "#E5ECF6",
            "gridcolor": "white",
            "gridwidth": 2,
            "linecolor": "white",
            "showbackground": true,
            "ticks": "",
            "zerolinecolor": "white"
           },
           "zaxis": {
            "backgroundcolor": "#E5ECF6",
            "gridcolor": "white",
            "gridwidth": 2,
            "linecolor": "white",
            "showbackground": true,
            "ticks": "",
            "zerolinecolor": "white"
           }
          },
          "shapedefaults": {
           "line": {
            "color": "#2a3f5f"
           }
          },
          "ternary": {
           "aaxis": {
            "gridcolor": "white",
            "linecolor": "white",
            "ticks": ""
           },
           "baxis": {
            "gridcolor": "white",
            "linecolor": "white",
            "ticks": ""
           },
           "bgcolor": "#E5ECF6",
           "caxis": {
            "gridcolor": "white",
            "linecolor": "white",
            "ticks": ""
           }
          },
          "title": {
           "x": 0.05
          },
          "xaxis": {
           "automargin": true,
           "gridcolor": "white",
           "linecolor": "white",
           "ticks": "",
           "title": {
            "standoff": 15
           },
           "zerolinecolor": "white",
           "zerolinewidth": 2
          },
          "yaxis": {
           "automargin": true,
           "gridcolor": "white",
           "linecolor": "white",
           "ticks": "",
           "title": {
            "standoff": 15
           },
           "zerolinecolor": "white",
           "zerolinewidth": 2
          }
         }
        },
        "title": {
         "text": "Logit difference from accumulated residual stream"
        },
        "xaxis": {
         "anchor": "y",
         "domain": [
          0,
          1
         ],
         "title": {
          "text": "x"
         }
        },
        "yaxis": {
         "anchor": "x",
         "domain": [
          0,
          1
         ],
         "title": {
          "text": "value"
         }
        }
       }
      }
     },
     "metadata": {},
     "output_type": "display_data"
    }
   ],
   "source": [
    "px.line(y = [utils.to_numpy(logit_lens_logit_diffs_gpt2),\n",
    "             utils.to_numpy(logit_lens_logit_diffs_base), \n",
    "             utils.to_numpy(logit_lens_logit_diffs_rlhf),],\n",
    "        x = np.arange(25)/2,\n",
    "        hover_name = labels,\n",
    "        title = \"Logit difference from accumulated residual stream\").show()"
   ]
  },
  {
   "cell_type": "code",
   "execution_count": 17,
   "id": "574650a9",
   "metadata": {},
   "outputs": [
    {
     "data": {
      "application/vnd.plotly.v1+json": {
       "config": {
        "plotlyServerURL": "https://plot.ly"
       },
       "data": [
        {
         "hovertemplate": "<b>%{hovertext}</b><br><br>variable=wide_variable_0<br>index=%{x}<br>value=%{y}<extra></extra>",
         "hovertext": [
          "embed",
          "pos_embed",
          "0_attn_out",
          "0_mlp_out",
          "1_attn_out",
          "1_mlp_out",
          "2_attn_out",
          "2_mlp_out",
          "3_attn_out",
          "3_mlp_out",
          "4_attn_out",
          "4_mlp_out",
          "5_attn_out",
          "5_mlp_out",
          "6_attn_out",
          "6_mlp_out",
          "7_attn_out",
          "7_mlp_out",
          "8_attn_out",
          "8_mlp_out",
          "9_attn_out",
          "9_mlp_out",
          "10_attn_out",
          "10_mlp_out",
          "11_attn_out",
          "11_mlp_out"
         ],
         "legendgroup": "wide_variable_0",
         "line": {
          "color": "#636efa",
          "dash": "solid"
         },
         "marker": {
          "symbol": "circle"
         },
         "mode": "lines",
         "name": "wide_variable_0",
         "orientation": "v",
         "showlegend": true,
         "type": "scatter",
         "x": {
          "bdata": "AAECAwQFBgcICQoLDA0ODxAREhMUFRYXGBk=",
          "dtype": "i1"
         },
         "xaxis": "x",
         "y": {
          "bdata": "wu3bPDDB0DuICrc8NyFXPgKZy71OB7Q9PIepvT6WtL0QG1O9avaYvQ4LZjxTUjw9PXDKvACxb7zgxVw9JtjLPXhJRj1qdEO+KFezu46pQr5+qx6+JlTKPuh4d7xDth4/HjXYvAREcL0=",
          "dtype": "f4"
         },
         "yaxis": "y"
        },
        {
         "hovertemplate": "<b>%{hovertext}</b><br><br>variable=wide_variable_1<br>index=%{x}<br>value=%{y}<extra></extra>",
         "hovertext": [
          "embed",
          "pos_embed",
          "0_attn_out",
          "0_mlp_out",
          "1_attn_out",
          "1_mlp_out",
          "2_attn_out",
          "2_mlp_out",
          "3_attn_out",
          "3_mlp_out",
          "4_attn_out",
          "4_mlp_out",
          "5_attn_out",
          "5_mlp_out",
          "6_attn_out",
          "6_mlp_out",
          "7_attn_out",
          "7_mlp_out",
          "8_attn_out",
          "8_mlp_out",
          "9_attn_out",
          "9_mlp_out",
          "10_attn_out",
          "10_mlp_out",
          "11_attn_out",
          "11_mlp_out"
         ],
         "legendgroup": "wide_variable_1",
         "line": {
          "color": "#EF553B",
          "dash": "solid"
         },
         "marker": {
          "symbol": "circle"
         },
         "mode": "lines",
         "name": "wide_variable_1",
         "orientation": "v",
         "showlegend": true,
         "type": "scatter",
         "x": {
          "bdata": "AAECAwQFBgcICQoLDA0ODxAREhMUFRYXGBk=",
          "dtype": "i1"
         },
         "xaxis": "x",
         "y": {
          "bdata": "wpjfPNKB1Dt4hqc858lRPv6jxb12oso9cZ+Xvah5zL3grmS9Vs6fvQB4cjyolic9wle3vLCoA729GkY90mjWPT5cXj2IPka+dHugPAO8Nr6qVhC+sKLDPii7tzvAryc/6ARSvHSrPLw=",
          "dtype": "f4"
         },
         "yaxis": "y"
        }
       ],
       "layout": {
        "legend": {
         "title": {
          "text": "variable"
         },
         "tracegroupgap": 0
        },
        "template": {
         "data": {
          "bar": [
           {
            "error_x": {
             "color": "#2a3f5f"
            },
            "error_y": {
             "color": "#2a3f5f"
            },
            "marker": {
             "line": {
              "color": "#E5ECF6",
              "width": 0.5
             },
             "pattern": {
              "fillmode": "overlay",
              "size": 10,
              "solidity": 0.2
             }
            },
            "type": "bar"
           }
          ],
          "barpolar": [
           {
            "marker": {
             "line": {
              "color": "#E5ECF6",
              "width": 0.5
             },
             "pattern": {
              "fillmode": "overlay",
              "size": 10,
              "solidity": 0.2
             }
            },
            "type": "barpolar"
           }
          ],
          "carpet": [
           {
            "aaxis": {
             "endlinecolor": "#2a3f5f",
             "gridcolor": "white",
             "linecolor": "white",
             "minorgridcolor": "white",
             "startlinecolor": "#2a3f5f"
            },
            "baxis": {
             "endlinecolor": "#2a3f5f",
             "gridcolor": "white",
             "linecolor": "white",
             "minorgridcolor": "white",
             "startlinecolor": "#2a3f5f"
            },
            "type": "carpet"
           }
          ],
          "choropleth": [
           {
            "colorbar": {
             "outlinewidth": 0,
             "ticks": ""
            },
            "type": "choropleth"
           }
          ],
          "contour": [
           {
            "colorbar": {
             "outlinewidth": 0,
             "ticks": ""
            },
            "colorscale": [
             [
              0,
              "#0d0887"
             ],
             [
              0.1111111111111111,
              "#46039f"
             ],
             [
              0.2222222222222222,
              "#7201a8"
             ],
             [
              0.3333333333333333,
              "#9c179e"
             ],
             [
              0.4444444444444444,
              "#bd3786"
             ],
             [
              0.5555555555555556,
              "#d8576b"
             ],
             [
              0.6666666666666666,
              "#ed7953"
             ],
             [
              0.7777777777777778,
              "#fb9f3a"
             ],
             [
              0.8888888888888888,
              "#fdca26"
             ],
             [
              1,
              "#f0f921"
             ]
            ],
            "type": "contour"
           }
          ],
          "contourcarpet": [
           {
            "colorbar": {
             "outlinewidth": 0,
             "ticks": ""
            },
            "type": "contourcarpet"
           }
          ],
          "heatmap": [
           {
            "colorbar": {
             "outlinewidth": 0,
             "ticks": ""
            },
            "colorscale": [
             [
              0,
              "#0d0887"
             ],
             [
              0.1111111111111111,
              "#46039f"
             ],
             [
              0.2222222222222222,
              "#7201a8"
             ],
             [
              0.3333333333333333,
              "#9c179e"
             ],
             [
              0.4444444444444444,
              "#bd3786"
             ],
             [
              0.5555555555555556,
              "#d8576b"
             ],
             [
              0.6666666666666666,
              "#ed7953"
             ],
             [
              0.7777777777777778,
              "#fb9f3a"
             ],
             [
              0.8888888888888888,
              "#fdca26"
             ],
             [
              1,
              "#f0f921"
             ]
            ],
            "type": "heatmap"
           }
          ],
          "histogram": [
           {
            "marker": {
             "pattern": {
              "fillmode": "overlay",
              "size": 10,
              "solidity": 0.2
             }
            },
            "type": "histogram"
           }
          ],
          "histogram2d": [
           {
            "colorbar": {
             "outlinewidth": 0,
             "ticks": ""
            },
            "colorscale": [
             [
              0,
              "#0d0887"
             ],
             [
              0.1111111111111111,
              "#46039f"
             ],
             [
              0.2222222222222222,
              "#7201a8"
             ],
             [
              0.3333333333333333,
              "#9c179e"
             ],
             [
              0.4444444444444444,
              "#bd3786"
             ],
             [
              0.5555555555555556,
              "#d8576b"
             ],
             [
              0.6666666666666666,
              "#ed7953"
             ],
             [
              0.7777777777777778,
              "#fb9f3a"
             ],
             [
              0.8888888888888888,
              "#fdca26"
             ],
             [
              1,
              "#f0f921"
             ]
            ],
            "type": "histogram2d"
           }
          ],
          "histogram2dcontour": [
           {
            "colorbar": {
             "outlinewidth": 0,
             "ticks": ""
            },
            "colorscale": [
             [
              0,
              "#0d0887"
             ],
             [
              0.1111111111111111,
              "#46039f"
             ],
             [
              0.2222222222222222,
              "#7201a8"
             ],
             [
              0.3333333333333333,
              "#9c179e"
             ],
             [
              0.4444444444444444,
              "#bd3786"
             ],
             [
              0.5555555555555556,
              "#d8576b"
             ],
             [
              0.6666666666666666,
              "#ed7953"
             ],
             [
              0.7777777777777778,
              "#fb9f3a"
             ],
             [
              0.8888888888888888,
              "#fdca26"
             ],
             [
              1,
              "#f0f921"
             ]
            ],
            "type": "histogram2dcontour"
           }
          ],
          "mesh3d": [
           {
            "colorbar": {
             "outlinewidth": 0,
             "ticks": ""
            },
            "type": "mesh3d"
           }
          ],
          "parcoords": [
           {
            "line": {
             "colorbar": {
              "outlinewidth": 0,
              "ticks": ""
             }
            },
            "type": "parcoords"
           }
          ],
          "pie": [
           {
            "automargin": true,
            "type": "pie"
           }
          ],
          "scatter": [
           {
            "fillpattern": {
             "fillmode": "overlay",
             "size": 10,
             "solidity": 0.2
            },
            "type": "scatter"
           }
          ],
          "scatter3d": [
           {
            "line": {
             "colorbar": {
              "outlinewidth": 0,
              "ticks": ""
             }
            },
            "marker": {
             "colorbar": {
              "outlinewidth": 0,
              "ticks": ""
             }
            },
            "type": "scatter3d"
           }
          ],
          "scattercarpet": [
           {
            "marker": {
             "colorbar": {
              "outlinewidth": 0,
              "ticks": ""
             }
            },
            "type": "scattercarpet"
           }
          ],
          "scattergeo": [
           {
            "marker": {
             "colorbar": {
              "outlinewidth": 0,
              "ticks": ""
             }
            },
            "type": "scattergeo"
           }
          ],
          "scattergl": [
           {
            "marker": {
             "colorbar": {
              "outlinewidth": 0,
              "ticks": ""
             }
            },
            "type": "scattergl"
           }
          ],
          "scattermap": [
           {
            "marker": {
             "colorbar": {
              "outlinewidth": 0,
              "ticks": ""
             }
            },
            "type": "scattermap"
           }
          ],
          "scattermapbox": [
           {
            "marker": {
             "colorbar": {
              "outlinewidth": 0,
              "ticks": ""
             }
            },
            "type": "scattermapbox"
           }
          ],
          "scatterpolar": [
           {
            "marker": {
             "colorbar": {
              "outlinewidth": 0,
              "ticks": ""
             }
            },
            "type": "scatterpolar"
           }
          ],
          "scatterpolargl": [
           {
            "marker": {
             "colorbar": {
              "outlinewidth": 0,
              "ticks": ""
             }
            },
            "type": "scatterpolargl"
           }
          ],
          "scatterternary": [
           {
            "marker": {
             "colorbar": {
              "outlinewidth": 0,
              "ticks": ""
             }
            },
            "type": "scatterternary"
           }
          ],
          "surface": [
           {
            "colorbar": {
             "outlinewidth": 0,
             "ticks": ""
            },
            "colorscale": [
             [
              0,
              "#0d0887"
             ],
             [
              0.1111111111111111,
              "#46039f"
             ],
             [
              0.2222222222222222,
              "#7201a8"
             ],
             [
              0.3333333333333333,
              "#9c179e"
             ],
             [
              0.4444444444444444,
              "#bd3786"
             ],
             [
              0.5555555555555556,
              "#d8576b"
             ],
             [
              0.6666666666666666,
              "#ed7953"
             ],
             [
              0.7777777777777778,
              "#fb9f3a"
             ],
             [
              0.8888888888888888,
              "#fdca26"
             ],
             [
              1,
              "#f0f921"
             ]
            ],
            "type": "surface"
           }
          ],
          "table": [
           {
            "cells": {
             "fill": {
              "color": "#EBF0F8"
             },
             "line": {
              "color": "white"
             }
            },
            "header": {
             "fill": {
              "color": "#C8D4E3"
             },
             "line": {
              "color": "white"
             }
            },
            "type": "table"
           }
          ]
         },
         "layout": {
          "annotationdefaults": {
           "arrowcolor": "#2a3f5f",
           "arrowhead": 0,
           "arrowwidth": 1
          },
          "autotypenumbers": "strict",
          "coloraxis": {
           "colorbar": {
            "outlinewidth": 0,
            "ticks": ""
           }
          },
          "colorscale": {
           "diverging": [
            [
             0,
             "#8e0152"
            ],
            [
             0.1,
             "#c51b7d"
            ],
            [
             0.2,
             "#de77ae"
            ],
            [
             0.3,
             "#f1b6da"
            ],
            [
             0.4,
             "#fde0ef"
            ],
            [
             0.5,
             "#f7f7f7"
            ],
            [
             0.6,
             "#e6f5d0"
            ],
            [
             0.7,
             "#b8e186"
            ],
            [
             0.8,
             "#7fbc41"
            ],
            [
             0.9,
             "#4d9221"
            ],
            [
             1,
             "#276419"
            ]
           ],
           "sequential": [
            [
             0,
             "#0d0887"
            ],
            [
             0.1111111111111111,
             "#46039f"
            ],
            [
             0.2222222222222222,
             "#7201a8"
            ],
            [
             0.3333333333333333,
             "#9c179e"
            ],
            [
             0.4444444444444444,
             "#bd3786"
            ],
            [
             0.5555555555555556,
             "#d8576b"
            ],
            [
             0.6666666666666666,
             "#ed7953"
            ],
            [
             0.7777777777777778,
             "#fb9f3a"
            ],
            [
             0.8888888888888888,
             "#fdca26"
            ],
            [
             1,
             "#f0f921"
            ]
           ],
           "sequentialminus": [
            [
             0,
             "#0d0887"
            ],
            [
             0.1111111111111111,
             "#46039f"
            ],
            [
             0.2222222222222222,
             "#7201a8"
            ],
            [
             0.3333333333333333,
             "#9c179e"
            ],
            [
             0.4444444444444444,
             "#bd3786"
            ],
            [
             0.5555555555555556,
             "#d8576b"
            ],
            [
             0.6666666666666666,
             "#ed7953"
            ],
            [
             0.7777777777777778,
             "#fb9f3a"
            ],
            [
             0.8888888888888888,
             "#fdca26"
            ],
            [
             1,
             "#f0f921"
            ]
           ]
          },
          "colorway": [
           "#636efa",
           "#EF553B",
           "#00cc96",
           "#ab63fa",
           "#FFA15A",
           "#19d3f3",
           "#FF6692",
           "#B6E880",
           "#FF97FF",
           "#FECB52"
          ],
          "font": {
           "color": "#2a3f5f"
          },
          "geo": {
           "bgcolor": "white",
           "lakecolor": "white",
           "landcolor": "#E5ECF6",
           "showlakes": true,
           "showland": true,
           "subunitcolor": "white"
          },
          "hoverlabel": {
           "align": "left"
          },
          "hovermode": "closest",
          "mapbox": {
           "style": "light"
          },
          "paper_bgcolor": "white",
          "plot_bgcolor": "#E5ECF6",
          "polar": {
           "angularaxis": {
            "gridcolor": "white",
            "linecolor": "white",
            "ticks": ""
           },
           "bgcolor": "#E5ECF6",
           "radialaxis": {
            "gridcolor": "white",
            "linecolor": "white",
            "ticks": ""
           }
          },
          "scene": {
           "xaxis": {
            "backgroundcolor": "#E5ECF6",
            "gridcolor": "white",
            "gridwidth": 2,
            "linecolor": "white",
            "showbackground": true,
            "ticks": "",
            "zerolinecolor": "white"
           },
           "yaxis": {
            "backgroundcolor": "#E5ECF6",
            "gridcolor": "white",
            "gridwidth": 2,
            "linecolor": "white",
            "showbackground": true,
            "ticks": "",
            "zerolinecolor": "white"
           },
           "zaxis": {
            "backgroundcolor": "#E5ECF6",
            "gridcolor": "white",
            "gridwidth": 2,
            "linecolor": "white",
            "showbackground": true,
            "ticks": "",
            "zerolinecolor": "white"
           }
          },
          "shapedefaults": {
           "line": {
            "color": "#2a3f5f"
           }
          },
          "ternary": {
           "aaxis": {
            "gridcolor": "white",
            "linecolor": "white",
            "ticks": ""
           },
           "baxis": {
            "gridcolor": "white",
            "linecolor": "white",
            "ticks": ""
           },
           "bgcolor": "#E5ECF6",
           "caxis": {
            "gridcolor": "white",
            "linecolor": "white",
            "ticks": ""
           }
          },
          "title": {
           "x": 0.05
          },
          "xaxis": {
           "automargin": true,
           "gridcolor": "white",
           "linecolor": "white",
           "ticks": "",
           "title": {
            "standoff": 15
           },
           "zerolinecolor": "white",
           "zerolinewidth": 2
          },
          "yaxis": {
           "automargin": true,
           "gridcolor": "white",
           "linecolor": "white",
           "ticks": "",
           "title": {
            "standoff": 15
           },
           "zerolinecolor": "white",
           "zerolinewidth": 2
          }
         }
        },
        "title": {
         "text": "Logit difference from each layer"
        },
        "xaxis": {
         "anchor": "y",
         "domain": [
          0,
          1
         ],
         "title": {
          "text": "index"
         }
        },
        "yaxis": {
         "anchor": "x",
         "domain": [
          0,
          1
         ],
         "title": {
          "text": "value"
         }
        }
       }
      }
     },
     "metadata": {},
     "output_type": "display_data"
    }
   ],
   "source": [
    "per_layer_residual_gpt2, labels = gpt2_cache.decompose_resid(layer = -1, pos_slice = -1, return_labels = True)\n",
    "per_layer_logit_diffs_gpt2 = residual_stack_to_logit_diff(per_layer_residual_gpt2, base_cache)\n",
    "\n",
    "per_layer_residual_base, labels = base_cache.decompose_resid(layer = -1, pos_slice = -1, return_labels = True)\n",
    "per_layer_logit_diffs_base = residual_stack_to_logit_diff(per_layer_residual_base, base_cache)\n",
    "\n",
    "per_layer_residual_rlhf, labels = rlhf_cache.decompose_resid(layer = -1, pos_slice = -1, return_labels = True)\n",
    "per_layer_logit_diffs_rlhf = residual_stack_to_logit_diff(per_layer_residual_rlhf, rlhf_cache)\n",
    "\n",
    "px.line(y = [utils.to_numpy(per_layer_logit_diffs_gpt2), \n",
    "             utils.to_numpy(per_layer_logit_diffs_rlhf)],\n",
    "        hover_name = labels,\n",
    "        title = \"Logit difference from each layer\").show()"
   ]
  },
  {
   "cell_type": "code",
   "execution_count": 18,
   "id": "6be9a86e",
   "metadata": {},
   "outputs": [
    {
     "data": {
      "application/vnd.plotly.v1+json": {
       "config": {
        "plotlyServerURL": "https://plot.ly"
       },
       "data": [
        {
         "coloraxis": "coloraxis",
         "hovertemplate": "Neuron: %{x}<br>Pos: %{y}<br>color: %{z}<extra></extra>",
         "name": "0",
         "type": "heatmap",
         "xaxis": "x",
         "yaxis": "y",
         "z": {
          "bdata": "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",
          "dtype": "f4",
          "shape": "5, 3072"
         }
        }
       ],
       "layout": {
        "coloraxis": {
         "cmid": 0,
         "colorscale": [
          [
           0,
           "rgb(103,0,31)"
          ],
          [
           0.1,
           "rgb(178,24,43)"
          ],
          [
           0.2,
           "rgb(214,96,77)"
          ],
          [
           0.3,
           "rgb(244,165,130)"
          ],
          [
           0.4,
           "rgb(253,219,199)"
          ],
          [
           0.5,
           "rgb(247,247,247)"
          ],
          [
           0.6,
           "rgb(209,229,240)"
          ],
          [
           0.7,
           "rgb(146,197,222)"
          ],
          [
           0.8,
           "rgb(67,147,195)"
          ],
          [
           0.9,
           "rgb(33,102,172)"
          ],
          [
           1,
           "rgb(5,48,97)"
          ]
         ]
        },
        "template": {
         "data": {
          "bar": [
           {
            "error_x": {
             "color": "#2a3f5f"
            },
            "error_y": {
             "color": "#2a3f5f"
            },
            "marker": {
             "line": {
              "color": "#E5ECF6",
              "width": 0.5
             },
             "pattern": {
              "fillmode": "overlay",
              "size": 10,
              "solidity": 0.2
             }
            },
            "type": "bar"
           }
          ],
          "barpolar": [
           {
            "marker": {
             "line": {
              "color": "#E5ECF6",
              "width": 0.5
             },
             "pattern": {
              "fillmode": "overlay",
              "size": 10,
              "solidity": 0.2
             }
            },
            "type": "barpolar"
           }
          ],
          "carpet": [
           {
            "aaxis": {
             "endlinecolor": "#2a3f5f",
             "gridcolor": "white",
             "linecolor": "white",
             "minorgridcolor": "white",
             "startlinecolor": "#2a3f5f"
            },
            "baxis": {
             "endlinecolor": "#2a3f5f",
             "gridcolor": "white",
             "linecolor": "white",
             "minorgridcolor": "white",
             "startlinecolor": "#2a3f5f"
            },
            "type": "carpet"
           }
          ],
          "choropleth": [
           {
            "colorbar": {
             "outlinewidth": 0,
             "ticks": ""
            },
            "type": "choropleth"
           }
          ],
          "contour": [
           {
            "colorbar": {
             "outlinewidth": 0,
             "ticks": ""
            },
            "colorscale": [
             [
              0,
              "#0d0887"
             ],
             [
              0.1111111111111111,
              "#46039f"
             ],
             [
              0.2222222222222222,
              "#7201a8"
             ],
             [
              0.3333333333333333,
              "#9c179e"
             ],
             [
              0.4444444444444444,
              "#bd3786"
             ],
             [
              0.5555555555555556,
              "#d8576b"
             ],
             [
              0.6666666666666666,
              "#ed7953"
             ],
             [
              0.7777777777777778,
              "#fb9f3a"
             ],
             [
              0.8888888888888888,
              "#fdca26"
             ],
             [
              1,
              "#f0f921"
             ]
            ],
            "type": "contour"
           }
          ],
          "contourcarpet": [
           {
            "colorbar": {
             "outlinewidth": 0,
             "ticks": ""
            },
            "type": "contourcarpet"
           }
          ],
          "heatmap": [
           {
            "colorbar": {
             "outlinewidth": 0,
             "ticks": ""
            },
            "colorscale": [
             [
              0,
              "#0d0887"
             ],
             [
              0.1111111111111111,
              "#46039f"
             ],
             [
              0.2222222222222222,
              "#7201a8"
             ],
             [
              0.3333333333333333,
              "#9c179e"
             ],
             [
              0.4444444444444444,
              "#bd3786"
             ],
             [
              0.5555555555555556,
              "#d8576b"
             ],
             [
              0.6666666666666666,
              "#ed7953"
             ],
             [
              0.7777777777777778,
              "#fb9f3a"
             ],
             [
              0.8888888888888888,
              "#fdca26"
             ],
             [
              1,
              "#f0f921"
             ]
            ],
            "type": "heatmap"
           }
          ],
          "histogram": [
           {
            "marker": {
             "pattern": {
              "fillmode": "overlay",
              "size": 10,
              "solidity": 0.2
             }
            },
            "type": "histogram"
           }
          ],
          "histogram2d": [
           {
            "colorbar": {
             "outlinewidth": 0,
             "ticks": ""
            },
            "colorscale": [
             [
              0,
              "#0d0887"
             ],
             [
              0.1111111111111111,
              "#46039f"
             ],
             [
              0.2222222222222222,
              "#7201a8"
             ],
             [
              0.3333333333333333,
              "#9c179e"
             ],
             [
              0.4444444444444444,
              "#bd3786"
             ],
             [
              0.5555555555555556,
              "#d8576b"
             ],
             [
              0.6666666666666666,
              "#ed7953"
             ],
             [
              0.7777777777777778,
              "#fb9f3a"
             ],
             [
              0.8888888888888888,
              "#fdca26"
             ],
             [
              1,
              "#f0f921"
             ]
            ],
            "type": "histogram2d"
           }
          ],
          "histogram2dcontour": [
           {
            "colorbar": {
             "outlinewidth": 0,
             "ticks": ""
            },
            "colorscale": [
             [
              0,
              "#0d0887"
             ],
             [
              0.1111111111111111,
              "#46039f"
             ],
             [
              0.2222222222222222,
              "#7201a8"
             ],
             [
              0.3333333333333333,
              "#9c179e"
             ],
             [
              0.4444444444444444,
              "#bd3786"
             ],
             [
              0.5555555555555556,
              "#d8576b"
             ],
             [
              0.6666666666666666,
              "#ed7953"
             ],
             [
              0.7777777777777778,
              "#fb9f3a"
             ],
             [
              0.8888888888888888,
              "#fdca26"
             ],
             [
              1,
              "#f0f921"
             ]
            ],
            "type": "histogram2dcontour"
           }
          ],
          "mesh3d": [
           {
            "colorbar": {
             "outlinewidth": 0,
             "ticks": ""
            },
            "type": "mesh3d"
           }
          ],
          "parcoords": [
           {
            "line": {
             "colorbar": {
              "outlinewidth": 0,
              "ticks": ""
             }
            },
            "type": "parcoords"
           }
          ],
          "pie": [
           {
            "automargin": true,
            "type": "pie"
           }
          ],
          "scatter": [
           {
            "fillpattern": {
             "fillmode": "overlay",
             "size": 10,
             "solidity": 0.2
            },
            "type": "scatter"
           }
          ],
          "scatter3d": [
           {
            "line": {
             "colorbar": {
              "outlinewidth": 0,
              "ticks": ""
             }
            },
            "marker": {
             "colorbar": {
              "outlinewidth": 0,
              "ticks": ""
             }
            },
            "type": "scatter3d"
           }
          ],
          "scattercarpet": [
           {
            "marker": {
             "colorbar": {
              "outlinewidth": 0,
              "ticks": ""
             }
            },
            "type": "scattercarpet"
           }
          ],
          "scattergeo": [
           {
            "marker": {
             "colorbar": {
              "outlinewidth": 0,
              "ticks": ""
             }
            },
            "type": "scattergeo"
           }
          ],
          "scattergl": [
           {
            "marker": {
             "colorbar": {
              "outlinewidth": 0,
              "ticks": ""
             }
            },
            "type": "scattergl"
           }
          ],
          "scattermap": [
           {
            "marker": {
             "colorbar": {
              "outlinewidth": 0,
              "ticks": ""
             }
            },
            "type": "scattermap"
           }
          ],
          "scattermapbox": [
           {
            "marker": {
             "colorbar": {
              "outlinewidth": 0,
              "ticks": ""
             }
            },
            "type": "scattermapbox"
           }
          ],
          "scatterpolar": [
           {
            "marker": {
             "colorbar": {
              "outlinewidth": 0,
              "ticks": ""
             }
            },
            "type": "scatterpolar"
           }
          ],
          "scatterpolargl": [
           {
            "marker": {
             "colorbar": {
              "outlinewidth": 0,
              "ticks": ""
             }
            },
            "type": "scatterpolargl"
           }
          ],
          "scatterternary": [
           {
            "marker": {
             "colorbar": {
              "outlinewidth": 0,
              "ticks": ""
             }
            },
            "type": "scatterternary"
           }
          ],
          "surface": [
           {
            "colorbar": {
             "outlinewidth": 0,
             "ticks": ""
            },
            "colorscale": [
             [
              0,
              "#0d0887"
             ],
             [
              0.1111111111111111,
              "#46039f"
             ],
             [
              0.2222222222222222,
              "#7201a8"
             ],
             [
              0.3333333333333333,
              "#9c179e"
             ],
             [
              0.4444444444444444,
              "#bd3786"
             ],
             [
              0.5555555555555556,
              "#d8576b"
             ],
             [
              0.6666666666666666,
              "#ed7953"
             ],
             [
              0.7777777777777778,
              "#fb9f3a"
             ],
             [
              0.8888888888888888,
              "#fdca26"
             ],
             [
              1,
              "#f0f921"
             ]
            ],
            "type": "surface"
           }
          ],
          "table": [
           {
            "cells": {
             "fill": {
              "color": "#EBF0F8"
             },
             "line": {
              "color": "white"
             }
            },
            "header": {
             "fill": {
              "color": "#C8D4E3"
             },
             "line": {
              "color": "white"
             }
            },
            "type": "table"
           }
          ]
         },
         "layout": {
          "annotationdefaults": {
           "arrowcolor": "#2a3f5f",
           "arrowhead": 0,
           "arrowwidth": 1
          },
          "autotypenumbers": "strict",
          "coloraxis": {
           "colorbar": {
            "outlinewidth": 0,
            "ticks": ""
           }
          },
          "colorscale": {
           "diverging": [
            [
             0,
             "#8e0152"
            ],
            [
             0.1,
             "#c51b7d"
            ],
            [
             0.2,
             "#de77ae"
            ],
            [
             0.3,
             "#f1b6da"
            ],
            [
             0.4,
             "#fde0ef"
            ],
            [
             0.5,
             "#f7f7f7"
            ],
            [
             0.6,
             "#e6f5d0"
            ],
            [
             0.7,
             "#b8e186"
            ],
            [
             0.8,
             "#7fbc41"
            ],
            [
             0.9,
             "#4d9221"
            ],
            [
             1,
             "#276419"
            ]
           ],
           "sequential": [
            [
             0,
             "#0d0887"
            ],
            [
             0.1111111111111111,
             "#46039f"
            ],
            [
             0.2222222222222222,
             "#7201a8"
            ],
            [
             0.3333333333333333,
             "#9c179e"
            ],
            [
             0.4444444444444444,
             "#bd3786"
            ],
            [
             0.5555555555555556,
             "#d8576b"
            ],
            [
             0.6666666666666666,
             "#ed7953"
            ],
            [
             0.7777777777777778,
             "#fb9f3a"
            ],
            [
             0.8888888888888888,
             "#fdca26"
            ],
            [
             1,
             "#f0f921"
            ]
           ],
           "sequentialminus": [
            [
             0,
             "#0d0887"
            ],
            [
             0.1111111111111111,
             "#46039f"
            ],
            [
             0.2222222222222222,
             "#7201a8"
            ],
            [
             0.3333333333333333,
             "#9c179e"
            ],
            [
             0.4444444444444444,
             "#bd3786"
            ],
            [
             0.5555555555555556,
             "#d8576b"
            ],
            [
             0.6666666666666666,
             "#ed7953"
            ],
            [
             0.7777777777777778,
             "#fb9f3a"
            ],
            [
             0.8888888888888888,
             "#fdca26"
            ],
            [
             1,
             "#f0f921"
            ]
           ]
          },
          "colorway": [
           "#636efa",
           "#EF553B",
           "#00cc96",
           "#ab63fa",
           "#FFA15A",
           "#19d3f3",
           "#FF6692",
           "#B6E880",
           "#FF97FF",
           "#FECB52"
          ],
          "font": {
           "color": "#2a3f5f"
          },
          "geo": {
           "bgcolor": "white",
           "lakecolor": "white",
           "landcolor": "#E5ECF6",
           "showlakes": true,
           "showland": true,
           "subunitcolor": "white"
          },
          "hoverlabel": {
           "align": "left"
          },
          "hovermode": "closest",
          "mapbox": {
           "style": "light"
          },
          "paper_bgcolor": "white",
          "plot_bgcolor": "#E5ECF6",
          "polar": {
           "angularaxis": {
            "gridcolor": "white",
            "linecolor": "white",
            "ticks": ""
           },
           "bgcolor": "#E5ECF6",
           "radialaxis": {
            "gridcolor": "white",
            "linecolor": "white",
            "ticks": ""
           }
          },
          "scene": {
           "xaxis": {
            "backgroundcolor": "#E5ECF6",
            "gridcolor": "white",
            "gridwidth": 2,
            "linecolor": "white",
            "showbackground": true,
            "ticks": "",
            "zerolinecolor": "white"
           },
           "yaxis": {
            "backgroundcolor": "#E5ECF6",
            "gridcolor": "white",
            "gridwidth": 2,
            "linecolor": "white",
            "showbackground": true,
            "ticks": "",
            "zerolinecolor": "white"
           },
           "zaxis": {
            "backgroundcolor": "#E5ECF6",
            "gridcolor": "white",
            "gridwidth": 2,
            "linecolor": "white",
            "showbackground": true,
            "ticks": "",
            "zerolinecolor": "white"
           }
          },
          "shapedefaults": {
           "line": {
            "color": "#2a3f5f"
           }
          },
          "ternary": {
           "aaxis": {
            "gridcolor": "white",
            "linecolor": "white",
            "ticks": ""
           },
           "baxis": {
            "gridcolor": "white",
            "linecolor": "white",
            "ticks": ""
           },
           "bgcolor": "#E5ECF6",
           "caxis": {
            "gridcolor": "white",
            "linecolor": "white",
            "ticks": ""
           }
          },
          "title": {
           "x": 0.05
          },
          "xaxis": {
           "automargin": true,
           "gridcolor": "white",
           "linecolor": "white",
           "ticks": "",
           "title": {
            "standoff": 15
           },
           "zerolinecolor": "white",
           "zerolinewidth": 2
          },
          "yaxis": {
           "automargin": true,
           "gridcolor": "white",
           "linecolor": "white",
           "ticks": "",
           "title": {
            "standoff": 15
           },
           "zerolinecolor": "white",
           "zerolinewidth": 2
          }
         }
        },
        "title": {
         "text": "Neuron activations for single inputs"
        },
        "xaxis": {
         "anchor": "y",
         "domain": [
          0,
          1
         ],
         "title": {
          "text": "Neuron"
         }
        },
        "yaxis": {
         "anchor": "x",
         "autorange": "reversed",
         "domain": [
          0,
          1
         ],
         "title": {
          "text": "Pos"
         }
        }
       }
      }
     },
     "metadata": {},
     "output_type": "display_data"
    }
   ],
   "source": [
    "def imshow(tensor, renderer=None, xaxis=\"\", yaxis=\"\", **kwargs):\n",
    "    px.imshow(utils.to_numpy(tensor), color_continuous_midpoint=0.0, color_continuous_scale=\"RdBu\", labels={\"x\":xaxis, \"y\":yaxis}, **kwargs).show(renderer)\n",
    "    \n",
    "imshow(rlhf_cache[\"post\", 11][0], yaxis=\"Pos\", xaxis=\"Neuron\", title=\"Neuron activations for single inputs\", aspect=\"auto\")"
   ]
  },
  {
   "cell_type": "code",
   "execution_count": 22,
   "id": "3b84973e",
   "metadata": {},
   "outputs": [
    {
     "data": {
      "application/vnd.plotly.v1+json": {
       "config": {
        "plotlyServerURL": "https://plot.ly"
       },
       "data": [
        {
         "coloraxis": "coloraxis",
         "hovertemplate": "Head: %{x}<br>Layer: %{y}<br>color: %{z}<extra></extra>",
         "name": "0",
         "type": "heatmap",
         "xaxis": "x",
         "yaxis": "y",
         "z": {
          "bdata": "4Ju4usAWPLoAIFo5QKrmusDHz7ngk5g6AFKLuYDs0rqAWnk6AD+9OcAHG7pAjJM6kI02uiCivjkADk+6wOzVuQD2srg8dxu74Hk0OhiNyDoAfkY6ANrVOXAR8zqQAZQ7iNKMO+De9DoAyng6cLYNO8AiNDqQuoS6wFKHutgllTqAcis6gOe8uYAmYjoAggy4YDSOOoCpjLn4tqq6gIf7uYAqYDrAQDM5wKJUugBbajlgtS06sG7jumCI7jmgEuy69CMOOwChmTigSyq7gEWQuiCZsLqADik6JJ+KOxy3jbog2K+50FuyuhAxvzqAJZO5wH+XuYAcRjrALgI64PUruwBtWzmgcA66wHU/ugDq0DkAgGS2AMwWOFTvDTtAIVE7QALBu0DIerqQrpm6aDAZO5BICDrwFMg6wOvrucDPgDos9nC7QFItOuDO0Tq0exa7oPg/OWBnOzoASTM6CJiPOmDtlDpAGTg6gLx5O8AH5TmgvFC72DmnukCzDjrgeQI5eCcoOyCIjTogyZA7AFTYuICt2zvkQW87gFZzOdDT8DoQAvs6UI8tO8ANXbmwbEI60A+WOwCgyrZAwsa50FAxPKA25zmAeYu5wCvfOQD1HLnoJ0M6gC4xOcCRCDsAR5I5iLkEuuAcQrrQbYM7gMMrubzfIDzwOF06wHiEORCWRLpAjfY5eG4OPAAqjbmAgJC5oEcPu3AQBruQ9PI6gKjUurAOkLpAkrI58DYfugAzLDnQSEA8IC6mOoBep7ogJdk7",
          "dtype": "f4",
          "shape": "12, 12"
         }
        }
       ],
       "layout": {
        "coloraxis": {
         "cmid": 0,
         "colorscale": [
          [
           0,
           "rgb(103,0,31)"
          ],
          [
           0.1,
           "rgb(178,24,43)"
          ],
          [
           0.2,
           "rgb(214,96,77)"
          ],
          [
           0.3,
           "rgb(244,165,130)"
          ],
          [
           0.4,
           "rgb(253,219,199)"
          ],
          [
           0.5,
           "rgb(247,247,247)"
          ],
          [
           0.6,
           "rgb(209,229,240)"
          ],
          [
           0.7,
           "rgb(146,197,222)"
          ],
          [
           0.8,
           "rgb(67,147,195)"
          ],
          [
           0.9,
           "rgb(33,102,172)"
          ],
          [
           1,
           "rgb(5,48,97)"
          ]
         ]
        },
        "template": {
         "data": {
          "bar": [
           {
            "error_x": {
             "color": "#2a3f5f"
            },
            "error_y": {
             "color": "#2a3f5f"
            },
            "marker": {
             "line": {
              "color": "#E5ECF6",
              "width": 0.5
             },
             "pattern": {
              "fillmode": "overlay",
              "size": 10,
              "solidity": 0.2
             }
            },
            "type": "bar"
           }
          ],
          "barpolar": [
           {
            "marker": {
             "line": {
              "color": "#E5ECF6",
              "width": 0.5
             },
             "pattern": {
              "fillmode": "overlay",
              "size": 10,
              "solidity": 0.2
             }
            },
            "type": "barpolar"
           }
          ],
          "carpet": [
           {
            "aaxis": {
             "endlinecolor": "#2a3f5f",
             "gridcolor": "white",
             "linecolor": "white",
             "minorgridcolor": "white",
             "startlinecolor": "#2a3f5f"
            },
            "baxis": {
             "endlinecolor": "#2a3f5f",
             "gridcolor": "white",
             "linecolor": "white",
             "minorgridcolor": "white",
             "startlinecolor": "#2a3f5f"
            },
            "type": "carpet"
           }
          ],
          "choropleth": [
           {
            "colorbar": {
             "outlinewidth": 0,
             "ticks": ""
            },
            "type": "choropleth"
           }
          ],
          "contour": [
           {
            "colorbar": {
             "outlinewidth": 0,
             "ticks": ""
            },
            "colorscale": [
             [
              0,
              "#0d0887"
             ],
             [
              0.1111111111111111,
              "#46039f"
             ],
             [
              0.2222222222222222,
              "#7201a8"
             ],
             [
              0.3333333333333333,
              "#9c179e"
             ],
             [
              0.4444444444444444,
              "#bd3786"
             ],
             [
              0.5555555555555556,
              "#d8576b"
             ],
             [
              0.6666666666666666,
              "#ed7953"
             ],
             [
              0.7777777777777778,
              "#fb9f3a"
             ],
             [
              0.8888888888888888,
              "#fdca26"
             ],
             [
              1,
              "#f0f921"
             ]
            ],
            "type": "contour"
           }
          ],
          "contourcarpet": [
           {
            "colorbar": {
             "outlinewidth": 0,
             "ticks": ""
            },
            "type": "contourcarpet"
           }
          ],
          "heatmap": [
           {
            "colorbar": {
             "outlinewidth": 0,
             "ticks": ""
            },
            "colorscale": [
             [
              0,
              "#0d0887"
             ],
             [
              0.1111111111111111,
              "#46039f"
             ],
             [
              0.2222222222222222,
              "#7201a8"
             ],
             [
              0.3333333333333333,
              "#9c179e"
             ],
             [
              0.4444444444444444,
              "#bd3786"
             ],
             [
              0.5555555555555556,
              "#d8576b"
             ],
             [
              0.6666666666666666,
              "#ed7953"
             ],
             [
              0.7777777777777778,
              "#fb9f3a"
             ],
             [
              0.8888888888888888,
              "#fdca26"
             ],
             [
              1,
              "#f0f921"
             ]
            ],
            "type": "heatmap"
           }
          ],
          "histogram": [
           {
            "marker": {
             "pattern": {
              "fillmode": "overlay",
              "size": 10,
              "solidity": 0.2
             }
            },
            "type": "histogram"
           }
          ],
          "histogram2d": [
           {
            "colorbar": {
             "outlinewidth": 0,
             "ticks": ""
            },
            "colorscale": [
             [
              0,
              "#0d0887"
             ],
             [
              0.1111111111111111,
              "#46039f"
             ],
             [
              0.2222222222222222,
              "#7201a8"
             ],
             [
              0.3333333333333333,
              "#9c179e"
             ],
             [
              0.4444444444444444,
              "#bd3786"
             ],
             [
              0.5555555555555556,
              "#d8576b"
             ],
             [
              0.6666666666666666,
              "#ed7953"
             ],
             [
              0.7777777777777778,
              "#fb9f3a"
             ],
             [
              0.8888888888888888,
              "#fdca26"
             ],
             [
              1,
              "#f0f921"
             ]
            ],
            "type": "histogram2d"
           }
          ],
          "histogram2dcontour": [
           {
            "colorbar": {
             "outlinewidth": 0,
             "ticks": ""
            },
            "colorscale": [
             [
              0,
              "#0d0887"
             ],
             [
              0.1111111111111111,
              "#46039f"
             ],
             [
              0.2222222222222222,
              "#7201a8"
             ],
             [
              0.3333333333333333,
              "#9c179e"
             ],
             [
              0.4444444444444444,
              "#bd3786"
             ],
             [
              0.5555555555555556,
              "#d8576b"
             ],
             [
              0.6666666666666666,
              "#ed7953"
             ],
             [
              0.7777777777777778,
              "#fb9f3a"
             ],
             [
              0.8888888888888888,
              "#fdca26"
             ],
             [
              1,
              "#f0f921"
             ]
            ],
            "type": "histogram2dcontour"
           }
          ],
          "mesh3d": [
           {
            "colorbar": {
             "outlinewidth": 0,
             "ticks": ""
            },
            "type": "mesh3d"
           }
          ],
          "parcoords": [
           {
            "line": {
             "colorbar": {
              "outlinewidth": 0,
              "ticks": ""
             }
            },
            "type": "parcoords"
           }
          ],
          "pie": [
           {
            "automargin": true,
            "type": "pie"
           }
          ],
          "scatter": [
           {
            "fillpattern": {
             "fillmode": "overlay",
             "size": 10,
             "solidity": 0.2
            },
            "type": "scatter"
           }
          ],
          "scatter3d": [
           {
            "line": {
             "colorbar": {
              "outlinewidth": 0,
              "ticks": ""
             }
            },
            "marker": {
             "colorbar": {
              "outlinewidth": 0,
              "ticks": ""
             }
            },
            "type": "scatter3d"
           }
          ],
          "scattercarpet": [
           {
            "marker": {
             "colorbar": {
              "outlinewidth": 0,
              "ticks": ""
             }
            },
            "type": "scattercarpet"
           }
          ],
          "scattergeo": [
           {
            "marker": {
             "colorbar": {
              "outlinewidth": 0,
              "ticks": ""
             }
            },
            "type": "scattergeo"
           }
          ],
          "scattergl": [
           {
            "marker": {
             "colorbar": {
              "outlinewidth": 0,
              "ticks": ""
             }
            },
            "type": "scattergl"
           }
          ],
          "scattermap": [
           {
            "marker": {
             "colorbar": {
              "outlinewidth": 0,
              "ticks": ""
             }
            },
            "type": "scattermap"
           }
          ],
          "scattermapbox": [
           {
            "marker": {
             "colorbar": {
              "outlinewidth": 0,
              "ticks": ""
             }
            },
            "type": "scattermapbox"
           }
          ],
          "scatterpolar": [
           {
            "marker": {
             "colorbar": {
              "outlinewidth": 0,
              "ticks": ""
             }
            },
            "type": "scatterpolar"
           }
          ],
          "scatterpolargl": [
           {
            "marker": {
             "colorbar": {
              "outlinewidth": 0,
              "ticks": ""
             }
            },
            "type": "scatterpolargl"
           }
          ],
          "scatterternary": [
           {
            "marker": {
             "colorbar": {
              "outlinewidth": 0,
              "ticks": ""
             }
            },
            "type": "scatterternary"
           }
          ],
          "surface": [
           {
            "colorbar": {
             "outlinewidth": 0,
             "ticks": ""
            },
            "colorscale": [
             [
              0,
              "#0d0887"
             ],
             [
              0.1111111111111111,
              "#46039f"
             ],
             [
              0.2222222222222222,
              "#7201a8"
             ],
             [
              0.3333333333333333,
              "#9c179e"
             ],
             [
              0.4444444444444444,
              "#bd3786"
             ],
             [
              0.5555555555555556,
              "#d8576b"
             ],
             [
              0.6666666666666666,
              "#ed7953"
             ],
             [
              0.7777777777777778,
              "#fb9f3a"
             ],
             [
              0.8888888888888888,
              "#fdca26"
             ],
             [
              1,
              "#f0f921"
             ]
            ],
            "type": "surface"
           }
          ],
          "table": [
           {
            "cells": {
             "fill": {
              "color": "#EBF0F8"
             },
             "line": {
              "color": "white"
             }
            },
            "header": {
             "fill": {
              "color": "#C8D4E3"
             },
             "line": {
              "color": "white"
             }
            },
            "type": "table"
           }
          ]
         },
         "layout": {
          "annotationdefaults": {
           "arrowcolor": "#2a3f5f",
           "arrowhead": 0,
           "arrowwidth": 1
          },
          "autotypenumbers": "strict",
          "coloraxis": {
           "colorbar": {
            "outlinewidth": 0,
            "ticks": ""
           }
          },
          "colorscale": {
           "diverging": [
            [
             0,
             "#8e0152"
            ],
            [
             0.1,
             "#c51b7d"
            ],
            [
             0.2,
             "#de77ae"
            ],
            [
             0.3,
             "#f1b6da"
            ],
            [
             0.4,
             "#fde0ef"
            ],
            [
             0.5,
             "#f7f7f7"
            ],
            [
             0.6,
             "#e6f5d0"
            ],
            [
             0.7,
             "#b8e186"
            ],
            [
             0.8,
             "#7fbc41"
            ],
            [
             0.9,
             "#4d9221"
            ],
            [
             1,
             "#276419"
            ]
           ],
           "sequential": [
            [
             0,
             "#0d0887"
            ],
            [
             0.1111111111111111,
             "#46039f"
            ],
            [
             0.2222222222222222,
             "#7201a8"
            ],
            [
             0.3333333333333333,
             "#9c179e"
            ],
            [
             0.4444444444444444,
             "#bd3786"
            ],
            [
             0.5555555555555556,
             "#d8576b"
            ],
            [
             0.6666666666666666,
             "#ed7953"
            ],
            [
             0.7777777777777778,
             "#fb9f3a"
            ],
            [
             0.8888888888888888,
             "#fdca26"
            ],
            [
             1,
             "#f0f921"
            ]
           ],
           "sequentialminus": [
            [
             0,
             "#0d0887"
            ],
            [
             0.1111111111111111,
             "#46039f"
            ],
            [
             0.2222222222222222,
             "#7201a8"
            ],
            [
             0.3333333333333333,
             "#9c179e"
            ],
            [
             0.4444444444444444,
             "#bd3786"
            ],
            [
             0.5555555555555556,
             "#d8576b"
            ],
            [
             0.6666666666666666,
             "#ed7953"
            ],
            [
             0.7777777777777778,
             "#fb9f3a"
            ],
            [
             0.8888888888888888,
             "#fdca26"
            ],
            [
             1,
             "#f0f921"
            ]
           ]
          },
          "colorway": [
           "#636efa",
           "#EF553B",
           "#00cc96",
           "#ab63fa",
           "#FFA15A",
           "#19d3f3",
           "#FF6692",
           "#B6E880",
           "#FF97FF",
           "#FECB52"
          ],
          "font": {
           "color": "#2a3f5f"
          },
          "geo": {
           "bgcolor": "white",
           "lakecolor": "white",
           "landcolor": "#E5ECF6",
           "showlakes": true,
           "showland": true,
           "subunitcolor": "white"
          },
          "hoverlabel": {
           "align": "left"
          },
          "hovermode": "closest",
          "mapbox": {
           "style": "light"
          },
          "paper_bgcolor": "white",
          "plot_bgcolor": "#E5ECF6",
          "polar": {
           "angularaxis": {
            "gridcolor": "white",
            "linecolor": "white",
            "ticks": ""
           },
           "bgcolor": "#E5ECF6",
           "radialaxis": {
            "gridcolor": "white",
            "linecolor": "white",
            "ticks": ""
           }
          },
          "scene": {
           "xaxis": {
            "backgroundcolor": "#E5ECF6",
            "gridcolor": "white",
            "gridwidth": 2,
            "linecolor": "white",
            "showbackground": true,
            "ticks": "",
            "zerolinecolor": "white"
           },
           "yaxis": {
            "backgroundcolor": "#E5ECF6",
            "gridcolor": "white",
            "gridwidth": 2,
            "linecolor": "white",
            "showbackground": true,
            "ticks": "",
            "zerolinecolor": "white"
           },
           "zaxis": {
            "backgroundcolor": "#E5ECF6",
            "gridcolor": "white",
            "gridwidth": 2,
            "linecolor": "white",
            "showbackground": true,
            "ticks": "",
            "zerolinecolor": "white"
           }
          },
          "shapedefaults": {
           "line": {
            "color": "#2a3f5f"
           }
          },
          "ternary": {
           "aaxis": {
            "gridcolor": "white",
            "linecolor": "white",
            "ticks": ""
           },
           "baxis": {
            "gridcolor": "white",
            "linecolor": "white",
            "ticks": ""
           },
           "bgcolor": "#E5ECF6",
           "caxis": {
            "gridcolor": "white",
            "linecolor": "white",
            "ticks": ""
           }
          },
          "title": {
           "x": 0.05
          },
          "xaxis": {
           "automargin": true,
           "gridcolor": "white",
           "linecolor": "white",
           "ticks": "",
           "title": {
            "standoff": 15
           },
           "zerolinecolor": "white",
           "zerolinewidth": 2
          },
          "yaxis": {
           "automargin": true,
           "gridcolor": "white",
           "linecolor": "white",
           "ticks": "",
           "title": {
            "standoff": 15
           },
           "zerolinecolor": "white",
           "zerolinewidth": 2
          }
         }
        },
        "title": {
         "text": "Logit Difference From Each Head (rlhf - gpt2)"
        },
        "xaxis": {
         "anchor": "y",
         "constrain": "domain",
         "domain": [
          0,
          1
         ],
         "scaleanchor": "y",
         "title": {
          "text": "Head"
         }
        },
        "yaxis": {
         "anchor": "x",
         "autorange": "reversed",
         "constrain": "domain",
         "domain": [
          0,
          1
         ],
         "title": {
          "text": "Layer"
         }
        }
       }
      }
     },
     "metadata": {},
     "output_type": "display_data"
    }
   ],
   "source": [
    "per_head_residual_gpt2, labels = gpt2_cache.stack_head_results(layer=-1, pos_slice=-1, return_labels=True)\n",
    "per_head_logit_diffs_gpt2 = residual_stack_to_logit_diff(per_head_residual_gpt2, gpt2_cache)\n",
    "per_head_logit_diffs_gpt2 = einops.rearrange(per_head_logit_diffs_gpt2, \"(layer head_index) -> layer head_index\", layer=rlhf_model.cfg.n_layers, head_index=rlhf_model.cfg.n_heads)\n",
    "\n",
    "# per_head_residual_base, labels = base_cache.stack_head_results(layer=-1, pos_slice=-1, return_labels=True)\n",
    "# per_head_logit_diffs_base = residual_stack_to_logit_diff(per_head_residual_base, base_cache)\n",
    "# per_head_logit_diffs_base = einops.rearrange(per_head_logit_diffs_base, \"(layer head_index) -> layer head_index\", layer=rlhf_model.cfg.n_layers, head_index=rlhf_model.cfg.n_heads)\n",
    "\n",
    "per_head_residual_rlhf, labels = rlhf_cache.stack_head_results(layer=-1, pos_slice=-1, return_labels=True)\n",
    "per_head_logit_diffs_rlhf = residual_stack_to_logit_diff(per_head_residual_rlhf, rlhf_cache)\n",
    "per_head_logit_diffs_rlhf = einops.rearrange(per_head_logit_diffs_rlhf, \"(layer head_index) -> layer head_index\", layer=rlhf_model.cfg.n_layers, head_index=rlhf_model.cfg.n_heads)\n",
    "\n",
    "per_head_model_diffs_2 = per_head_logit_diffs_rlhf - per_head_logit_diffs_gpt2\n",
    "\n",
    "imshow(per_head_model_diffs_2, xaxis=\"Head\", yaxis=\"Layer\", title=\"Logit Difference From Each Head (rlhf - gpt2)\")"
   ]
  }
 ],
 "metadata": {
  "kernelspec": {
   "display_name": "Python 3",
   "language": "python",
   "name": "python3"
  },
  "language_info": {
   "codemirror_mode": {
    "name": "ipython",
    "version": 3
   },
   "file_extension": ".py",
   "mimetype": "text/x-python",
   "name": "python",
   "nbconvert_exporter": "python",
   "pygments_lexer": "ipython3",
   "version": "3.12.8"
  }
 },
 "nbformat": 4,
 "nbformat_minor": 5
}
